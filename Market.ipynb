{
 "cells": [
  {
   "cell_type": "code",
   "execution_count": 1,
   "id": "453c15ca-34ae-4acf-9cd1-e0d5a791e947",
   "metadata": {},
   "outputs": [],
   "source": [
    "import pandas as pd"
   ]
  },
  {
   "cell_type": "code",
   "execution_count": 2,
   "id": "aa1e8b16-bd66-4e03-ac95-7e0930449a34",
   "metadata": {},
   "outputs": [],
   "source": [
    "path=\"C:\\\\Users\\\\SALAMI\\\\Downloads\\\\Ad-data-Assignment-1 2.csv\" \n",
    "df=pd.read_csv(path)  # use your own file path"
   ]
  },
  {
   "cell_type": "code",
   "execution_count": 3,
   "id": "ff729514-0415-4640-8b21-cd865eb45e9b",
   "metadata": {},
   "outputs": [
    {
     "data": {
      "text/plain": [
       "16834"
      ]
     },
     "execution_count": 3,
     "metadata": {},
     "output_type": "execute_result"
    }
   ],
   "source": [
    "len(df)"
   ]
  },
  {
   "cell_type": "code",
   "execution_count": 4,
   "id": "c99feff0-96df-4dae-8096-2456caf5aaa9",
   "metadata": {},
   "outputs": [
    {
     "data": {
      "text/html": [
       "<div>\n",
       "<style scoped>\n",
       "    .dataframe tbody tr th:only-of-type {\n",
       "        vertical-align: middle;\n",
       "    }\n",
       "\n",
       "    .dataframe tbody tr th {\n",
       "        vertical-align: top;\n",
       "    }\n",
       "\n",
       "    .dataframe thead th {\n",
       "        text-align: right;\n",
       "    }\n",
       "</style>\n",
       "<table border=\"1\" class=\"dataframe\">\n",
       "  <thead>\n",
       "    <tr style=\"text-align: right;\">\n",
       "      <th></th>\n",
       "      <th>Date</th>\n",
       "      <th>product</th>\n",
       "      <th>phase</th>\n",
       "      <th>campaign_platform</th>\n",
       "      <th>campaign_type</th>\n",
       "      <th>communication_medium</th>\n",
       "      <th>subchannel</th>\n",
       "      <th>audience_type</th>\n",
       "      <th>creative_type</th>\n",
       "      <th>creative_name</th>\n",
       "      <th>device</th>\n",
       "      <th>age</th>\n",
       "      <th>spends</th>\n",
       "      <th>impressions</th>\n",
       "      <th>clicks</th>\n",
       "      <th>link_clicks</th>\n",
       "    </tr>\n",
       "  </thead>\n",
       "  <tbody>\n",
       "    <tr>\n",
       "      <th>0</th>\n",
       "      <td>2019-10-16</td>\n",
       "      <td>Product 1</td>\n",
       "      <td>Performance</td>\n",
       "      <td>Google Ads</td>\n",
       "      <td>Search</td>\n",
       "      <td>Search Keywords</td>\n",
       "      <td>Brand</td>\n",
       "      <td>'-</td>\n",
       "      <td>'-</td>\n",
       "      <td>'-</td>\n",
       "      <td>Desktop</td>\n",
       "      <td>18-24</td>\n",
       "      <td>0.00</td>\n",
       "      <td>2</td>\n",
       "      <td>0</td>\n",
       "      <td>0.0</td>\n",
       "    </tr>\n",
       "    <tr>\n",
       "      <th>1</th>\n",
       "      <td>2019-10-16</td>\n",
       "      <td>Product 1</td>\n",
       "      <td>Performance</td>\n",
       "      <td>Google Ads</td>\n",
       "      <td>Search</td>\n",
       "      <td>Search Keywords</td>\n",
       "      <td>Brand</td>\n",
       "      <td>'-</td>\n",
       "      <td>'-</td>\n",
       "      <td>'-</td>\n",
       "      <td>Desktop</td>\n",
       "      <td>25-34</td>\n",
       "      <td>0.00</td>\n",
       "      <td>5</td>\n",
       "      <td>0</td>\n",
       "      <td>0.0</td>\n",
       "    </tr>\n",
       "    <tr>\n",
       "      <th>2</th>\n",
       "      <td>2019-10-16</td>\n",
       "      <td>Product 1</td>\n",
       "      <td>Performance</td>\n",
       "      <td>Google Ads</td>\n",
       "      <td>Search</td>\n",
       "      <td>Search Keywords</td>\n",
       "      <td>Brand</td>\n",
       "      <td>'-</td>\n",
       "      <td>'-</td>\n",
       "      <td>'-</td>\n",
       "      <td>Desktop</td>\n",
       "      <td>35-44</td>\n",
       "      <td>0.00</td>\n",
       "      <td>1</td>\n",
       "      <td>0</td>\n",
       "      <td>0.0</td>\n",
       "    </tr>\n",
       "    <tr>\n",
       "      <th>3</th>\n",
       "      <td>2019-10-16</td>\n",
       "      <td>Product 1</td>\n",
       "      <td>Performance</td>\n",
       "      <td>Google Ads</td>\n",
       "      <td>Search</td>\n",
       "      <td>Search Keywords</td>\n",
       "      <td>Brand</td>\n",
       "      <td>'-</td>\n",
       "      <td>'-</td>\n",
       "      <td>'-</td>\n",
       "      <td>Desktop</td>\n",
       "      <td>Undetermined</td>\n",
       "      <td>14.63</td>\n",
       "      <td>5</td>\n",
       "      <td>3</td>\n",
       "      <td>0.0</td>\n",
       "    </tr>\n",
       "    <tr>\n",
       "      <th>4</th>\n",
       "      <td>2019-10-18</td>\n",
       "      <td>Product 1</td>\n",
       "      <td>Performance</td>\n",
       "      <td>Google Ads</td>\n",
       "      <td>Search</td>\n",
       "      <td>Search Keywords</td>\n",
       "      <td>Brand</td>\n",
       "      <td>'-</td>\n",
       "      <td>'-</td>\n",
       "      <td>'-</td>\n",
       "      <td>Desktop</td>\n",
       "      <td>18-24</td>\n",
       "      <td>53.31</td>\n",
       "      <td>10</td>\n",
       "      <td>2</td>\n",
       "      <td>0.0</td>\n",
       "    </tr>\n",
       "  </tbody>\n",
       "</table>\n",
       "</div>"
      ],
      "text/plain": [
       "         Date    product        phase campaign_platform campaign_type  \\\n",
       "0  2019-10-16  Product 1  Performance        Google Ads        Search   \n",
       "1  2019-10-16  Product 1  Performance        Google Ads        Search   \n",
       "2  2019-10-16  Product 1  Performance        Google Ads        Search   \n",
       "3  2019-10-16  Product 1  Performance        Google Ads        Search   \n",
       "4  2019-10-18  Product 1  Performance        Google Ads        Search   \n",
       "\n",
       "  communication_medium subchannel audience_type creative_type creative_name  \\\n",
       "0      Search Keywords      Brand            '-            '-            '-   \n",
       "1      Search Keywords      Brand            '-            '-            '-   \n",
       "2      Search Keywords      Brand            '-            '-            '-   \n",
       "3      Search Keywords      Brand            '-            '-            '-   \n",
       "4      Search Keywords      Brand            '-            '-            '-   \n",
       "\n",
       "    device           age  spends  impressions  clicks  link_clicks  \n",
       "0  Desktop         18-24    0.00            2       0          0.0  \n",
       "1  Desktop         25-34    0.00            5       0          0.0  \n",
       "2  Desktop         35-44    0.00            1       0          0.0  \n",
       "3  Desktop  Undetermined   14.63            5       3          0.0  \n",
       "4  Desktop         18-24   53.31           10       2          0.0  "
      ]
     },
     "execution_count": 4,
     "metadata": {},
     "output_type": "execute_result"
    }
   ],
   "source": [
    "df.head()"
   ]
  },
  {
   "cell_type": "code",
   "execution_count": 5,
   "id": "a66ebdb1-5dc8-454b-a98a-8cb7e7306540",
   "metadata": {},
   "outputs": [
    {
     "data": {
      "text/plain": [
       "Date                      0\n",
       "product                   0\n",
       "phase                     0\n",
       "campaign_platform         0\n",
       "campaign_type             0\n",
       "communication_medium      0\n",
       "subchannel                0\n",
       "audience_type             0\n",
       "creative_type             0\n",
       "creative_name             0\n",
       "device                    0\n",
       "age                       0\n",
       "spends                    0\n",
       "impressions               0\n",
       "clicks                    0\n",
       "link_clicks             546\n",
       "dtype: int64"
      ]
     },
     "execution_count": 5,
     "metadata": {},
     "output_type": "execute_result"
    }
   ],
   "source": [
    "#checking for null values in each column\n",
    "df.isnull().sum()"
   ]
  },
  {
   "cell_type": "code",
   "execution_count": 6,
   "id": "9511eaeb-be93-41df-94b4-00b06042e573",
   "metadata": {},
   "outputs": [
    {
     "data": {
      "text/plain": [
       "array([\"'-\", 'Audience 2', 'Audience 3', 'Audience 1'], dtype=object)"
      ]
     },
     "execution_count": 6,
     "metadata": {},
     "output_type": "execute_result"
    }
   ],
   "source": [
    "df.audience_type.unique()"
   ]
  },
  {
   "cell_type": "code",
   "execution_count": 7,
   "id": "6955d769-18da-4a03-924d-fa6b9c9dcf6f",
   "metadata": {},
   "outputs": [
    {
     "data": {
      "text/plain": [
       "array([\"'-\", 'Carousal', 'Image'], dtype=object)"
      ]
     },
     "execution_count": 7,
     "metadata": {},
     "output_type": "execute_result"
    }
   ],
   "source": [
    "df.creative_type.unique()"
   ]
  },
  {
   "cell_type": "code",
   "execution_count": 8,
   "id": "48b8ed70-0625-4065-aba7-4a2f7a721d84",
   "metadata": {},
   "outputs": [
    {
     "data": {
      "text/plain": [
       "array([\"'-\", 'Carousal', 'Click', 'Girl'], dtype=object)"
      ]
     },
     "execution_count": 8,
     "metadata": {},
     "output_type": "execute_result"
    }
   ],
   "source": [
    "df.creative_name.unique()"
   ]
  },
  {
   "cell_type": "code",
   "execution_count": 9,
   "id": "a706a07f-fd49-468f-b8d4-4d4202aca63d",
   "metadata": {},
   "outputs": [
    {
     "data": {
      "text/plain": [
       "array([  0.,   9.,   1.,  nan,  21.,   2.,   6.,  18.,   4.,   7.,   3.,\n",
       "        60.,   8.,  23.,  38.,   5.,  11.,  49.,  45.,  76.,  12.,  39.,\n",
       "        24.,  43.,  72.,  62.,  27.,  95.,  42.,  22.,  75.,  36.,  14.,\n",
       "        70.,  66.,  20.,  25.,  35.,  33.,  80.,  40.,  44.,  16.,  15.,\n",
       "        30.,  31.,  61.,  34.,  17.,  19.,  65.,  37.,  10.,  28.,  56.,\n",
       "        67.,  13.,  26., 137.,  29., 193., 187.,  46.,  55., 168.,  41.,\n",
       "        84., 161.,  47.,  98.,  94., 190., 221.,  57., 266.,  59., 151.,\n",
       "        68.,  48.,  54.,  82., 153., 192., 210., 222., 226., 149.,  58.,\n",
       "       138., 177., 140., 134., 165., 207., 270., 290.,  63., 336., 363.,\n",
       "       385.,  92.,  71., 358.,  99., 126., 377., 116.,  86., 260.,  85.,\n",
       "        97., 284., 104., 274.,  93.,  83., 269., 122., 383., 108., 450.,\n",
       "       135., 431., 131.,  32., 404., 414., 125., 308.,  96., 327., 333.,\n",
       "       114., 379., 110., 335., 101., 382., 111., 324., 103., 321., 119.,\n",
       "        53., 276.,  88., 252.,  77., 303., 299.,  81., 102., 354.,  89.,\n",
       "       300., 230.,  50., 302., 244., 277., 159.])"
      ]
     },
     "execution_count": 9,
     "metadata": {},
     "output_type": "execute_result"
    }
   ],
   "source": [
    "df.link_clicks.unique()"
   ]
  },
  {
   "cell_type": "code",
   "execution_count": 10,
   "id": "7553789c-02c3-4953-9775-f780a11b51b9",
   "metadata": {},
   "outputs": [
    {
     "data": {
      "text/plain": [
       "array([   0,    3,    2,   10,    4,    5,    1,   11,    9,    6,    7,\n",
       "         19,    8,   17,   12,   15,   18,   36,   60,   24,   23,   48,\n",
       "         35,   37,   32,   28,   14,   30,   26,   51,   16,   49,   42,\n",
       "         47,   52,   43,   50,   13,   53,   20,   33,   29,   25,   40,\n",
       "         27,   65,   39,   69,   66,   31,   54,   72,   21,   63,   22,\n",
       "         57,   41,   76,  105,   46,   90,  113,   58,  133,   64,  125,\n",
       "         78,  121,   77,  106,   38,   79,  129,   83,  103,   44,   87,\n",
       "         88,  126,  108,  136,   85,   34,   59,   99,  109,   73,   70,\n",
       "         84,  115,   56,   82,  117,   45,   74,  130,   62,  114,   55,\n",
       "         68,   80,  124,   75,  147,   95,  116,  166,  100,  152,   86,\n",
       "        219,   71,  102,  110,  168,  134,  142,  167,   67,   98,  145,\n",
       "        172,  120,   93,  156,  137,   92,  160,  127,  324,   89,  426,\n",
       "        128,  158,  162,  417,   94,  135,  418,  111,  199,   91,  396,\n",
       "        143,  144,  254,  249,   61,  131,  391,  577,  112,  655,  211,\n",
       "        139,  150,   81,  306,  104,  155,  140,  119,  107,   97,  154,\n",
       "        148,  318,  405,  448,  118,  486,  496,  399,  101,  327,  192,\n",
       "        264,  132,  334,  294,  256,  317,  385,  594,  208,  552,  122,\n",
       "        811,  169,  328,  836,  181,  243,  153,  868,  214,  866,  223,\n",
       "        184,  924,  227,  586,  209,   96,  714,  230,  614,  217,  190,\n",
       "        138,  646,  346,  861,  257, 1075,  332, 1025,  902,  285,  157,\n",
       "        978,  279,  739,  215,  792,  252,  880,  253,  781,  228,  899,\n",
       "        273,  793,  271,  716,  265,  612,  189,  146,  628,  599,  222,\n",
       "        653,  174,  774,  248,  771,  159,  721,  261,  824,  697,  232,\n",
       "        220,  745,  229,  177,  702,  195,  170,  551,  597,  390],\n",
       "      dtype=int64)"
      ]
     },
     "execution_count": 10,
     "metadata": {},
     "output_type": "execute_result"
    }
   ],
   "source": [
    "df.clicks.unique()"
   ]
  },
  {
   "cell_type": "code",
   "execution_count": 11,
   "id": "1d5989ca-7773-45c2-8809-69c6e3762ff7",
   "metadata": {},
   "outputs": [
    {
     "data": {
      "text/plain": [
       "array([    2,     5,     1, ...,  1479, 27768,  8801], dtype=int64)"
      ]
     },
     "execution_count": 11,
     "metadata": {},
     "output_type": "execute_result"
    }
   ],
   "source": [
    "df.impressions.unique()"
   ]
  },
  {
   "cell_type": "code",
   "execution_count": 12,
   "id": "fc004c38-327a-4da9-888c-c6e863b6ed46",
   "metadata": {},
   "outputs": [
    {
     "data": {
      "text/plain": [
       "array(['Google Ads', 'Facebook Ads'], dtype=object)"
      ]
     },
     "execution_count": 12,
     "metadata": {},
     "output_type": "execute_result"
    }
   ],
   "source": [
    "df.campaign_platform.unique()"
   ]
  },
  {
   "cell_type": "code",
   "execution_count": 13,
   "id": "fb75485f-15b7-4216-ad51-14b6b48d4fa2",
   "metadata": {},
   "outputs": [
    {
     "data": {
      "text/plain": [
       "array(['Search', 'Conversions'], dtype=object)"
      ]
     },
     "execution_count": 13,
     "metadata": {},
     "output_type": "execute_result"
    }
   ],
   "source": [
    "df.campaign_type.unique()"
   ]
  },
  {
   "cell_type": "code",
   "execution_count": 14,
   "id": "7db0aff1-ec77-420c-99fa-db4bee93d7c8",
   "metadata": {},
   "outputs": [
    {
     "data": {
      "text/html": [
       "<div>\n",
       "<style scoped>\n",
       "    .dataframe tbody tr th:only-of-type {\n",
       "        vertical-align: middle;\n",
       "    }\n",
       "\n",
       "    .dataframe tbody tr th {\n",
       "        vertical-align: top;\n",
       "    }\n",
       "\n",
       "    .dataframe thead th {\n",
       "        text-align: right;\n",
       "    }\n",
       "</style>\n",
       "<table border=\"1\" class=\"dataframe\">\n",
       "  <thead>\n",
       "    <tr style=\"text-align: right;\">\n",
       "      <th></th>\n",
       "      <th>Date</th>\n",
       "      <th>product</th>\n",
       "      <th>phase</th>\n",
       "      <th>campaign_platform</th>\n",
       "      <th>campaign_type</th>\n",
       "      <th>communication_medium</th>\n",
       "      <th>subchannel</th>\n",
       "      <th>audience_type</th>\n",
       "      <th>creative_type</th>\n",
       "      <th>creative_name</th>\n",
       "      <th>device</th>\n",
       "      <th>age</th>\n",
       "      <th>spends</th>\n",
       "      <th>impressions</th>\n",
       "      <th>clicks</th>\n",
       "      <th>link_clicks</th>\n",
       "    </tr>\n",
       "  </thead>\n",
       "  <tbody>\n",
       "    <tr>\n",
       "      <th>0</th>\n",
       "      <td>2019-10-16</td>\n",
       "      <td>Product 1</td>\n",
       "      <td>Performance</td>\n",
       "      <td>Google Ads</td>\n",
       "      <td>Search</td>\n",
       "      <td>Search Keywords</td>\n",
       "      <td>Brand</td>\n",
       "      <td>'-</td>\n",
       "      <td>'-</td>\n",
       "      <td>'-</td>\n",
       "      <td>Desktop</td>\n",
       "      <td>18-24</td>\n",
       "      <td>0.00</td>\n",
       "      <td>2</td>\n",
       "      <td>0</td>\n",
       "      <td>0.0</td>\n",
       "    </tr>\n",
       "    <tr>\n",
       "      <th>1</th>\n",
       "      <td>2019-10-16</td>\n",
       "      <td>Product 1</td>\n",
       "      <td>Performance</td>\n",
       "      <td>Google Ads</td>\n",
       "      <td>Search</td>\n",
       "      <td>Search Keywords</td>\n",
       "      <td>Brand</td>\n",
       "      <td>'-</td>\n",
       "      <td>'-</td>\n",
       "      <td>'-</td>\n",
       "      <td>Desktop</td>\n",
       "      <td>25-34</td>\n",
       "      <td>0.00</td>\n",
       "      <td>5</td>\n",
       "      <td>0</td>\n",
       "      <td>0.0</td>\n",
       "    </tr>\n",
       "    <tr>\n",
       "      <th>2</th>\n",
       "      <td>2019-10-16</td>\n",
       "      <td>Product 1</td>\n",
       "      <td>Performance</td>\n",
       "      <td>Google Ads</td>\n",
       "      <td>Search</td>\n",
       "      <td>Search Keywords</td>\n",
       "      <td>Brand</td>\n",
       "      <td>'-</td>\n",
       "      <td>'-</td>\n",
       "      <td>'-</td>\n",
       "      <td>Desktop</td>\n",
       "      <td>35-44</td>\n",
       "      <td>0.00</td>\n",
       "      <td>1</td>\n",
       "      <td>0</td>\n",
       "      <td>0.0</td>\n",
       "    </tr>\n",
       "    <tr>\n",
       "      <th>3</th>\n",
       "      <td>2019-10-16</td>\n",
       "      <td>Product 1</td>\n",
       "      <td>Performance</td>\n",
       "      <td>Google Ads</td>\n",
       "      <td>Search</td>\n",
       "      <td>Search Keywords</td>\n",
       "      <td>Brand</td>\n",
       "      <td>'-</td>\n",
       "      <td>'-</td>\n",
       "      <td>'-</td>\n",
       "      <td>Desktop</td>\n",
       "      <td>Undetermined</td>\n",
       "      <td>14.63</td>\n",
       "      <td>5</td>\n",
       "      <td>3</td>\n",
       "      <td>0.0</td>\n",
       "    </tr>\n",
       "    <tr>\n",
       "      <th>4</th>\n",
       "      <td>2019-10-18</td>\n",
       "      <td>Product 1</td>\n",
       "      <td>Performance</td>\n",
       "      <td>Google Ads</td>\n",
       "      <td>Search</td>\n",
       "      <td>Search Keywords</td>\n",
       "      <td>Brand</td>\n",
       "      <td>'-</td>\n",
       "      <td>'-</td>\n",
       "      <td>'-</td>\n",
       "      <td>Desktop</td>\n",
       "      <td>18-24</td>\n",
       "      <td>53.31</td>\n",
       "      <td>10</td>\n",
       "      <td>2</td>\n",
       "      <td>0.0</td>\n",
       "    </tr>\n",
       "    <tr>\n",
       "      <th>...</th>\n",
       "      <td>...</td>\n",
       "      <td>...</td>\n",
       "      <td>...</td>\n",
       "      <td>...</td>\n",
       "      <td>...</td>\n",
       "      <td>...</td>\n",
       "      <td>...</td>\n",
       "      <td>...</td>\n",
       "      <td>...</td>\n",
       "      <td>...</td>\n",
       "      <td>...</td>\n",
       "      <td>...</td>\n",
       "      <td>...</td>\n",
       "      <td>...</td>\n",
       "      <td>...</td>\n",
       "      <td>...</td>\n",
       "    </tr>\n",
       "    <tr>\n",
       "      <th>16829</th>\n",
       "      <td>2020-07-07</td>\n",
       "      <td>Product 1</td>\n",
       "      <td>Performance</td>\n",
       "      <td>Google Ads</td>\n",
       "      <td>Search</td>\n",
       "      <td>Search Keywords</td>\n",
       "      <td>Brand</td>\n",
       "      <td>'-</td>\n",
       "      <td>'-</td>\n",
       "      <td>'-</td>\n",
       "      <td>Mobile</td>\n",
       "      <td>25-34</td>\n",
       "      <td>19.88</td>\n",
       "      <td>36</td>\n",
       "      <td>15</td>\n",
       "      <td>0.0</td>\n",
       "    </tr>\n",
       "    <tr>\n",
       "      <th>16830</th>\n",
       "      <td>2020-07-07</td>\n",
       "      <td>Product 1</td>\n",
       "      <td>Performance</td>\n",
       "      <td>Google Ads</td>\n",
       "      <td>Search</td>\n",
       "      <td>Search Keywords</td>\n",
       "      <td>Brand</td>\n",
       "      <td>'-</td>\n",
       "      <td>'-</td>\n",
       "      <td>'-</td>\n",
       "      <td>Mobile</td>\n",
       "      <td>35-44</td>\n",
       "      <td>1.64</td>\n",
       "      <td>11</td>\n",
       "      <td>1</td>\n",
       "      <td>0.0</td>\n",
       "    </tr>\n",
       "    <tr>\n",
       "      <th>16831</th>\n",
       "      <td>2020-07-07</td>\n",
       "      <td>Product 1</td>\n",
       "      <td>Performance</td>\n",
       "      <td>Google Ads</td>\n",
       "      <td>Search</td>\n",
       "      <td>Search Keywords</td>\n",
       "      <td>Brand</td>\n",
       "      <td>'-</td>\n",
       "      <td>'-</td>\n",
       "      <td>'-</td>\n",
       "      <td>Mobile</td>\n",
       "      <td>45-54</td>\n",
       "      <td>0.00</td>\n",
       "      <td>3</td>\n",
       "      <td>0</td>\n",
       "      <td>0.0</td>\n",
       "    </tr>\n",
       "    <tr>\n",
       "      <th>16832</th>\n",
       "      <td>2020-07-07</td>\n",
       "      <td>Product 1</td>\n",
       "      <td>Performance</td>\n",
       "      <td>Google Ads</td>\n",
       "      <td>Search</td>\n",
       "      <td>Search Keywords</td>\n",
       "      <td>Brand</td>\n",
       "      <td>'-</td>\n",
       "      <td>'-</td>\n",
       "      <td>'-</td>\n",
       "      <td>Mobile</td>\n",
       "      <td>65 or more</td>\n",
       "      <td>0.00</td>\n",
       "      <td>3</td>\n",
       "      <td>0</td>\n",
       "      <td>0.0</td>\n",
       "    </tr>\n",
       "    <tr>\n",
       "      <th>16833</th>\n",
       "      <td>2020-07-07</td>\n",
       "      <td>Product 1</td>\n",
       "      <td>Performance</td>\n",
       "      <td>Google Ads</td>\n",
       "      <td>Search</td>\n",
       "      <td>Search Keywords</td>\n",
       "      <td>Brand</td>\n",
       "      <td>'-</td>\n",
       "      <td>'-</td>\n",
       "      <td>'-</td>\n",
       "      <td>Mobile</td>\n",
       "      <td>Undetermined</td>\n",
       "      <td>1.40</td>\n",
       "      <td>14</td>\n",
       "      <td>1</td>\n",
       "      <td>0.0</td>\n",
       "    </tr>\n",
       "  </tbody>\n",
       "</table>\n",
       "<p>15101 rows × 16 columns</p>\n",
       "</div>"
      ],
      "text/plain": [
       "             Date    product        phase campaign_platform campaign_type  \\\n",
       "0      2019-10-16  Product 1  Performance        Google Ads        Search   \n",
       "1      2019-10-16  Product 1  Performance        Google Ads        Search   \n",
       "2      2019-10-16  Product 1  Performance        Google Ads        Search   \n",
       "3      2019-10-16  Product 1  Performance        Google Ads        Search   \n",
       "4      2019-10-18  Product 1  Performance        Google Ads        Search   \n",
       "...           ...        ...          ...               ...           ...   \n",
       "16829  2020-07-07  Product 1  Performance        Google Ads        Search   \n",
       "16830  2020-07-07  Product 1  Performance        Google Ads        Search   \n",
       "16831  2020-07-07  Product 1  Performance        Google Ads        Search   \n",
       "16832  2020-07-07  Product 1  Performance        Google Ads        Search   \n",
       "16833  2020-07-07  Product 1  Performance        Google Ads        Search   \n",
       "\n",
       "      communication_medium subchannel audience_type creative_type  \\\n",
       "0          Search Keywords      Brand            '-            '-   \n",
       "1          Search Keywords      Brand            '-            '-   \n",
       "2          Search Keywords      Brand            '-            '-   \n",
       "3          Search Keywords      Brand            '-            '-   \n",
       "4          Search Keywords      Brand            '-            '-   \n",
       "...                    ...        ...           ...           ...   \n",
       "16829      Search Keywords      Brand            '-            '-   \n",
       "16830      Search Keywords      Brand            '-            '-   \n",
       "16831      Search Keywords      Brand            '-            '-   \n",
       "16832      Search Keywords      Brand            '-            '-   \n",
       "16833      Search Keywords      Brand            '-            '-   \n",
       "\n",
       "      creative_name   device           age  spends  impressions  clicks  \\\n",
       "0                '-  Desktop         18-24    0.00            2       0   \n",
       "1                '-  Desktop         25-34    0.00            5       0   \n",
       "2                '-  Desktop         35-44    0.00            1       0   \n",
       "3                '-  Desktop  Undetermined   14.63            5       3   \n",
       "4                '-  Desktop         18-24   53.31           10       2   \n",
       "...             ...      ...           ...     ...          ...     ...   \n",
       "16829            '-   Mobile         25-34   19.88           36      15   \n",
       "16830            '-   Mobile         35-44    1.64           11       1   \n",
       "16831            '-   Mobile         45-54    0.00            3       0   \n",
       "16832            '-   Mobile    65 or more    0.00            3       0   \n",
       "16833            '-   Mobile  Undetermined    1.40           14       1   \n",
       "\n",
       "       link_clicks  \n",
       "0              0.0  \n",
       "1              0.0  \n",
       "2              0.0  \n",
       "3              0.0  \n",
       "4              0.0  \n",
       "...            ...  \n",
       "16829          0.0  \n",
       "16830          0.0  \n",
       "16831          0.0  \n",
       "16832          0.0  \n",
       "16833          0.0  \n",
       "\n",
       "[15101 rows x 16 columns]"
      ]
     },
     "execution_count": 14,
     "metadata": {},
     "output_type": "execute_result"
    }
   ],
   "source": [
    "df[df.audience_type==\"'-\"\t]"
   ]
  },
  {
   "cell_type": "code",
   "execution_count": 15,
   "id": "b49e7730-af4a-4b30-9027-590b0585a1fa",
   "metadata": {},
   "outputs": [
    {
     "data": {
      "text/html": [
       "<div>\n",
       "<style scoped>\n",
       "    .dataframe tbody tr th:only-of-type {\n",
       "        vertical-align: middle;\n",
       "    }\n",
       "\n",
       "    .dataframe tbody tr th {\n",
       "        vertical-align: top;\n",
       "    }\n",
       "\n",
       "    .dataframe thead th {\n",
       "        text-align: right;\n",
       "    }\n",
       "</style>\n",
       "<table border=\"1\" class=\"dataframe\">\n",
       "  <thead>\n",
       "    <tr style=\"text-align: right;\">\n",
       "      <th></th>\n",
       "      <th>Date</th>\n",
       "      <th>product</th>\n",
       "      <th>phase</th>\n",
       "      <th>campaign_platform</th>\n",
       "      <th>campaign_type</th>\n",
       "      <th>communication_medium</th>\n",
       "      <th>subchannel</th>\n",
       "      <th>audience_type</th>\n",
       "      <th>creative_type</th>\n",
       "      <th>creative_name</th>\n",
       "      <th>device</th>\n",
       "      <th>age</th>\n",
       "      <th>spends</th>\n",
       "      <th>impressions</th>\n",
       "      <th>clicks</th>\n",
       "      <th>link_clicks</th>\n",
       "    </tr>\n",
       "  </thead>\n",
       "  <tbody>\n",
       "    <tr>\n",
       "      <th>13417</th>\n",
       "      <td>2020-03-17</td>\n",
       "      <td>Product 1</td>\n",
       "      <td>Performance</td>\n",
       "      <td>Facebook Ads</td>\n",
       "      <td>Conversions</td>\n",
       "      <td>Creative</td>\n",
       "      <td>Facebook Ads</td>\n",
       "      <td>Audience 2</td>\n",
       "      <td>Image</td>\n",
       "      <td>Girl</td>\n",
       "      <td>device</td>\n",
       "      <td>35-44</td>\n",
       "      <td>16.58</td>\n",
       "      <td>208</td>\n",
       "      <td>1</td>\n",
       "      <td>NaN</td>\n",
       "    </tr>\n",
       "    <tr>\n",
       "      <th>13418</th>\n",
       "      <td>2020-03-17</td>\n",
       "      <td>Product 1</td>\n",
       "      <td>Performance</td>\n",
       "      <td>Facebook Ads</td>\n",
       "      <td>Conversions</td>\n",
       "      <td>Creative</td>\n",
       "      <td>Facebook Ads</td>\n",
       "      <td>Audience 2</td>\n",
       "      <td>Image</td>\n",
       "      <td>Girl</td>\n",
       "      <td>device</td>\n",
       "      <td>45-54</td>\n",
       "      <td>1.94</td>\n",
       "      <td>48</td>\n",
       "      <td>0</td>\n",
       "      <td>NaN</td>\n",
       "    </tr>\n",
       "    <tr>\n",
       "      <th>13535</th>\n",
       "      <td>2020-03-18</td>\n",
       "      <td>Product 1</td>\n",
       "      <td>Performance</td>\n",
       "      <td>Facebook Ads</td>\n",
       "      <td>Conversions</td>\n",
       "      <td>Creative</td>\n",
       "      <td>Facebook Ads</td>\n",
       "      <td>Audience 2</td>\n",
       "      <td>Carousal</td>\n",
       "      <td>Carousal</td>\n",
       "      <td>device</td>\n",
       "      <td>25-34</td>\n",
       "      <td>215.58</td>\n",
       "      <td>3287</td>\n",
       "      <td>33</td>\n",
       "      <td>25.0</td>\n",
       "    </tr>\n",
       "    <tr>\n",
       "      <th>13536</th>\n",
       "      <td>2020-03-18</td>\n",
       "      <td>Product 1</td>\n",
       "      <td>Performance</td>\n",
       "      <td>Facebook Ads</td>\n",
       "      <td>Conversions</td>\n",
       "      <td>Creative</td>\n",
       "      <td>Facebook Ads</td>\n",
       "      <td>Audience 2</td>\n",
       "      <td>Carousal</td>\n",
       "      <td>Carousal</td>\n",
       "      <td>device</td>\n",
       "      <td>35-44</td>\n",
       "      <td>26.98</td>\n",
       "      <td>283</td>\n",
       "      <td>7</td>\n",
       "      <td>7.0</td>\n",
       "    </tr>\n",
       "    <tr>\n",
       "      <th>13537</th>\n",
       "      <td>2020-03-18</td>\n",
       "      <td>Product 1</td>\n",
       "      <td>Performance</td>\n",
       "      <td>Facebook Ads</td>\n",
       "      <td>Conversions</td>\n",
       "      <td>Creative</td>\n",
       "      <td>Facebook Ads</td>\n",
       "      <td>Audience 2</td>\n",
       "      <td>Carousal</td>\n",
       "      <td>Carousal</td>\n",
       "      <td>device</td>\n",
       "      <td>45-54</td>\n",
       "      <td>2.94</td>\n",
       "      <td>49</td>\n",
       "      <td>0</td>\n",
       "      <td>NaN</td>\n",
       "    </tr>\n",
       "    <tr>\n",
       "      <th>13538</th>\n",
       "      <td>2020-03-18</td>\n",
       "      <td>Product 1</td>\n",
       "      <td>Performance</td>\n",
       "      <td>Facebook Ads</td>\n",
       "      <td>Conversions</td>\n",
       "      <td>Creative</td>\n",
       "      <td>Facebook Ads</td>\n",
       "      <td>Audience 2</td>\n",
       "      <td>Image</td>\n",
       "      <td>Click</td>\n",
       "      <td>device</td>\n",
       "      <td>25-34</td>\n",
       "      <td>1259.64</td>\n",
       "      <td>9684</td>\n",
       "      <td>170</td>\n",
       "      <td>70.0</td>\n",
       "    </tr>\n",
       "    <tr>\n",
       "      <th>13539</th>\n",
       "      <td>2020-03-18</td>\n",
       "      <td>Product 1</td>\n",
       "      <td>Performance</td>\n",
       "      <td>Facebook Ads</td>\n",
       "      <td>Conversions</td>\n",
       "      <td>Creative</td>\n",
       "      <td>Facebook Ads</td>\n",
       "      <td>Audience 2</td>\n",
       "      <td>Image</td>\n",
       "      <td>Click</td>\n",
       "      <td>device</td>\n",
       "      <td>35-44</td>\n",
       "      <td>377.98</td>\n",
       "      <td>2627</td>\n",
       "      <td>80</td>\n",
       "      <td>35.0</td>\n",
       "    </tr>\n",
       "    <tr>\n",
       "      <th>13540</th>\n",
       "      <td>2020-03-18</td>\n",
       "      <td>Product 1</td>\n",
       "      <td>Performance</td>\n",
       "      <td>Facebook Ads</td>\n",
       "      <td>Conversions</td>\n",
       "      <td>Creative</td>\n",
       "      <td>Facebook Ads</td>\n",
       "      <td>Audience 2</td>\n",
       "      <td>Image</td>\n",
       "      <td>Click</td>\n",
       "      <td>device</td>\n",
       "      <td>45-54</td>\n",
       "      <td>83.63</td>\n",
       "      <td>553</td>\n",
       "      <td>13</td>\n",
       "      <td>5.0</td>\n",
       "    </tr>\n",
       "    <tr>\n",
       "      <th>13541</th>\n",
       "      <td>2020-03-18</td>\n",
       "      <td>Product 1</td>\n",
       "      <td>Performance</td>\n",
       "      <td>Facebook Ads</td>\n",
       "      <td>Conversions</td>\n",
       "      <td>Creative</td>\n",
       "      <td>Facebook Ads</td>\n",
       "      <td>Audience 2</td>\n",
       "      <td>Image</td>\n",
       "      <td>Girl</td>\n",
       "      <td>device</td>\n",
       "      <td>25-34</td>\n",
       "      <td>37.26</td>\n",
       "      <td>1624</td>\n",
       "      <td>12</td>\n",
       "      <td>3.0</td>\n",
       "    </tr>\n",
       "    <tr>\n",
       "      <th>13542</th>\n",
       "      <td>2020-03-18</td>\n",
       "      <td>Product 1</td>\n",
       "      <td>Performance</td>\n",
       "      <td>Facebook Ads</td>\n",
       "      <td>Conversions</td>\n",
       "      <td>Creative</td>\n",
       "      <td>Facebook Ads</td>\n",
       "      <td>Audience 2</td>\n",
       "      <td>Image</td>\n",
       "      <td>Girl</td>\n",
       "      <td>device</td>\n",
       "      <td>35-44</td>\n",
       "      <td>20.57</td>\n",
       "      <td>515</td>\n",
       "      <td>8</td>\n",
       "      <td>4.0</td>\n",
       "    </tr>\n",
       "    <tr>\n",
       "      <th>13543</th>\n",
       "      <td>2020-03-18</td>\n",
       "      <td>Product 1</td>\n",
       "      <td>Performance</td>\n",
       "      <td>Facebook Ads</td>\n",
       "      <td>Conversions</td>\n",
       "      <td>Creative</td>\n",
       "      <td>Facebook Ads</td>\n",
       "      <td>Audience 2</td>\n",
       "      <td>Image</td>\n",
       "      <td>Girl</td>\n",
       "      <td>device</td>\n",
       "      <td>45-54</td>\n",
       "      <td>6.32</td>\n",
       "      <td>98</td>\n",
       "      <td>1</td>\n",
       "      <td>NaN</td>\n",
       "    </tr>\n",
       "    <tr>\n",
       "      <th>13668</th>\n",
       "      <td>2020-03-19</td>\n",
       "      <td>Product 1</td>\n",
       "      <td>Performance</td>\n",
       "      <td>Facebook Ads</td>\n",
       "      <td>Conversions</td>\n",
       "      <td>Creative</td>\n",
       "      <td>Facebook Ads</td>\n",
       "      <td>Audience 2</td>\n",
       "      <td>Carousal</td>\n",
       "      <td>Carousal</td>\n",
       "      <td>device</td>\n",
       "      <td>25-34</td>\n",
       "      <td>18.75</td>\n",
       "      <td>351</td>\n",
       "      <td>0</td>\n",
       "      <td>NaN</td>\n",
       "    </tr>\n",
       "    <tr>\n",
       "      <th>13669</th>\n",
       "      <td>2020-03-19</td>\n",
       "      <td>Product 1</td>\n",
       "      <td>Performance</td>\n",
       "      <td>Facebook Ads</td>\n",
       "      <td>Conversions</td>\n",
       "      <td>Creative</td>\n",
       "      <td>Facebook Ads</td>\n",
       "      <td>Audience 2</td>\n",
       "      <td>Carousal</td>\n",
       "      <td>Carousal</td>\n",
       "      <td>device</td>\n",
       "      <td>35-44</td>\n",
       "      <td>5.13</td>\n",
       "      <td>38</td>\n",
       "      <td>0</td>\n",
       "      <td>NaN</td>\n",
       "    </tr>\n",
       "    <tr>\n",
       "      <th>13670</th>\n",
       "      <td>2020-03-19</td>\n",
       "      <td>Product 1</td>\n",
       "      <td>Performance</td>\n",
       "      <td>Facebook Ads</td>\n",
       "      <td>Conversions</td>\n",
       "      <td>Creative</td>\n",
       "      <td>Facebook Ads</td>\n",
       "      <td>Audience 2</td>\n",
       "      <td>Carousal</td>\n",
       "      <td>Carousal</td>\n",
       "      <td>device</td>\n",
       "      <td>45-54</td>\n",
       "      <td>0.82</td>\n",
       "      <td>5</td>\n",
       "      <td>0</td>\n",
       "      <td>NaN</td>\n",
       "    </tr>\n",
       "    <tr>\n",
       "      <th>13671</th>\n",
       "      <td>2020-03-19</td>\n",
       "      <td>Product 1</td>\n",
       "      <td>Performance</td>\n",
       "      <td>Facebook Ads</td>\n",
       "      <td>Conversions</td>\n",
       "      <td>Creative</td>\n",
       "      <td>Facebook Ads</td>\n",
       "      <td>Audience 2</td>\n",
       "      <td>Image</td>\n",
       "      <td>Click</td>\n",
       "      <td>device</td>\n",
       "      <td>25-34</td>\n",
       "      <td>98.71</td>\n",
       "      <td>735</td>\n",
       "      <td>13</td>\n",
       "      <td>5.0</td>\n",
       "    </tr>\n",
       "    <tr>\n",
       "      <th>13672</th>\n",
       "      <td>2020-03-19</td>\n",
       "      <td>Product 1</td>\n",
       "      <td>Performance</td>\n",
       "      <td>Facebook Ads</td>\n",
       "      <td>Conversions</td>\n",
       "      <td>Creative</td>\n",
       "      <td>Facebook Ads</td>\n",
       "      <td>Audience 2</td>\n",
       "      <td>Image</td>\n",
       "      <td>Click</td>\n",
       "      <td>device</td>\n",
       "      <td>35-44</td>\n",
       "      <td>31.16</td>\n",
       "      <td>160</td>\n",
       "      <td>7</td>\n",
       "      <td>4.0</td>\n",
       "    </tr>\n",
       "    <tr>\n",
       "      <th>13673</th>\n",
       "      <td>2020-03-19</td>\n",
       "      <td>Product 1</td>\n",
       "      <td>Performance</td>\n",
       "      <td>Facebook Ads</td>\n",
       "      <td>Conversions</td>\n",
       "      <td>Creative</td>\n",
       "      <td>Facebook Ads</td>\n",
       "      <td>Audience 2</td>\n",
       "      <td>Image</td>\n",
       "      <td>Click</td>\n",
       "      <td>device</td>\n",
       "      <td>45-54</td>\n",
       "      <td>4.88</td>\n",
       "      <td>22</td>\n",
       "      <td>2</td>\n",
       "      <td>1.0</td>\n",
       "    </tr>\n",
       "    <tr>\n",
       "      <th>13674</th>\n",
       "      <td>2020-03-19</td>\n",
       "      <td>Product 1</td>\n",
       "      <td>Performance</td>\n",
       "      <td>Facebook Ads</td>\n",
       "      <td>Conversions</td>\n",
       "      <td>Creative</td>\n",
       "      <td>Facebook Ads</td>\n",
       "      <td>Audience 2</td>\n",
       "      <td>Image</td>\n",
       "      <td>Girl</td>\n",
       "      <td>device</td>\n",
       "      <td>25-34</td>\n",
       "      <td>10.36</td>\n",
       "      <td>94</td>\n",
       "      <td>3</td>\n",
       "      <td>2.0</td>\n",
       "    </tr>\n",
       "    <tr>\n",
       "      <th>13675</th>\n",
       "      <td>2020-03-19</td>\n",
       "      <td>Product 1</td>\n",
       "      <td>Performance</td>\n",
       "      <td>Facebook Ads</td>\n",
       "      <td>Conversions</td>\n",
       "      <td>Creative</td>\n",
       "      <td>Facebook Ads</td>\n",
       "      <td>Audience 2</td>\n",
       "      <td>Image</td>\n",
       "      <td>Girl</td>\n",
       "      <td>device</td>\n",
       "      <td>35-44</td>\n",
       "      <td>0.99</td>\n",
       "      <td>26</td>\n",
       "      <td>1</td>\n",
       "      <td>NaN</td>\n",
       "    </tr>\n",
       "    <tr>\n",
       "      <th>13676</th>\n",
       "      <td>2020-03-19</td>\n",
       "      <td>Product 1</td>\n",
       "      <td>Performance</td>\n",
       "      <td>Facebook Ads</td>\n",
       "      <td>Conversions</td>\n",
       "      <td>Creative</td>\n",
       "      <td>Facebook Ads</td>\n",
       "      <td>Audience 2</td>\n",
       "      <td>Image</td>\n",
       "      <td>Girl</td>\n",
       "      <td>device</td>\n",
       "      <td>45-54</td>\n",
       "      <td>0.09</td>\n",
       "      <td>6</td>\n",
       "      <td>0</td>\n",
       "      <td>NaN</td>\n",
       "    </tr>\n",
       "  </tbody>\n",
       "</table>\n",
       "</div>"
      ],
      "text/plain": [
       "             Date    product        phase campaign_platform campaign_type  \\\n",
       "13417  2020-03-17  Product 1  Performance      Facebook Ads   Conversions   \n",
       "13418  2020-03-17  Product 1  Performance      Facebook Ads   Conversions   \n",
       "13535  2020-03-18  Product 1  Performance      Facebook Ads   Conversions   \n",
       "13536  2020-03-18  Product 1  Performance      Facebook Ads   Conversions   \n",
       "13537  2020-03-18  Product 1  Performance      Facebook Ads   Conversions   \n",
       "13538  2020-03-18  Product 1  Performance      Facebook Ads   Conversions   \n",
       "13539  2020-03-18  Product 1  Performance      Facebook Ads   Conversions   \n",
       "13540  2020-03-18  Product 1  Performance      Facebook Ads   Conversions   \n",
       "13541  2020-03-18  Product 1  Performance      Facebook Ads   Conversions   \n",
       "13542  2020-03-18  Product 1  Performance      Facebook Ads   Conversions   \n",
       "13543  2020-03-18  Product 1  Performance      Facebook Ads   Conversions   \n",
       "13668  2020-03-19  Product 1  Performance      Facebook Ads   Conversions   \n",
       "13669  2020-03-19  Product 1  Performance      Facebook Ads   Conversions   \n",
       "13670  2020-03-19  Product 1  Performance      Facebook Ads   Conversions   \n",
       "13671  2020-03-19  Product 1  Performance      Facebook Ads   Conversions   \n",
       "13672  2020-03-19  Product 1  Performance      Facebook Ads   Conversions   \n",
       "13673  2020-03-19  Product 1  Performance      Facebook Ads   Conversions   \n",
       "13674  2020-03-19  Product 1  Performance      Facebook Ads   Conversions   \n",
       "13675  2020-03-19  Product 1  Performance      Facebook Ads   Conversions   \n",
       "13676  2020-03-19  Product 1  Performance      Facebook Ads   Conversions   \n",
       "\n",
       "      communication_medium    subchannel audience_type creative_type  \\\n",
       "13417             Creative  Facebook Ads    Audience 2         Image   \n",
       "13418             Creative  Facebook Ads    Audience 2         Image   \n",
       "13535             Creative  Facebook Ads    Audience 2      Carousal   \n",
       "13536             Creative  Facebook Ads    Audience 2      Carousal   \n",
       "13537             Creative  Facebook Ads    Audience 2      Carousal   \n",
       "13538             Creative  Facebook Ads    Audience 2         Image   \n",
       "13539             Creative  Facebook Ads    Audience 2         Image   \n",
       "13540             Creative  Facebook Ads    Audience 2         Image   \n",
       "13541             Creative  Facebook Ads    Audience 2         Image   \n",
       "13542             Creative  Facebook Ads    Audience 2         Image   \n",
       "13543             Creative  Facebook Ads    Audience 2         Image   \n",
       "13668             Creative  Facebook Ads    Audience 2      Carousal   \n",
       "13669             Creative  Facebook Ads    Audience 2      Carousal   \n",
       "13670             Creative  Facebook Ads    Audience 2      Carousal   \n",
       "13671             Creative  Facebook Ads    Audience 2         Image   \n",
       "13672             Creative  Facebook Ads    Audience 2         Image   \n",
       "13673             Creative  Facebook Ads    Audience 2         Image   \n",
       "13674             Creative  Facebook Ads    Audience 2         Image   \n",
       "13675             Creative  Facebook Ads    Audience 2         Image   \n",
       "13676             Creative  Facebook Ads    Audience 2         Image   \n",
       "\n",
       "      creative_name  device    age   spends  impressions  clicks  link_clicks  \n",
       "13417          Girl  device  35-44    16.58          208       1          NaN  \n",
       "13418          Girl  device  45-54     1.94           48       0          NaN  \n",
       "13535      Carousal  device  25-34   215.58         3287      33         25.0  \n",
       "13536      Carousal  device  35-44    26.98          283       7          7.0  \n",
       "13537      Carousal  device  45-54     2.94           49       0          NaN  \n",
       "13538         Click  device  25-34  1259.64         9684     170         70.0  \n",
       "13539         Click  device  35-44   377.98         2627      80         35.0  \n",
       "13540         Click  device  45-54    83.63          553      13          5.0  \n",
       "13541          Girl  device  25-34    37.26         1624      12          3.0  \n",
       "13542          Girl  device  35-44    20.57          515       8          4.0  \n",
       "13543          Girl  device  45-54     6.32           98       1          NaN  \n",
       "13668      Carousal  device  25-34    18.75          351       0          NaN  \n",
       "13669      Carousal  device  35-44     5.13           38       0          NaN  \n",
       "13670      Carousal  device  45-54     0.82            5       0          NaN  \n",
       "13671         Click  device  25-34    98.71          735      13          5.0  \n",
       "13672         Click  device  35-44    31.16          160       7          4.0  \n",
       "13673         Click  device  45-54     4.88           22       2          1.0  \n",
       "13674          Girl  device  25-34    10.36           94       3          2.0  \n",
       "13675          Girl  device  35-44     0.99           26       1          NaN  \n",
       "13676          Girl  device  45-54     0.09            6       0          NaN  "
      ]
     },
     "execution_count": 15,
     "metadata": {},
     "output_type": "execute_result"
    }
   ],
   "source": [
    "df[df.audience_type=='Audience 2'\t].tail(20)"
   ]
  },
  {
   "cell_type": "code",
   "execution_count": 16,
   "id": "2123eafd-513c-497e-9995-33435d756706",
   "metadata": {},
   "outputs": [
    {
     "data": {
      "text/plain": [
       "15101"
      ]
     },
     "execution_count": 16,
     "metadata": {},
     "output_type": "execute_result"
    }
   ],
   "source": [
    "len(df[df.creative_type==\"'-\"\t])"
   ]
  },
  {
   "cell_type": "code",
   "execution_count": 17,
   "id": "501213b6-24c5-4ef5-a3c5-3886674e5f5c",
   "metadata": {},
   "outputs": [
    {
     "data": {
      "text/plain": [
       "15101"
      ]
     },
     "execution_count": 17,
     "metadata": {},
     "output_type": "execute_result"
    }
   ],
   "source": [
    "len(df[df.creative_name==\"'-\"\t])"
   ]
  },
  {
   "cell_type": "code",
   "execution_count": 18,
   "id": "f7fb9d6b-9923-41a4-8977-dac069867037",
   "metadata": {},
   "outputs": [
    {
     "data": {
      "text/plain": [
       "16834"
      ]
     },
     "execution_count": 18,
     "metadata": {},
     "output_type": "execute_result"
    }
   ],
   "source": [
    "len(df)"
   ]
  },
  {
   "cell_type": "code",
   "execution_count": 19,
   "id": "def5e5e1-29d6-425b-b450-b89b718f834d",
   "metadata": {},
   "outputs": [
    {
     "data": {
      "text/plain": [
       "89.7053582036355"
      ]
     },
     "execution_count": 19,
     "metadata": {},
     "output_type": "execute_result"
    }
   ],
   "source": [
    "len(df[df.creative_name==\"'-\"\t])/len(df) *100"
   ]
  },
  {
   "cell_type": "code",
   "execution_count": 20,
   "id": "b41128f9-ae8e-4133-8a4e-8d5ae78be889",
   "metadata": {},
   "outputs": [
    {
     "data": {
      "text/html": [
       "<div>\n",
       "<style scoped>\n",
       "    .dataframe tbody tr th:only-of-type {\n",
       "        vertical-align: middle;\n",
       "    }\n",
       "\n",
       "    .dataframe tbody tr th {\n",
       "        vertical-align: top;\n",
       "    }\n",
       "\n",
       "    .dataframe thead th {\n",
       "        text-align: right;\n",
       "    }\n",
       "</style>\n",
       "<table border=\"1\" class=\"dataframe\">\n",
       "  <thead>\n",
       "    <tr style=\"text-align: right;\">\n",
       "      <th></th>\n",
       "      <th>Date</th>\n",
       "      <th>product</th>\n",
       "      <th>phase</th>\n",
       "      <th>campaign_platform</th>\n",
       "      <th>campaign_type</th>\n",
       "      <th>communication_medium</th>\n",
       "      <th>subchannel</th>\n",
       "      <th>audience_type</th>\n",
       "      <th>creative_type</th>\n",
       "      <th>creative_name</th>\n",
       "      <th>device</th>\n",
       "      <th>age</th>\n",
       "      <th>spends</th>\n",
       "      <th>impressions</th>\n",
       "      <th>clicks</th>\n",
       "      <th>link_clicks</th>\n",
       "    </tr>\n",
       "  </thead>\n",
       "  <tbody>\n",
       "    <tr>\n",
       "      <th>0</th>\n",
       "      <td>2019-10-16</td>\n",
       "      <td>Product 1</td>\n",
       "      <td>Performance</td>\n",
       "      <td>Google Ads</td>\n",
       "      <td>Search</td>\n",
       "      <td>Search Keywords</td>\n",
       "      <td>Brand</td>\n",
       "      <td>'-</td>\n",
       "      <td>'-</td>\n",
       "      <td>'-</td>\n",
       "      <td>Desktop</td>\n",
       "      <td>18-24</td>\n",
       "      <td>0.00</td>\n",
       "      <td>2</td>\n",
       "      <td>0</td>\n",
       "      <td>0.0</td>\n",
       "    </tr>\n",
       "    <tr>\n",
       "      <th>1</th>\n",
       "      <td>2019-10-16</td>\n",
       "      <td>Product 1</td>\n",
       "      <td>Performance</td>\n",
       "      <td>Google Ads</td>\n",
       "      <td>Search</td>\n",
       "      <td>Search Keywords</td>\n",
       "      <td>Brand</td>\n",
       "      <td>'-</td>\n",
       "      <td>'-</td>\n",
       "      <td>'-</td>\n",
       "      <td>Desktop</td>\n",
       "      <td>25-34</td>\n",
       "      <td>0.00</td>\n",
       "      <td>5</td>\n",
       "      <td>0</td>\n",
       "      <td>0.0</td>\n",
       "    </tr>\n",
       "    <tr>\n",
       "      <th>2</th>\n",
       "      <td>2019-10-16</td>\n",
       "      <td>Product 1</td>\n",
       "      <td>Performance</td>\n",
       "      <td>Google Ads</td>\n",
       "      <td>Search</td>\n",
       "      <td>Search Keywords</td>\n",
       "      <td>Brand</td>\n",
       "      <td>'-</td>\n",
       "      <td>'-</td>\n",
       "      <td>'-</td>\n",
       "      <td>Desktop</td>\n",
       "      <td>35-44</td>\n",
       "      <td>0.00</td>\n",
       "      <td>1</td>\n",
       "      <td>0</td>\n",
       "      <td>0.0</td>\n",
       "    </tr>\n",
       "    <tr>\n",
       "      <th>3</th>\n",
       "      <td>2019-10-16</td>\n",
       "      <td>Product 1</td>\n",
       "      <td>Performance</td>\n",
       "      <td>Google Ads</td>\n",
       "      <td>Search</td>\n",
       "      <td>Search Keywords</td>\n",
       "      <td>Brand</td>\n",
       "      <td>'-</td>\n",
       "      <td>'-</td>\n",
       "      <td>'-</td>\n",
       "      <td>Desktop</td>\n",
       "      <td>Undetermined</td>\n",
       "      <td>14.63</td>\n",
       "      <td>5</td>\n",
       "      <td>3</td>\n",
       "      <td>0.0</td>\n",
       "    </tr>\n",
       "    <tr>\n",
       "      <th>4</th>\n",
       "      <td>2019-10-18</td>\n",
       "      <td>Product 1</td>\n",
       "      <td>Performance</td>\n",
       "      <td>Google Ads</td>\n",
       "      <td>Search</td>\n",
       "      <td>Search Keywords</td>\n",
       "      <td>Brand</td>\n",
       "      <td>'-</td>\n",
       "      <td>'-</td>\n",
       "      <td>'-</td>\n",
       "      <td>Desktop</td>\n",
       "      <td>18-24</td>\n",
       "      <td>53.31</td>\n",
       "      <td>10</td>\n",
       "      <td>2</td>\n",
       "      <td>0.0</td>\n",
       "    </tr>\n",
       "    <tr>\n",
       "      <th>...</th>\n",
       "      <td>...</td>\n",
       "      <td>...</td>\n",
       "      <td>...</td>\n",
       "      <td>...</td>\n",
       "      <td>...</td>\n",
       "      <td>...</td>\n",
       "      <td>...</td>\n",
       "      <td>...</td>\n",
       "      <td>...</td>\n",
       "      <td>...</td>\n",
       "      <td>...</td>\n",
       "      <td>...</td>\n",
       "      <td>...</td>\n",
       "      <td>...</td>\n",
       "      <td>...</td>\n",
       "      <td>...</td>\n",
       "    </tr>\n",
       "    <tr>\n",
       "      <th>16829</th>\n",
       "      <td>2020-07-07</td>\n",
       "      <td>Product 1</td>\n",
       "      <td>Performance</td>\n",
       "      <td>Google Ads</td>\n",
       "      <td>Search</td>\n",
       "      <td>Search Keywords</td>\n",
       "      <td>Brand</td>\n",
       "      <td>'-</td>\n",
       "      <td>'-</td>\n",
       "      <td>'-</td>\n",
       "      <td>Mobile</td>\n",
       "      <td>25-34</td>\n",
       "      <td>19.88</td>\n",
       "      <td>36</td>\n",
       "      <td>15</td>\n",
       "      <td>0.0</td>\n",
       "    </tr>\n",
       "    <tr>\n",
       "      <th>16830</th>\n",
       "      <td>2020-07-07</td>\n",
       "      <td>Product 1</td>\n",
       "      <td>Performance</td>\n",
       "      <td>Google Ads</td>\n",
       "      <td>Search</td>\n",
       "      <td>Search Keywords</td>\n",
       "      <td>Brand</td>\n",
       "      <td>'-</td>\n",
       "      <td>'-</td>\n",
       "      <td>'-</td>\n",
       "      <td>Mobile</td>\n",
       "      <td>35-44</td>\n",
       "      <td>1.64</td>\n",
       "      <td>11</td>\n",
       "      <td>1</td>\n",
       "      <td>0.0</td>\n",
       "    </tr>\n",
       "    <tr>\n",
       "      <th>16831</th>\n",
       "      <td>2020-07-07</td>\n",
       "      <td>Product 1</td>\n",
       "      <td>Performance</td>\n",
       "      <td>Google Ads</td>\n",
       "      <td>Search</td>\n",
       "      <td>Search Keywords</td>\n",
       "      <td>Brand</td>\n",
       "      <td>'-</td>\n",
       "      <td>'-</td>\n",
       "      <td>'-</td>\n",
       "      <td>Mobile</td>\n",
       "      <td>45-54</td>\n",
       "      <td>0.00</td>\n",
       "      <td>3</td>\n",
       "      <td>0</td>\n",
       "      <td>0.0</td>\n",
       "    </tr>\n",
       "    <tr>\n",
       "      <th>16832</th>\n",
       "      <td>2020-07-07</td>\n",
       "      <td>Product 1</td>\n",
       "      <td>Performance</td>\n",
       "      <td>Google Ads</td>\n",
       "      <td>Search</td>\n",
       "      <td>Search Keywords</td>\n",
       "      <td>Brand</td>\n",
       "      <td>'-</td>\n",
       "      <td>'-</td>\n",
       "      <td>'-</td>\n",
       "      <td>Mobile</td>\n",
       "      <td>65 or more</td>\n",
       "      <td>0.00</td>\n",
       "      <td>3</td>\n",
       "      <td>0</td>\n",
       "      <td>0.0</td>\n",
       "    </tr>\n",
       "    <tr>\n",
       "      <th>16833</th>\n",
       "      <td>2020-07-07</td>\n",
       "      <td>Product 1</td>\n",
       "      <td>Performance</td>\n",
       "      <td>Google Ads</td>\n",
       "      <td>Search</td>\n",
       "      <td>Search Keywords</td>\n",
       "      <td>Brand</td>\n",
       "      <td>'-</td>\n",
       "      <td>'-</td>\n",
       "      <td>'-</td>\n",
       "      <td>Mobile</td>\n",
       "      <td>Undetermined</td>\n",
       "      <td>1.40</td>\n",
       "      <td>14</td>\n",
       "      <td>1</td>\n",
       "      <td>0.0</td>\n",
       "    </tr>\n",
       "  </tbody>\n",
       "</table>\n",
       "<p>15101 rows × 16 columns</p>\n",
       "</div>"
      ],
      "text/plain": [
       "             Date    product        phase campaign_platform campaign_type  \\\n",
       "0      2019-10-16  Product 1  Performance        Google Ads        Search   \n",
       "1      2019-10-16  Product 1  Performance        Google Ads        Search   \n",
       "2      2019-10-16  Product 1  Performance        Google Ads        Search   \n",
       "3      2019-10-16  Product 1  Performance        Google Ads        Search   \n",
       "4      2019-10-18  Product 1  Performance        Google Ads        Search   \n",
       "...           ...        ...          ...               ...           ...   \n",
       "16829  2020-07-07  Product 1  Performance        Google Ads        Search   \n",
       "16830  2020-07-07  Product 1  Performance        Google Ads        Search   \n",
       "16831  2020-07-07  Product 1  Performance        Google Ads        Search   \n",
       "16832  2020-07-07  Product 1  Performance        Google Ads        Search   \n",
       "16833  2020-07-07  Product 1  Performance        Google Ads        Search   \n",
       "\n",
       "      communication_medium subchannel audience_type creative_type  \\\n",
       "0          Search Keywords      Brand            '-            '-   \n",
       "1          Search Keywords      Brand            '-            '-   \n",
       "2          Search Keywords      Brand            '-            '-   \n",
       "3          Search Keywords      Brand            '-            '-   \n",
       "4          Search Keywords      Brand            '-            '-   \n",
       "...                    ...        ...           ...           ...   \n",
       "16829      Search Keywords      Brand            '-            '-   \n",
       "16830      Search Keywords      Brand            '-            '-   \n",
       "16831      Search Keywords      Brand            '-            '-   \n",
       "16832      Search Keywords      Brand            '-            '-   \n",
       "16833      Search Keywords      Brand            '-            '-   \n",
       "\n",
       "      creative_name   device           age  spends  impressions  clicks  \\\n",
       "0                '-  Desktop         18-24    0.00            2       0   \n",
       "1                '-  Desktop         25-34    0.00            5       0   \n",
       "2                '-  Desktop         35-44    0.00            1       0   \n",
       "3                '-  Desktop  Undetermined   14.63            5       3   \n",
       "4                '-  Desktop         18-24   53.31           10       2   \n",
       "...             ...      ...           ...     ...          ...     ...   \n",
       "16829            '-   Mobile         25-34   19.88           36      15   \n",
       "16830            '-   Mobile         35-44    1.64           11       1   \n",
       "16831            '-   Mobile         45-54    0.00            3       0   \n",
       "16832            '-   Mobile    65 or more    0.00            3       0   \n",
       "16833            '-   Mobile  Undetermined    1.40           14       1   \n",
       "\n",
       "       link_clicks  \n",
       "0              0.0  \n",
       "1              0.0  \n",
       "2              0.0  \n",
       "3              0.0  \n",
       "4              0.0  \n",
       "...            ...  \n",
       "16829          0.0  \n",
       "16830          0.0  \n",
       "16831          0.0  \n",
       "16832          0.0  \n",
       "16833          0.0  \n",
       "\n",
       "[15101 rows x 16 columns]"
      ]
     },
     "execution_count": 20,
     "metadata": {},
     "output_type": "execute_result"
    }
   ],
   "source": [
    "df[df.campaign_type==\"Search\"]"
   ]
  },
  {
   "cell_type": "code",
   "execution_count": 21,
   "id": "7d426c40-84fa-41c2-ad8b-cc15e7a5edcd",
   "metadata": {},
   "outputs": [
    {
     "name": "stderr",
     "output_type": "stream",
     "text": [
      "C:\\Users\\SALAMI\\AppData\\Local\\Temp\\ipykernel_1304\\635769036.py:1: UserWarning: Boolean Series key will be reindexed to match DataFrame index.\n",
      "  df[df.campaign_type==\"Conversions\"] [df.campaign_platform==\"Facebook Ads\"]\n"
     ]
    },
    {
     "data": {
      "text/html": [
       "<div>\n",
       "<style scoped>\n",
       "    .dataframe tbody tr th:only-of-type {\n",
       "        vertical-align: middle;\n",
       "    }\n",
       "\n",
       "    .dataframe tbody tr th {\n",
       "        vertical-align: top;\n",
       "    }\n",
       "\n",
       "    .dataframe thead th {\n",
       "        text-align: right;\n",
       "    }\n",
       "</style>\n",
       "<table border=\"1\" class=\"dataframe\">\n",
       "  <thead>\n",
       "    <tr style=\"text-align: right;\">\n",
       "      <th></th>\n",
       "      <th>Date</th>\n",
       "      <th>product</th>\n",
       "      <th>phase</th>\n",
       "      <th>campaign_platform</th>\n",
       "      <th>campaign_type</th>\n",
       "      <th>communication_medium</th>\n",
       "      <th>subchannel</th>\n",
       "      <th>audience_type</th>\n",
       "      <th>creative_type</th>\n",
       "      <th>creative_name</th>\n",
       "      <th>device</th>\n",
       "      <th>age</th>\n",
       "      <th>spends</th>\n",
       "      <th>impressions</th>\n",
       "      <th>clicks</th>\n",
       "      <th>link_clicks</th>\n",
       "    </tr>\n",
       "  </thead>\n",
       "  <tbody>\n",
       "    <tr>\n",
       "      <th>2009</th>\n",
       "      <td>2019-12-16</td>\n",
       "      <td>Product 1</td>\n",
       "      <td>Performance</td>\n",
       "      <td>Facebook Ads</td>\n",
       "      <td>Conversions</td>\n",
       "      <td>Creative</td>\n",
       "      <td>Facebook Ads</td>\n",
       "      <td>Audience 2</td>\n",
       "      <td>Carousal</td>\n",
       "      <td>Carousal</td>\n",
       "      <td>device</td>\n",
       "      <td>25-34</td>\n",
       "      <td>70.280000</td>\n",
       "      <td>730</td>\n",
       "      <td>12</td>\n",
       "      <td>9.0</td>\n",
       "    </tr>\n",
       "    <tr>\n",
       "      <th>2010</th>\n",
       "      <td>2019-12-16</td>\n",
       "      <td>Product 1</td>\n",
       "      <td>Performance</td>\n",
       "      <td>Facebook Ads</td>\n",
       "      <td>Conversions</td>\n",
       "      <td>Creative</td>\n",
       "      <td>Facebook Ads</td>\n",
       "      <td>Audience 2</td>\n",
       "      <td>Carousal</td>\n",
       "      <td>Carousal</td>\n",
       "      <td>device</td>\n",
       "      <td>35-44</td>\n",
       "      <td>7.660000</td>\n",
       "      <td>71</td>\n",
       "      <td>1</td>\n",
       "      <td>1.0</td>\n",
       "    </tr>\n",
       "    <tr>\n",
       "      <th>2011</th>\n",
       "      <td>2019-12-16</td>\n",
       "      <td>Product 1</td>\n",
       "      <td>Performance</td>\n",
       "      <td>Facebook Ads</td>\n",
       "      <td>Conversions</td>\n",
       "      <td>Creative</td>\n",
       "      <td>Facebook Ads</td>\n",
       "      <td>Audience 2</td>\n",
       "      <td>Carousal</td>\n",
       "      <td>Carousal</td>\n",
       "      <td>device</td>\n",
       "      <td>45-54</td>\n",
       "      <td>3.800000</td>\n",
       "      <td>32</td>\n",
       "      <td>1</td>\n",
       "      <td>NaN</td>\n",
       "    </tr>\n",
       "    <tr>\n",
       "      <th>2012</th>\n",
       "      <td>2019-12-16</td>\n",
       "      <td>Product 1</td>\n",
       "      <td>Performance</td>\n",
       "      <td>Facebook Ads</td>\n",
       "      <td>Conversions</td>\n",
       "      <td>Creative</td>\n",
       "      <td>Facebook Ads</td>\n",
       "      <td>Audience 2</td>\n",
       "      <td>Carousal</td>\n",
       "      <td>Carousal</td>\n",
       "      <td>device</td>\n",
       "      <td>55-64</td>\n",
       "      <td>0.450000</td>\n",
       "      <td>3</td>\n",
       "      <td>0</td>\n",
       "      <td>NaN</td>\n",
       "    </tr>\n",
       "    <tr>\n",
       "      <th>2013</th>\n",
       "      <td>2019-12-16</td>\n",
       "      <td>Product 1</td>\n",
       "      <td>Performance</td>\n",
       "      <td>Facebook Ads</td>\n",
       "      <td>Conversions</td>\n",
       "      <td>Creative</td>\n",
       "      <td>Facebook Ads</td>\n",
       "      <td>Audience 2</td>\n",
       "      <td>Image</td>\n",
       "      <td>Click</td>\n",
       "      <td>device</td>\n",
       "      <td>25-34</td>\n",
       "      <td>117.130000</td>\n",
       "      <td>638</td>\n",
       "      <td>36</td>\n",
       "      <td>21.0</td>\n",
       "    </tr>\n",
       "    <tr>\n",
       "      <th>...</th>\n",
       "      <td>...</td>\n",
       "      <td>...</td>\n",
       "      <td>...</td>\n",
       "      <td>...</td>\n",
       "      <td>...</td>\n",
       "      <td>...</td>\n",
       "      <td>...</td>\n",
       "      <td>...</td>\n",
       "      <td>...</td>\n",
       "      <td>...</td>\n",
       "      <td>...</td>\n",
       "      <td>...</td>\n",
       "      <td>...</td>\n",
       "      <td>...</td>\n",
       "      <td>...</td>\n",
       "      <td>...</td>\n",
       "    </tr>\n",
       "    <tr>\n",
       "      <th>13808</th>\n",
       "      <td>2020-03-20</td>\n",
       "      <td>Product 1</td>\n",
       "      <td>Performance</td>\n",
       "      <td>Facebook Ads</td>\n",
       "      <td>Conversions</td>\n",
       "      <td>Creative</td>\n",
       "      <td>Facebook Ads</td>\n",
       "      <td>Audience 1</td>\n",
       "      <td>Image</td>\n",
       "      <td>Click</td>\n",
       "      <td>device</td>\n",
       "      <td>55-64</td>\n",
       "      <td>6.409971</td>\n",
       "      <td>68</td>\n",
       "      <td>1</td>\n",
       "      <td>NaN</td>\n",
       "    </tr>\n",
       "    <tr>\n",
       "      <th>13809</th>\n",
       "      <td>2020-03-20</td>\n",
       "      <td>Product 1</td>\n",
       "      <td>Performance</td>\n",
       "      <td>Facebook Ads</td>\n",
       "      <td>Conversions</td>\n",
       "      <td>Creative</td>\n",
       "      <td>Facebook Ads</td>\n",
       "      <td>Audience 1</td>\n",
       "      <td>Image</td>\n",
       "      <td>Girl</td>\n",
       "      <td>device</td>\n",
       "      <td>25-34</td>\n",
       "      <td>255.620000</td>\n",
       "      <td>1895</td>\n",
       "      <td>30</td>\n",
       "      <td>11.0</td>\n",
       "    </tr>\n",
       "    <tr>\n",
       "      <th>13810</th>\n",
       "      <td>2020-03-20</td>\n",
       "      <td>Product 1</td>\n",
       "      <td>Performance</td>\n",
       "      <td>Facebook Ads</td>\n",
       "      <td>Conversions</td>\n",
       "      <td>Creative</td>\n",
       "      <td>Facebook Ads</td>\n",
       "      <td>Audience 1</td>\n",
       "      <td>Image</td>\n",
       "      <td>Girl</td>\n",
       "      <td>device</td>\n",
       "      <td>35-44</td>\n",
       "      <td>89.060000</td>\n",
       "      <td>764</td>\n",
       "      <td>7</td>\n",
       "      <td>1.0</td>\n",
       "    </tr>\n",
       "    <tr>\n",
       "      <th>13811</th>\n",
       "      <td>2020-03-20</td>\n",
       "      <td>Product 1</td>\n",
       "      <td>Performance</td>\n",
       "      <td>Facebook Ads</td>\n",
       "      <td>Conversions</td>\n",
       "      <td>Creative</td>\n",
       "      <td>Facebook Ads</td>\n",
       "      <td>Audience 1</td>\n",
       "      <td>Image</td>\n",
       "      <td>Girl</td>\n",
       "      <td>device</td>\n",
       "      <td>45-54</td>\n",
       "      <td>24.350000</td>\n",
       "      <td>228</td>\n",
       "      <td>11</td>\n",
       "      <td>3.0</td>\n",
       "    </tr>\n",
       "    <tr>\n",
       "      <th>13812</th>\n",
       "      <td>2020-03-20</td>\n",
       "      <td>Product 1</td>\n",
       "      <td>Performance</td>\n",
       "      <td>Facebook Ads</td>\n",
       "      <td>Conversions</td>\n",
       "      <td>Creative</td>\n",
       "      <td>Facebook Ads</td>\n",
       "      <td>Audience 1</td>\n",
       "      <td>Image</td>\n",
       "      <td>Girl</td>\n",
       "      <td>device</td>\n",
       "      <td>55-64</td>\n",
       "      <td>1.430000</td>\n",
       "      <td>18</td>\n",
       "      <td>1</td>\n",
       "      <td>NaN</td>\n",
       "    </tr>\n",
       "  </tbody>\n",
       "</table>\n",
       "<p>1733 rows × 16 columns</p>\n",
       "</div>"
      ],
      "text/plain": [
       "             Date    product        phase campaign_platform campaign_type  \\\n",
       "2009   2019-12-16  Product 1  Performance      Facebook Ads   Conversions   \n",
       "2010   2019-12-16  Product 1  Performance      Facebook Ads   Conversions   \n",
       "2011   2019-12-16  Product 1  Performance      Facebook Ads   Conversions   \n",
       "2012   2019-12-16  Product 1  Performance      Facebook Ads   Conversions   \n",
       "2013   2019-12-16  Product 1  Performance      Facebook Ads   Conversions   \n",
       "...           ...        ...          ...               ...           ...   \n",
       "13808  2020-03-20  Product 1  Performance      Facebook Ads   Conversions   \n",
       "13809  2020-03-20  Product 1  Performance      Facebook Ads   Conversions   \n",
       "13810  2020-03-20  Product 1  Performance      Facebook Ads   Conversions   \n",
       "13811  2020-03-20  Product 1  Performance      Facebook Ads   Conversions   \n",
       "13812  2020-03-20  Product 1  Performance      Facebook Ads   Conversions   \n",
       "\n",
       "      communication_medium    subchannel audience_type creative_type  \\\n",
       "2009              Creative  Facebook Ads    Audience 2      Carousal   \n",
       "2010              Creative  Facebook Ads    Audience 2      Carousal   \n",
       "2011              Creative  Facebook Ads    Audience 2      Carousal   \n",
       "2012              Creative  Facebook Ads    Audience 2      Carousal   \n",
       "2013              Creative  Facebook Ads    Audience 2         Image   \n",
       "...                    ...           ...           ...           ...   \n",
       "13808             Creative  Facebook Ads    Audience 1         Image   \n",
       "13809             Creative  Facebook Ads    Audience 1         Image   \n",
       "13810             Creative  Facebook Ads    Audience 1         Image   \n",
       "13811             Creative  Facebook Ads    Audience 1         Image   \n",
       "13812             Creative  Facebook Ads    Audience 1         Image   \n",
       "\n",
       "      creative_name  device    age      spends  impressions  clicks  \\\n",
       "2009       Carousal  device  25-34   70.280000          730      12   \n",
       "2010       Carousal  device  35-44    7.660000           71       1   \n",
       "2011       Carousal  device  45-54    3.800000           32       1   \n",
       "2012       Carousal  device  55-64    0.450000            3       0   \n",
       "2013          Click  device  25-34  117.130000          638      36   \n",
       "...             ...     ...    ...         ...          ...     ...   \n",
       "13808         Click  device  55-64    6.409971           68       1   \n",
       "13809          Girl  device  25-34  255.620000         1895      30   \n",
       "13810          Girl  device  35-44   89.060000          764       7   \n",
       "13811          Girl  device  45-54   24.350000          228      11   \n",
       "13812          Girl  device  55-64    1.430000           18       1   \n",
       "\n",
       "       link_clicks  \n",
       "2009           9.0  \n",
       "2010           1.0  \n",
       "2011           NaN  \n",
       "2012           NaN  \n",
       "2013          21.0  \n",
       "...            ...  \n",
       "13808          NaN  \n",
       "13809         11.0  \n",
       "13810          1.0  \n",
       "13811          3.0  \n",
       "13812          NaN  \n",
       "\n",
       "[1733 rows x 16 columns]"
      ]
     },
     "execution_count": 21,
     "metadata": {},
     "output_type": "execute_result"
    }
   ],
   "source": [
    "df[df.campaign_type==\"Conversions\"] [df.campaign_platform==\"Facebook Ads\"]"
   ]
  },
  {
   "cell_type": "code",
   "execution_count": 22,
   "id": "7621c658-7bdc-4772-b229-b52340f71211",
   "metadata": {},
   "outputs": [
    {
     "data": {
      "text/plain": [
       "'other'"
      ]
     },
     "execution_count": 22,
     "metadata": {},
     "output_type": "execute_result"
    }
   ],
   "source": [
    "#DATA CLEANING FUNCTIONS\n",
    "def create_audience(x):\n",
    "    if x==\"'-\":\n",
    "        return \"Audience 4\"\n",
    "    return x\n",
    "\n",
    "def create_type(x):\n",
    "    if x==\"'-\":\n",
    "        return \"Unique\"\n",
    "    return x\n",
    "\n",
    "def create_name(x):\n",
    "    if x==\"'-\":\n",
    "        return \"other\"\n",
    "    return x\n",
    "    \n",
    "create_audience(\"'-\")   \n",
    "create_type(\"'-\")  \n",
    "create_name(\"'-\")  "
   ]
  },
  {
   "cell_type": "code",
   "execution_count": 23,
   "id": "4527d1a9-ebfd-4fc5-9edd-70c8187c9193",
   "metadata": {},
   "outputs": [],
   "source": [
    "df1=df.copy()"
   ]
  },
  {
   "cell_type": "code",
   "execution_count": 24,
   "id": "58556b00-301f-42ad-a366-d2eb53bd797d",
   "metadata": {},
   "outputs": [
    {
     "data": {
      "text/plain": [
       "Index(['Date', 'product', 'phase', 'campaign_platform', 'campaign_type',\n",
       "       'communication_medium', 'subchannel', 'audience_type', 'creative_type',\n",
       "       'creative_name', 'device', 'age', 'spends', 'impressions', 'clicks',\n",
       "       'link_clicks'],\n",
       "      dtype='object')"
      ]
     },
     "execution_count": 24,
     "metadata": {},
     "output_type": "execute_result"
    }
   ],
   "source": [
    "df1.columns"
   ]
  },
  {
   "cell_type": "code",
   "execution_count": 25,
   "id": "c3b2d9f6-fbd7-4fbb-9df4-d4184ecc15fc",
   "metadata": {},
   "outputs": [],
   "source": [
    "df1.audience_type=df1.audience_type.apply(create_audience)"
   ]
  },
  {
   "cell_type": "code",
   "execution_count": 26,
   "id": "71c4cb9e-e9f1-495c-8604-125c6a70bb45",
   "metadata": {},
   "outputs": [],
   "source": [
    "df1.creative_type=df1.creative_type.apply(create_type)"
   ]
  },
  {
   "cell_type": "code",
   "execution_count": 27,
   "id": "577d42aa-91de-4766-9568-42c2b79af3bf",
   "metadata": {},
   "outputs": [],
   "source": [
    "df1.creative_name=df1.creative_name.apply(create_name)"
   ]
  },
  {
   "cell_type": "code",
   "execution_count": 28,
   "id": "e4ae3b21-eeb4-4d95-a846-986be046f230",
   "metadata": {},
   "outputs": [
    {
     "data": {
      "text/html": [
       "<div>\n",
       "<style scoped>\n",
       "    .dataframe tbody tr th:only-of-type {\n",
       "        vertical-align: middle;\n",
       "    }\n",
       "\n",
       "    .dataframe tbody tr th {\n",
       "        vertical-align: top;\n",
       "    }\n",
       "\n",
       "    .dataframe thead th {\n",
       "        text-align: right;\n",
       "    }\n",
       "</style>\n",
       "<table border=\"1\" class=\"dataframe\">\n",
       "  <thead>\n",
       "    <tr style=\"text-align: right;\">\n",
       "      <th></th>\n",
       "      <th>Date</th>\n",
       "      <th>product</th>\n",
       "      <th>phase</th>\n",
       "      <th>campaign_platform</th>\n",
       "      <th>campaign_type</th>\n",
       "      <th>communication_medium</th>\n",
       "      <th>subchannel</th>\n",
       "      <th>audience_type</th>\n",
       "      <th>creative_type</th>\n",
       "      <th>creative_name</th>\n",
       "      <th>device</th>\n",
       "      <th>age</th>\n",
       "      <th>spends</th>\n",
       "      <th>impressions</th>\n",
       "      <th>clicks</th>\n",
       "      <th>link_clicks</th>\n",
       "    </tr>\n",
       "  </thead>\n",
       "  <tbody>\n",
       "    <tr>\n",
       "      <th>0</th>\n",
       "      <td>2019-10-16</td>\n",
       "      <td>Product 1</td>\n",
       "      <td>Performance</td>\n",
       "      <td>Google Ads</td>\n",
       "      <td>Search</td>\n",
       "      <td>Search Keywords</td>\n",
       "      <td>Brand</td>\n",
       "      <td>Audience 4</td>\n",
       "      <td>Unique</td>\n",
       "      <td>other</td>\n",
       "      <td>Desktop</td>\n",
       "      <td>18-24</td>\n",
       "      <td>0.00</td>\n",
       "      <td>2</td>\n",
       "      <td>0</td>\n",
       "      <td>0.0</td>\n",
       "    </tr>\n",
       "    <tr>\n",
       "      <th>1</th>\n",
       "      <td>2019-10-16</td>\n",
       "      <td>Product 1</td>\n",
       "      <td>Performance</td>\n",
       "      <td>Google Ads</td>\n",
       "      <td>Search</td>\n",
       "      <td>Search Keywords</td>\n",
       "      <td>Brand</td>\n",
       "      <td>Audience 4</td>\n",
       "      <td>Unique</td>\n",
       "      <td>other</td>\n",
       "      <td>Desktop</td>\n",
       "      <td>25-34</td>\n",
       "      <td>0.00</td>\n",
       "      <td>5</td>\n",
       "      <td>0</td>\n",
       "      <td>0.0</td>\n",
       "    </tr>\n",
       "    <tr>\n",
       "      <th>2</th>\n",
       "      <td>2019-10-16</td>\n",
       "      <td>Product 1</td>\n",
       "      <td>Performance</td>\n",
       "      <td>Google Ads</td>\n",
       "      <td>Search</td>\n",
       "      <td>Search Keywords</td>\n",
       "      <td>Brand</td>\n",
       "      <td>Audience 4</td>\n",
       "      <td>Unique</td>\n",
       "      <td>other</td>\n",
       "      <td>Desktop</td>\n",
       "      <td>35-44</td>\n",
       "      <td>0.00</td>\n",
       "      <td>1</td>\n",
       "      <td>0</td>\n",
       "      <td>0.0</td>\n",
       "    </tr>\n",
       "    <tr>\n",
       "      <th>3</th>\n",
       "      <td>2019-10-16</td>\n",
       "      <td>Product 1</td>\n",
       "      <td>Performance</td>\n",
       "      <td>Google Ads</td>\n",
       "      <td>Search</td>\n",
       "      <td>Search Keywords</td>\n",
       "      <td>Brand</td>\n",
       "      <td>Audience 4</td>\n",
       "      <td>Unique</td>\n",
       "      <td>other</td>\n",
       "      <td>Desktop</td>\n",
       "      <td>Undetermined</td>\n",
       "      <td>14.63</td>\n",
       "      <td>5</td>\n",
       "      <td>3</td>\n",
       "      <td>0.0</td>\n",
       "    </tr>\n",
       "    <tr>\n",
       "      <th>4</th>\n",
       "      <td>2019-10-18</td>\n",
       "      <td>Product 1</td>\n",
       "      <td>Performance</td>\n",
       "      <td>Google Ads</td>\n",
       "      <td>Search</td>\n",
       "      <td>Search Keywords</td>\n",
       "      <td>Brand</td>\n",
       "      <td>Audience 4</td>\n",
       "      <td>Unique</td>\n",
       "      <td>other</td>\n",
       "      <td>Desktop</td>\n",
       "      <td>18-24</td>\n",
       "      <td>53.31</td>\n",
       "      <td>10</td>\n",
       "      <td>2</td>\n",
       "      <td>0.0</td>\n",
       "    </tr>\n",
       "  </tbody>\n",
       "</table>\n",
       "</div>"
      ],
      "text/plain": [
       "         Date    product        phase campaign_platform campaign_type  \\\n",
       "0  2019-10-16  Product 1  Performance        Google Ads        Search   \n",
       "1  2019-10-16  Product 1  Performance        Google Ads        Search   \n",
       "2  2019-10-16  Product 1  Performance        Google Ads        Search   \n",
       "3  2019-10-16  Product 1  Performance        Google Ads        Search   \n",
       "4  2019-10-18  Product 1  Performance        Google Ads        Search   \n",
       "\n",
       "  communication_medium subchannel audience_type creative_type creative_name  \\\n",
       "0      Search Keywords      Brand    Audience 4        Unique         other   \n",
       "1      Search Keywords      Brand    Audience 4        Unique         other   \n",
       "2      Search Keywords      Brand    Audience 4        Unique         other   \n",
       "3      Search Keywords      Brand    Audience 4        Unique         other   \n",
       "4      Search Keywords      Brand    Audience 4        Unique         other   \n",
       "\n",
       "    device           age  spends  impressions  clicks  link_clicks  \n",
       "0  Desktop         18-24    0.00            2       0          0.0  \n",
       "1  Desktop         25-34    0.00            5       0          0.0  \n",
       "2  Desktop         35-44    0.00            1       0          0.0  \n",
       "3  Desktop  Undetermined   14.63            5       3          0.0  \n",
       "4  Desktop         18-24   53.31           10       2          0.0  "
      ]
     },
     "execution_count": 28,
     "metadata": {},
     "output_type": "execute_result"
    }
   ],
   "source": [
    "df1.head()"
   ]
  },
  {
   "cell_type": "code",
   "execution_count": 29,
   "id": "5d95376e-fad6-4134-8ecb-6ee8e5827903",
   "metadata": {},
   "outputs": [
    {
     "data": {
      "text/plain": [
       "546"
      ]
     },
     "execution_count": 29,
     "metadata": {},
     "output_type": "execute_result"
    }
   ],
   "source": [
    "len(df1[df1.link_clicks.isnull()==True])"
   ]
  },
  {
   "cell_type": "code",
   "execution_count": 30,
   "id": "7c904568-c52d-468e-8eb3-ead1d46ae2c8",
   "metadata": {},
   "outputs": [
    {
     "data": {
      "text/plain": [
       "3.2434359035285727"
      ]
     },
     "execution_count": 30,
     "metadata": {},
     "output_type": "execute_result"
    }
   ],
   "source": [
    "len(df1[df1.link_clicks.isnull()==True])/len(df) *100"
   ]
  },
  {
   "cell_type": "code",
   "execution_count": 31,
   "id": "65c48870-6df0-4862-a637-9e7d86a35872",
   "metadata": {},
   "outputs": [
    {
     "data": {
      "text/plain": [
       "array(['18-24', '25-34', '35-44', 'Undetermined', '45-54', '55-64',\n",
       "       '65 or more'], dtype=object)"
      ]
     },
     "execution_count": 31,
     "metadata": {},
     "output_type": "execute_result"
    }
   ],
   "source": [
    "df1.age.unique()"
   ]
  },
  {
   "cell_type": "code",
   "execution_count": 32,
   "id": "0c15d169-9640-4139-8507-3469345b133d",
   "metadata": {},
   "outputs": [
    {
     "data": {
      "text/html": [
       "<div>\n",
       "<style scoped>\n",
       "    .dataframe tbody tr th:only-of-type {\n",
       "        vertical-align: middle;\n",
       "    }\n",
       "\n",
       "    .dataframe tbody tr th {\n",
       "        vertical-align: top;\n",
       "    }\n",
       "\n",
       "    .dataframe thead th {\n",
       "        text-align: right;\n",
       "    }\n",
       "</style>\n",
       "<table border=\"1\" class=\"dataframe\">\n",
       "  <thead>\n",
       "    <tr style=\"text-align: right;\">\n",
       "      <th></th>\n",
       "      <th>Date</th>\n",
       "      <th>product</th>\n",
       "      <th>phase</th>\n",
       "      <th>campaign_platform</th>\n",
       "      <th>campaign_type</th>\n",
       "      <th>communication_medium</th>\n",
       "      <th>subchannel</th>\n",
       "      <th>audience_type</th>\n",
       "      <th>creative_type</th>\n",
       "      <th>creative_name</th>\n",
       "      <th>device</th>\n",
       "      <th>age</th>\n",
       "      <th>spends</th>\n",
       "      <th>impressions</th>\n",
       "      <th>clicks</th>\n",
       "      <th>link_clicks</th>\n",
       "    </tr>\n",
       "  </thead>\n",
       "  <tbody>\n",
       "    <tr>\n",
       "      <th>3</th>\n",
       "      <td>2019-10-16</td>\n",
       "      <td>Product 1</td>\n",
       "      <td>Performance</td>\n",
       "      <td>Google Ads</td>\n",
       "      <td>Search</td>\n",
       "      <td>Search Keywords</td>\n",
       "      <td>Brand</td>\n",
       "      <td>Audience 4</td>\n",
       "      <td>Unique</td>\n",
       "      <td>other</td>\n",
       "      <td>Desktop</td>\n",
       "      <td>Undetermined</td>\n",
       "      <td>14.63</td>\n",
       "      <td>5</td>\n",
       "      <td>3</td>\n",
       "      <td>0.0</td>\n",
       "    </tr>\n",
       "    <tr>\n",
       "      <th>10</th>\n",
       "      <td>2019-10-18</td>\n",
       "      <td>Product 1</td>\n",
       "      <td>Performance</td>\n",
       "      <td>Google Ads</td>\n",
       "      <td>Search</td>\n",
       "      <td>Search Keywords</td>\n",
       "      <td>Brand</td>\n",
       "      <td>Audience 4</td>\n",
       "      <td>Unique</td>\n",
       "      <td>other</td>\n",
       "      <td>Desktop</td>\n",
       "      <td>Undetermined</td>\n",
       "      <td>130.65</td>\n",
       "      <td>33</td>\n",
       "      <td>5</td>\n",
       "      <td>0.0</td>\n",
       "    </tr>\n",
       "    <tr>\n",
       "      <th>14</th>\n",
       "      <td>2019-10-18</td>\n",
       "      <td>Product 1</td>\n",
       "      <td>Performance</td>\n",
       "      <td>Google Ads</td>\n",
       "      <td>Search</td>\n",
       "      <td>Search Keywords</td>\n",
       "      <td>Brand</td>\n",
       "      <td>Audience 4</td>\n",
       "      <td>Unique</td>\n",
       "      <td>other</td>\n",
       "      <td>Desktop</td>\n",
       "      <td>Undetermined</td>\n",
       "      <td>0.00</td>\n",
       "      <td>2</td>\n",
       "      <td>0</td>\n",
       "      <td>0.0</td>\n",
       "    </tr>\n",
       "    <tr>\n",
       "      <th>17</th>\n",
       "      <td>2019-10-18</td>\n",
       "      <td>Product 1</td>\n",
       "      <td>Performance</td>\n",
       "      <td>Google Ads</td>\n",
       "      <td>Search</td>\n",
       "      <td>Search Keywords</td>\n",
       "      <td>Brand</td>\n",
       "      <td>Audience 4</td>\n",
       "      <td>Unique</td>\n",
       "      <td>other</td>\n",
       "      <td>Mobile</td>\n",
       "      <td>Undetermined</td>\n",
       "      <td>0.00</td>\n",
       "      <td>2</td>\n",
       "      <td>0</td>\n",
       "      <td>0.0</td>\n",
       "    </tr>\n",
       "    <tr>\n",
       "      <th>23</th>\n",
       "      <td>2019-10-19</td>\n",
       "      <td>Product 1</td>\n",
       "      <td>Performance</td>\n",
       "      <td>Google Ads</td>\n",
       "      <td>Search</td>\n",
       "      <td>Search Keywords</td>\n",
       "      <td>Brand</td>\n",
       "      <td>Audience 4</td>\n",
       "      <td>Unique</td>\n",
       "      <td>other</td>\n",
       "      <td>Desktop</td>\n",
       "      <td>Undetermined</td>\n",
       "      <td>200.14</td>\n",
       "      <td>19</td>\n",
       "      <td>5</td>\n",
       "      <td>0.0</td>\n",
       "    </tr>\n",
       "    <tr>\n",
       "      <th>...</th>\n",
       "      <td>...</td>\n",
       "      <td>...</td>\n",
       "      <td>...</td>\n",
       "      <td>...</td>\n",
       "      <td>...</td>\n",
       "      <td>...</td>\n",
       "      <td>...</td>\n",
       "      <td>...</td>\n",
       "      <td>...</td>\n",
       "      <td>...</td>\n",
       "      <td>...</td>\n",
       "      <td>...</td>\n",
       "      <td>...</td>\n",
       "      <td>...</td>\n",
       "      <td>...</td>\n",
       "      <td>...</td>\n",
       "    </tr>\n",
       "    <tr>\n",
       "      <th>16810</th>\n",
       "      <td>2020-07-06</td>\n",
       "      <td>Product 1</td>\n",
       "      <td>Performance</td>\n",
       "      <td>Google Ads</td>\n",
       "      <td>Search</td>\n",
       "      <td>Search Keywords</td>\n",
       "      <td>Brand</td>\n",
       "      <td>Audience 4</td>\n",
       "      <td>Unique</td>\n",
       "      <td>other</td>\n",
       "      <td>Desktop</td>\n",
       "      <td>Undetermined</td>\n",
       "      <td>25.58</td>\n",
       "      <td>7</td>\n",
       "      <td>1</td>\n",
       "      <td>0.0</td>\n",
       "    </tr>\n",
       "    <tr>\n",
       "      <th>16815</th>\n",
       "      <td>2020-07-06</td>\n",
       "      <td>Product 1</td>\n",
       "      <td>Performance</td>\n",
       "      <td>Google Ads</td>\n",
       "      <td>Search</td>\n",
       "      <td>Search Keywords</td>\n",
       "      <td>Brand</td>\n",
       "      <td>Audience 4</td>\n",
       "      <td>Unique</td>\n",
       "      <td>other</td>\n",
       "      <td>Mobile</td>\n",
       "      <td>Undetermined</td>\n",
       "      <td>2.54</td>\n",
       "      <td>33</td>\n",
       "      <td>4</td>\n",
       "      <td>0.0</td>\n",
       "    </tr>\n",
       "    <tr>\n",
       "      <th>16823</th>\n",
       "      <td>2020-07-07</td>\n",
       "      <td>Product 1</td>\n",
       "      <td>Performance</td>\n",
       "      <td>Google Ads</td>\n",
       "      <td>Search</td>\n",
       "      <td>Search Keywords</td>\n",
       "      <td>Brand</td>\n",
       "      <td>Audience 4</td>\n",
       "      <td>Unique</td>\n",
       "      <td>other</td>\n",
       "      <td>Mobile</td>\n",
       "      <td>Undetermined</td>\n",
       "      <td>9.51</td>\n",
       "      <td>37</td>\n",
       "      <td>6</td>\n",
       "      <td>0.0</td>\n",
       "    </tr>\n",
       "    <tr>\n",
       "      <th>16827</th>\n",
       "      <td>2020-07-07</td>\n",
       "      <td>Product 1</td>\n",
       "      <td>Performance</td>\n",
       "      <td>Google Ads</td>\n",
       "      <td>Search</td>\n",
       "      <td>Search Keywords</td>\n",
       "      <td>Brand</td>\n",
       "      <td>Audience 4</td>\n",
       "      <td>Unique</td>\n",
       "      <td>other</td>\n",
       "      <td>Desktop</td>\n",
       "      <td>Undetermined</td>\n",
       "      <td>14.77</td>\n",
       "      <td>11</td>\n",
       "      <td>3</td>\n",
       "      <td>0.0</td>\n",
       "    </tr>\n",
       "    <tr>\n",
       "      <th>16833</th>\n",
       "      <td>2020-07-07</td>\n",
       "      <td>Product 1</td>\n",
       "      <td>Performance</td>\n",
       "      <td>Google Ads</td>\n",
       "      <td>Search</td>\n",
       "      <td>Search Keywords</td>\n",
       "      <td>Brand</td>\n",
       "      <td>Audience 4</td>\n",
       "      <td>Unique</td>\n",
       "      <td>other</td>\n",
       "      <td>Mobile</td>\n",
       "      <td>Undetermined</td>\n",
       "      <td>1.40</td>\n",
       "      <td>14</td>\n",
       "      <td>1</td>\n",
       "      <td>0.0</td>\n",
       "    </tr>\n",
       "  </tbody>\n",
       "</table>\n",
       "<p>2586 rows × 16 columns</p>\n",
       "</div>"
      ],
      "text/plain": [
       "             Date    product        phase campaign_platform campaign_type  \\\n",
       "3      2019-10-16  Product 1  Performance        Google Ads        Search   \n",
       "10     2019-10-18  Product 1  Performance        Google Ads        Search   \n",
       "14     2019-10-18  Product 1  Performance        Google Ads        Search   \n",
       "17     2019-10-18  Product 1  Performance        Google Ads        Search   \n",
       "23     2019-10-19  Product 1  Performance        Google Ads        Search   \n",
       "...           ...        ...          ...               ...           ...   \n",
       "16810  2020-07-06  Product 1  Performance        Google Ads        Search   \n",
       "16815  2020-07-06  Product 1  Performance        Google Ads        Search   \n",
       "16823  2020-07-07  Product 1  Performance        Google Ads        Search   \n",
       "16827  2020-07-07  Product 1  Performance        Google Ads        Search   \n",
       "16833  2020-07-07  Product 1  Performance        Google Ads        Search   \n",
       "\n",
       "      communication_medium subchannel audience_type creative_type  \\\n",
       "3          Search Keywords      Brand    Audience 4        Unique   \n",
       "10         Search Keywords      Brand    Audience 4        Unique   \n",
       "14         Search Keywords      Brand    Audience 4        Unique   \n",
       "17         Search Keywords      Brand    Audience 4        Unique   \n",
       "23         Search Keywords      Brand    Audience 4        Unique   \n",
       "...                    ...        ...           ...           ...   \n",
       "16810      Search Keywords      Brand    Audience 4        Unique   \n",
       "16815      Search Keywords      Brand    Audience 4        Unique   \n",
       "16823      Search Keywords      Brand    Audience 4        Unique   \n",
       "16827      Search Keywords      Brand    Audience 4        Unique   \n",
       "16833      Search Keywords      Brand    Audience 4        Unique   \n",
       "\n",
       "      creative_name   device           age  spends  impressions  clicks  \\\n",
       "3             other  Desktop  Undetermined   14.63            5       3   \n",
       "10            other  Desktop  Undetermined  130.65           33       5   \n",
       "14            other  Desktop  Undetermined    0.00            2       0   \n",
       "17            other   Mobile  Undetermined    0.00            2       0   \n",
       "23            other  Desktop  Undetermined  200.14           19       5   \n",
       "...             ...      ...           ...     ...          ...     ...   \n",
       "16810         other  Desktop  Undetermined   25.58            7       1   \n",
       "16815         other   Mobile  Undetermined    2.54           33       4   \n",
       "16823         other   Mobile  Undetermined    9.51           37       6   \n",
       "16827         other  Desktop  Undetermined   14.77           11       3   \n",
       "16833         other   Mobile  Undetermined    1.40           14       1   \n",
       "\n",
       "       link_clicks  \n",
       "3              0.0  \n",
       "10             0.0  \n",
       "14             0.0  \n",
       "17             0.0  \n",
       "23             0.0  \n",
       "...            ...  \n",
       "16810          0.0  \n",
       "16815          0.0  \n",
       "16823          0.0  \n",
       "16827          0.0  \n",
       "16833          0.0  \n",
       "\n",
       "[2586 rows x 16 columns]"
      ]
     },
     "execution_count": 32,
     "metadata": {},
     "output_type": "execute_result"
    }
   ],
   "source": [
    "df1[df1.age=='Undetermined']"
   ]
  },
  {
   "cell_type": "code",
   "execution_count": 33,
   "id": "dec2fe1d-6629-4589-8e9b-c735ad6f4c86",
   "metadata": {},
   "outputs": [
    {
     "data": {
      "text/html": [
       "<div>\n",
       "<style scoped>\n",
       "    .dataframe tbody tr th:only-of-type {\n",
       "        vertical-align: middle;\n",
       "    }\n",
       "\n",
       "    .dataframe tbody tr th {\n",
       "        vertical-align: top;\n",
       "    }\n",
       "\n",
       "    .dataframe thead th {\n",
       "        text-align: right;\n",
       "    }\n",
       "</style>\n",
       "<table border=\"1\" class=\"dataframe\">\n",
       "  <thead>\n",
       "    <tr style=\"text-align: right;\">\n",
       "      <th></th>\n",
       "      <th>Date</th>\n",
       "      <th>product</th>\n",
       "      <th>phase</th>\n",
       "      <th>campaign_platform</th>\n",
       "      <th>campaign_type</th>\n",
       "      <th>communication_medium</th>\n",
       "      <th>subchannel</th>\n",
       "      <th>audience_type</th>\n",
       "      <th>creative_type</th>\n",
       "      <th>creative_name</th>\n",
       "      <th>device</th>\n",
       "      <th>age</th>\n",
       "      <th>spends</th>\n",
       "      <th>impressions</th>\n",
       "      <th>clicks</th>\n",
       "      <th>link_clicks</th>\n",
       "    </tr>\n",
       "  </thead>\n",
       "  <tbody>\n",
       "    <tr>\n",
       "      <th>2011</th>\n",
       "      <td>2019-12-16</td>\n",
       "      <td>Product 1</td>\n",
       "      <td>Performance</td>\n",
       "      <td>Facebook Ads</td>\n",
       "      <td>Conversions</td>\n",
       "      <td>Creative</td>\n",
       "      <td>Facebook Ads</td>\n",
       "      <td>Audience 2</td>\n",
       "      <td>Carousal</td>\n",
       "      <td>Carousal</td>\n",
       "      <td>device</td>\n",
       "      <td>45-54</td>\n",
       "      <td>3.80</td>\n",
       "      <td>32</td>\n",
       "      <td>1</td>\n",
       "      <td>NaN</td>\n",
       "    </tr>\n",
       "    <tr>\n",
       "      <th>2012</th>\n",
       "      <td>2019-12-16</td>\n",
       "      <td>Product 1</td>\n",
       "      <td>Performance</td>\n",
       "      <td>Facebook Ads</td>\n",
       "      <td>Conversions</td>\n",
       "      <td>Creative</td>\n",
       "      <td>Facebook Ads</td>\n",
       "      <td>Audience 2</td>\n",
       "      <td>Carousal</td>\n",
       "      <td>Carousal</td>\n",
       "      <td>device</td>\n",
       "      <td>55-64</td>\n",
       "      <td>0.45</td>\n",
       "      <td>3</td>\n",
       "      <td>0</td>\n",
       "      <td>NaN</td>\n",
       "    </tr>\n",
       "    <tr>\n",
       "      <th>2015</th>\n",
       "      <td>2019-12-16</td>\n",
       "      <td>Product 1</td>\n",
       "      <td>Performance</td>\n",
       "      <td>Facebook Ads</td>\n",
       "      <td>Conversions</td>\n",
       "      <td>Creative</td>\n",
       "      <td>Facebook Ads</td>\n",
       "      <td>Audience 2</td>\n",
       "      <td>Image</td>\n",
       "      <td>Click</td>\n",
       "      <td>device</td>\n",
       "      <td>45-54</td>\n",
       "      <td>7.03</td>\n",
       "      <td>61</td>\n",
       "      <td>1</td>\n",
       "      <td>NaN</td>\n",
       "    </tr>\n",
       "    <tr>\n",
       "      <th>2016</th>\n",
       "      <td>2019-12-16</td>\n",
       "      <td>Product 1</td>\n",
       "      <td>Performance</td>\n",
       "      <td>Facebook Ads</td>\n",
       "      <td>Conversions</td>\n",
       "      <td>Creative</td>\n",
       "      <td>Facebook Ads</td>\n",
       "      <td>Audience 2</td>\n",
       "      <td>Image</td>\n",
       "      <td>Click</td>\n",
       "      <td>device</td>\n",
       "      <td>55-64</td>\n",
       "      <td>0.28</td>\n",
       "      <td>4</td>\n",
       "      <td>0</td>\n",
       "      <td>NaN</td>\n",
       "    </tr>\n",
       "    <tr>\n",
       "      <th>2018</th>\n",
       "      <td>2019-12-16</td>\n",
       "      <td>Product 1</td>\n",
       "      <td>Performance</td>\n",
       "      <td>Facebook Ads</td>\n",
       "      <td>Conversions</td>\n",
       "      <td>Creative</td>\n",
       "      <td>Facebook Ads</td>\n",
       "      <td>Audience 2</td>\n",
       "      <td>Carousal</td>\n",
       "      <td>Carousal</td>\n",
       "      <td>device</td>\n",
       "      <td>35-44</td>\n",
       "      <td>4.53</td>\n",
       "      <td>32</td>\n",
       "      <td>0</td>\n",
       "      <td>NaN</td>\n",
       "    </tr>\n",
       "    <tr>\n",
       "      <th>2019</th>\n",
       "      <td>2019-12-16</td>\n",
       "      <td>Product 1</td>\n",
       "      <td>Performance</td>\n",
       "      <td>Facebook Ads</td>\n",
       "      <td>Conversions</td>\n",
       "      <td>Creative</td>\n",
       "      <td>Facebook Ads</td>\n",
       "      <td>Audience 2</td>\n",
       "      <td>Carousal</td>\n",
       "      <td>Carousal</td>\n",
       "      <td>device</td>\n",
       "      <td>45-54</td>\n",
       "      <td>1.57</td>\n",
       "      <td>15</td>\n",
       "      <td>0</td>\n",
       "      <td>NaN</td>\n",
       "    </tr>\n",
       "    <tr>\n",
       "      <th>2024</th>\n",
       "      <td>2019-12-16</td>\n",
       "      <td>Product 1</td>\n",
       "      <td>Performance</td>\n",
       "      <td>Facebook Ads</td>\n",
       "      <td>Conversions</td>\n",
       "      <td>Creative</td>\n",
       "      <td>Facebook Ads</td>\n",
       "      <td>Audience 2</td>\n",
       "      <td>Carousal</td>\n",
       "      <td>Carousal</td>\n",
       "      <td>device</td>\n",
       "      <td>35-44</td>\n",
       "      <td>4.52</td>\n",
       "      <td>37</td>\n",
       "      <td>1</td>\n",
       "      <td>NaN</td>\n",
       "    </tr>\n",
       "    <tr>\n",
       "      <th>2025</th>\n",
       "      <td>2019-12-16</td>\n",
       "      <td>Product 1</td>\n",
       "      <td>Performance</td>\n",
       "      <td>Facebook Ads</td>\n",
       "      <td>Conversions</td>\n",
       "      <td>Creative</td>\n",
       "      <td>Facebook Ads</td>\n",
       "      <td>Audience 2</td>\n",
       "      <td>Carousal</td>\n",
       "      <td>Carousal</td>\n",
       "      <td>device</td>\n",
       "      <td>45-54</td>\n",
       "      <td>1.13</td>\n",
       "      <td>15</td>\n",
       "      <td>0</td>\n",
       "      <td>NaN</td>\n",
       "    </tr>\n",
       "    <tr>\n",
       "      <th>2029</th>\n",
       "      <td>2019-12-16</td>\n",
       "      <td>Product 1</td>\n",
       "      <td>Performance</td>\n",
       "      <td>Facebook Ads</td>\n",
       "      <td>Conversions</td>\n",
       "      <td>Creative</td>\n",
       "      <td>Facebook Ads</td>\n",
       "      <td>Audience 2</td>\n",
       "      <td>Image</td>\n",
       "      <td>Click</td>\n",
       "      <td>device</td>\n",
       "      <td>55-64</td>\n",
       "      <td>0.32</td>\n",
       "      <td>7</td>\n",
       "      <td>0</td>\n",
       "      <td>NaN</td>\n",
       "    </tr>\n",
       "    <tr>\n",
       "      <th>2118</th>\n",
       "      <td>2019-12-17</td>\n",
       "      <td>Product 1</td>\n",
       "      <td>Performance</td>\n",
       "      <td>Facebook Ads</td>\n",
       "      <td>Conversions</td>\n",
       "      <td>Creative</td>\n",
       "      <td>Facebook Ads</td>\n",
       "      <td>Audience 2</td>\n",
       "      <td>Carousal</td>\n",
       "      <td>Carousal</td>\n",
       "      <td>device</td>\n",
       "      <td>55-64</td>\n",
       "      <td>0.66</td>\n",
       "      <td>8</td>\n",
       "      <td>0</td>\n",
       "      <td>NaN</td>\n",
       "    </tr>\n",
       "    <tr>\n",
       "      <th>2132</th>\n",
       "      <td>2019-12-17</td>\n",
       "      <td>Product 1</td>\n",
       "      <td>Performance</td>\n",
       "      <td>Facebook Ads</td>\n",
       "      <td>Conversions</td>\n",
       "      <td>Creative</td>\n",
       "      <td>Facebook Ads</td>\n",
       "      <td>Audience 2</td>\n",
       "      <td>Carousal</td>\n",
       "      <td>Carousal</td>\n",
       "      <td>device</td>\n",
       "      <td>55-64</td>\n",
       "      <td>0.15</td>\n",
       "      <td>5</td>\n",
       "      <td>0</td>\n",
       "      <td>NaN</td>\n",
       "    </tr>\n",
       "    <tr>\n",
       "      <th>2136</th>\n",
       "      <td>2019-12-17</td>\n",
       "      <td>Product 1</td>\n",
       "      <td>Performance</td>\n",
       "      <td>Facebook Ads</td>\n",
       "      <td>Conversions</td>\n",
       "      <td>Creative</td>\n",
       "      <td>Facebook Ads</td>\n",
       "      <td>Audience 2</td>\n",
       "      <td>Image</td>\n",
       "      <td>Click</td>\n",
       "      <td>device</td>\n",
       "      <td>55-64</td>\n",
       "      <td>1.00</td>\n",
       "      <td>3</td>\n",
       "      <td>0</td>\n",
       "      <td>NaN</td>\n",
       "    </tr>\n",
       "    <tr>\n",
       "      <th>2224</th>\n",
       "      <td>2019-12-18</td>\n",
       "      <td>Product 1</td>\n",
       "      <td>Performance</td>\n",
       "      <td>Facebook Ads</td>\n",
       "      <td>Conversions</td>\n",
       "      <td>Creative</td>\n",
       "      <td>Facebook Ads</td>\n",
       "      <td>Audience 2</td>\n",
       "      <td>Carousal</td>\n",
       "      <td>Carousal</td>\n",
       "      <td>device</td>\n",
       "      <td>55-64</td>\n",
       "      <td>1.04</td>\n",
       "      <td>8</td>\n",
       "      <td>0</td>\n",
       "      <td>NaN</td>\n",
       "    </tr>\n",
       "    <tr>\n",
       "      <th>2228</th>\n",
       "      <td>2019-12-18</td>\n",
       "      <td>Product 1</td>\n",
       "      <td>Performance</td>\n",
       "      <td>Facebook Ads</td>\n",
       "      <td>Conversions</td>\n",
       "      <td>Creative</td>\n",
       "      <td>Facebook Ads</td>\n",
       "      <td>Audience 2</td>\n",
       "      <td>Image</td>\n",
       "      <td>Click</td>\n",
       "      <td>device</td>\n",
       "      <td>55-64</td>\n",
       "      <td>0.17</td>\n",
       "      <td>3</td>\n",
       "      <td>0</td>\n",
       "      <td>NaN</td>\n",
       "    </tr>\n",
       "    <tr>\n",
       "      <th>2237</th>\n",
       "      <td>2019-12-18</td>\n",
       "      <td>Product 1</td>\n",
       "      <td>Performance</td>\n",
       "      <td>Facebook Ads</td>\n",
       "      <td>Conversions</td>\n",
       "      <td>Creative</td>\n",
       "      <td>Facebook Ads</td>\n",
       "      <td>Audience 2</td>\n",
       "      <td>Carousal</td>\n",
       "      <td>Carousal</td>\n",
       "      <td>device</td>\n",
       "      <td>45-54</td>\n",
       "      <td>5.74</td>\n",
       "      <td>78</td>\n",
       "      <td>0</td>\n",
       "      <td>NaN</td>\n",
       "    </tr>\n",
       "    <tr>\n",
       "      <th>2238</th>\n",
       "      <td>2019-12-18</td>\n",
       "      <td>Product 1</td>\n",
       "      <td>Performance</td>\n",
       "      <td>Facebook Ads</td>\n",
       "      <td>Conversions</td>\n",
       "      <td>Creative</td>\n",
       "      <td>Facebook Ads</td>\n",
       "      <td>Audience 2</td>\n",
       "      <td>Carousal</td>\n",
       "      <td>Carousal</td>\n",
       "      <td>device</td>\n",
       "      <td>55-64</td>\n",
       "      <td>0.51</td>\n",
       "      <td>7</td>\n",
       "      <td>0</td>\n",
       "      <td>NaN</td>\n",
       "    </tr>\n",
       "    <tr>\n",
       "      <th>2339</th>\n",
       "      <td>2019-12-19</td>\n",
       "      <td>Product 1</td>\n",
       "      <td>Performance</td>\n",
       "      <td>Facebook Ads</td>\n",
       "      <td>Conversions</td>\n",
       "      <td>Creative</td>\n",
       "      <td>Facebook Ads</td>\n",
       "      <td>Audience 2</td>\n",
       "      <td>Carousal</td>\n",
       "      <td>Carousal</td>\n",
       "      <td>device</td>\n",
       "      <td>55-64</td>\n",
       "      <td>0.02</td>\n",
       "      <td>2</td>\n",
       "      <td>0</td>\n",
       "      <td>NaN</td>\n",
       "    </tr>\n",
       "    <tr>\n",
       "      <th>2343</th>\n",
       "      <td>2019-12-19</td>\n",
       "      <td>Product 1</td>\n",
       "      <td>Performance</td>\n",
       "      <td>Facebook Ads</td>\n",
       "      <td>Conversions</td>\n",
       "      <td>Creative</td>\n",
       "      <td>Facebook Ads</td>\n",
       "      <td>Audience 2</td>\n",
       "      <td>Image</td>\n",
       "      <td>Click</td>\n",
       "      <td>device</td>\n",
       "      <td>55-64</td>\n",
       "      <td>0.53</td>\n",
       "      <td>5</td>\n",
       "      <td>0</td>\n",
       "      <td>NaN</td>\n",
       "    </tr>\n",
       "    <tr>\n",
       "      <th>2346</th>\n",
       "      <td>2019-12-19</td>\n",
       "      <td>Product 1</td>\n",
       "      <td>Performance</td>\n",
       "      <td>Facebook Ads</td>\n",
       "      <td>Conversions</td>\n",
       "      <td>Creative</td>\n",
       "      <td>Facebook Ads</td>\n",
       "      <td>Audience 2</td>\n",
       "      <td>Carousal</td>\n",
       "      <td>Carousal</td>\n",
       "      <td>device</td>\n",
       "      <td>45-54</td>\n",
       "      <td>6.91</td>\n",
       "      <td>52</td>\n",
       "      <td>0</td>\n",
       "      <td>NaN</td>\n",
       "    </tr>\n",
       "    <tr>\n",
       "      <th>2349</th>\n",
       "      <td>2019-12-19</td>\n",
       "      <td>Product 1</td>\n",
       "      <td>Performance</td>\n",
       "      <td>Facebook Ads</td>\n",
       "      <td>Conversions</td>\n",
       "      <td>Creative</td>\n",
       "      <td>Facebook Ads</td>\n",
       "      <td>Audience 2</td>\n",
       "      <td>Image</td>\n",
       "      <td>Click</td>\n",
       "      <td>device</td>\n",
       "      <td>45-54</td>\n",
       "      <td>15.04</td>\n",
       "      <td>125</td>\n",
       "      <td>1</td>\n",
       "      <td>NaN</td>\n",
       "    </tr>\n",
       "  </tbody>\n",
       "</table>\n",
       "</div>"
      ],
      "text/plain": [
       "            Date    product        phase campaign_platform campaign_type  \\\n",
       "2011  2019-12-16  Product 1  Performance      Facebook Ads   Conversions   \n",
       "2012  2019-12-16  Product 1  Performance      Facebook Ads   Conversions   \n",
       "2015  2019-12-16  Product 1  Performance      Facebook Ads   Conversions   \n",
       "2016  2019-12-16  Product 1  Performance      Facebook Ads   Conversions   \n",
       "2018  2019-12-16  Product 1  Performance      Facebook Ads   Conversions   \n",
       "2019  2019-12-16  Product 1  Performance      Facebook Ads   Conversions   \n",
       "2024  2019-12-16  Product 1  Performance      Facebook Ads   Conversions   \n",
       "2025  2019-12-16  Product 1  Performance      Facebook Ads   Conversions   \n",
       "2029  2019-12-16  Product 1  Performance      Facebook Ads   Conversions   \n",
       "2118  2019-12-17  Product 1  Performance      Facebook Ads   Conversions   \n",
       "2132  2019-12-17  Product 1  Performance      Facebook Ads   Conversions   \n",
       "2136  2019-12-17  Product 1  Performance      Facebook Ads   Conversions   \n",
       "2224  2019-12-18  Product 1  Performance      Facebook Ads   Conversions   \n",
       "2228  2019-12-18  Product 1  Performance      Facebook Ads   Conversions   \n",
       "2237  2019-12-18  Product 1  Performance      Facebook Ads   Conversions   \n",
       "2238  2019-12-18  Product 1  Performance      Facebook Ads   Conversions   \n",
       "2339  2019-12-19  Product 1  Performance      Facebook Ads   Conversions   \n",
       "2343  2019-12-19  Product 1  Performance      Facebook Ads   Conversions   \n",
       "2346  2019-12-19  Product 1  Performance      Facebook Ads   Conversions   \n",
       "2349  2019-12-19  Product 1  Performance      Facebook Ads   Conversions   \n",
       "\n",
       "     communication_medium    subchannel audience_type creative_type  \\\n",
       "2011             Creative  Facebook Ads    Audience 2      Carousal   \n",
       "2012             Creative  Facebook Ads    Audience 2      Carousal   \n",
       "2015             Creative  Facebook Ads    Audience 2         Image   \n",
       "2016             Creative  Facebook Ads    Audience 2         Image   \n",
       "2018             Creative  Facebook Ads    Audience 2      Carousal   \n",
       "2019             Creative  Facebook Ads    Audience 2      Carousal   \n",
       "2024             Creative  Facebook Ads    Audience 2      Carousal   \n",
       "2025             Creative  Facebook Ads    Audience 2      Carousal   \n",
       "2029             Creative  Facebook Ads    Audience 2         Image   \n",
       "2118             Creative  Facebook Ads    Audience 2      Carousal   \n",
       "2132             Creative  Facebook Ads    Audience 2      Carousal   \n",
       "2136             Creative  Facebook Ads    Audience 2         Image   \n",
       "2224             Creative  Facebook Ads    Audience 2      Carousal   \n",
       "2228             Creative  Facebook Ads    Audience 2         Image   \n",
       "2237             Creative  Facebook Ads    Audience 2      Carousal   \n",
       "2238             Creative  Facebook Ads    Audience 2      Carousal   \n",
       "2339             Creative  Facebook Ads    Audience 2      Carousal   \n",
       "2343             Creative  Facebook Ads    Audience 2         Image   \n",
       "2346             Creative  Facebook Ads    Audience 2      Carousal   \n",
       "2349             Creative  Facebook Ads    Audience 2         Image   \n",
       "\n",
       "     creative_name  device    age  spends  impressions  clicks  link_clicks  \n",
       "2011      Carousal  device  45-54    3.80           32       1          NaN  \n",
       "2012      Carousal  device  55-64    0.45            3       0          NaN  \n",
       "2015         Click  device  45-54    7.03           61       1          NaN  \n",
       "2016         Click  device  55-64    0.28            4       0          NaN  \n",
       "2018      Carousal  device  35-44    4.53           32       0          NaN  \n",
       "2019      Carousal  device  45-54    1.57           15       0          NaN  \n",
       "2024      Carousal  device  35-44    4.52           37       1          NaN  \n",
       "2025      Carousal  device  45-54    1.13           15       0          NaN  \n",
       "2029         Click  device  55-64    0.32            7       0          NaN  \n",
       "2118      Carousal  device  55-64    0.66            8       0          NaN  \n",
       "2132      Carousal  device  55-64    0.15            5       0          NaN  \n",
       "2136         Click  device  55-64    1.00            3       0          NaN  \n",
       "2224      Carousal  device  55-64    1.04            8       0          NaN  \n",
       "2228         Click  device  55-64    0.17            3       0          NaN  \n",
       "2237      Carousal  device  45-54    5.74           78       0          NaN  \n",
       "2238      Carousal  device  55-64    0.51            7       0          NaN  \n",
       "2339      Carousal  device  55-64    0.02            2       0          NaN  \n",
       "2343         Click  device  55-64    0.53            5       0          NaN  \n",
       "2346      Carousal  device  45-54    6.91           52       0          NaN  \n",
       "2349         Click  device  45-54   15.04          125       1          NaN  "
      ]
     },
     "execution_count": 33,
     "metadata": {},
     "output_type": "execute_result"
    }
   ],
   "source": [
    "df1[df1.link_clicks.isnull()==True].head(20)"
   ]
  },
  {
   "cell_type": "code",
   "execution_count": 34,
   "id": "15ae1307-ba20-437e-8112-818a70e27e0e",
   "metadata": {},
   "outputs": [
    {
     "data": {
      "text/html": [
       "<div>\n",
       "<style scoped>\n",
       "    .dataframe tbody tr th:only-of-type {\n",
       "        vertical-align: middle;\n",
       "    }\n",
       "\n",
       "    .dataframe tbody tr th {\n",
       "        vertical-align: top;\n",
       "    }\n",
       "\n",
       "    .dataframe thead th {\n",
       "        text-align: right;\n",
       "    }\n",
       "</style>\n",
       "<table border=\"1\" class=\"dataframe\">\n",
       "  <thead>\n",
       "    <tr style=\"text-align: right;\">\n",
       "      <th></th>\n",
       "      <th>Date</th>\n",
       "      <th>product</th>\n",
       "      <th>phase</th>\n",
       "      <th>campaign_platform</th>\n",
       "      <th>campaign_type</th>\n",
       "      <th>communication_medium</th>\n",
       "      <th>subchannel</th>\n",
       "      <th>audience_type</th>\n",
       "      <th>creative_type</th>\n",
       "      <th>creative_name</th>\n",
       "      <th>device</th>\n",
       "      <th>age</th>\n",
       "      <th>spends</th>\n",
       "      <th>impressions</th>\n",
       "      <th>clicks</th>\n",
       "      <th>link_clicks</th>\n",
       "    </tr>\n",
       "  </thead>\n",
       "  <tbody>\n",
       "    <tr>\n",
       "      <th>13806</th>\n",
       "      <td>2020-03-20</td>\n",
       "      <td>Product 1</td>\n",
       "      <td>Performance</td>\n",
       "      <td>Facebook Ads</td>\n",
       "      <td>Conversions</td>\n",
       "      <td>Creative</td>\n",
       "      <td>Facebook Ads</td>\n",
       "      <td>Audience 1</td>\n",
       "      <td>Image</td>\n",
       "      <td>Click</td>\n",
       "      <td>device</td>\n",
       "      <td>35-44</td>\n",
       "      <td>1002.195505</td>\n",
       "      <td>8801</td>\n",
       "      <td>115</td>\n",
       "      <td>48.0</td>\n",
       "    </tr>\n",
       "  </tbody>\n",
       "</table>\n",
       "</div>"
      ],
      "text/plain": [
       "             Date    product        phase campaign_platform campaign_type  \\\n",
       "13806  2020-03-20  Product 1  Performance      Facebook Ads   Conversions   \n",
       "\n",
       "      communication_medium    subchannel audience_type creative_type  \\\n",
       "13806             Creative  Facebook Ads    Audience 1         Image   \n",
       "\n",
       "      creative_name  device    age       spends  impressions  clicks  \\\n",
       "13806         Click  device  35-44  1002.195505         8801     115   \n",
       "\n",
       "       link_clicks  \n",
       "13806         48.0  "
      ]
     },
     "execution_count": 34,
     "metadata": {},
     "output_type": "execute_result"
    }
   ],
   "source": [
    "df1[df1.impressions==8801]"
   ]
  },
  {
   "cell_type": "code",
   "execution_count": 35,
   "id": "df2d7af3-fd2d-44ee-88e7-a204c655647d",
   "metadata": {},
   "outputs": [],
   "source": [
    "df2=df1.dropna()"
   ]
  },
  {
   "cell_type": "code",
   "execution_count": 36,
   "id": "47c1caad-4085-4966-87ec-15d64e3cbda2",
   "metadata": {},
   "outputs": [
    {
     "data": {
      "text/html": [
       "<div>\n",
       "<style scoped>\n",
       "    .dataframe tbody tr th:only-of-type {\n",
       "        vertical-align: middle;\n",
       "    }\n",
       "\n",
       "    .dataframe tbody tr th {\n",
       "        vertical-align: top;\n",
       "    }\n",
       "\n",
       "    .dataframe thead th {\n",
       "        text-align: right;\n",
       "    }\n",
       "</style>\n",
       "<table border=\"1\" class=\"dataframe\">\n",
       "  <thead>\n",
       "    <tr style=\"text-align: right;\">\n",
       "      <th></th>\n",
       "      <th>Date</th>\n",
       "      <th>product</th>\n",
       "      <th>phase</th>\n",
       "      <th>campaign_platform</th>\n",
       "      <th>campaign_type</th>\n",
       "      <th>communication_medium</th>\n",
       "      <th>subchannel</th>\n",
       "      <th>audience_type</th>\n",
       "      <th>creative_type</th>\n",
       "      <th>creative_name</th>\n",
       "      <th>device</th>\n",
       "      <th>age</th>\n",
       "      <th>spends</th>\n",
       "      <th>impressions</th>\n",
       "      <th>clicks</th>\n",
       "      <th>link_clicks</th>\n",
       "    </tr>\n",
       "  </thead>\n",
       "  <tbody>\n",
       "    <tr>\n",
       "      <th>0</th>\n",
       "      <td>2019-10-16</td>\n",
       "      <td>Product 1</td>\n",
       "      <td>Performance</td>\n",
       "      <td>Google Ads</td>\n",
       "      <td>Search</td>\n",
       "      <td>Search Keywords</td>\n",
       "      <td>Brand</td>\n",
       "      <td>Audience 4</td>\n",
       "      <td>Unique</td>\n",
       "      <td>other</td>\n",
       "      <td>Desktop</td>\n",
       "      <td>18-24</td>\n",
       "      <td>0.00</td>\n",
       "      <td>2</td>\n",
       "      <td>0</td>\n",
       "      <td>0.0</td>\n",
       "    </tr>\n",
       "    <tr>\n",
       "      <th>1</th>\n",
       "      <td>2019-10-16</td>\n",
       "      <td>Product 1</td>\n",
       "      <td>Performance</td>\n",
       "      <td>Google Ads</td>\n",
       "      <td>Search</td>\n",
       "      <td>Search Keywords</td>\n",
       "      <td>Brand</td>\n",
       "      <td>Audience 4</td>\n",
       "      <td>Unique</td>\n",
       "      <td>other</td>\n",
       "      <td>Desktop</td>\n",
       "      <td>25-34</td>\n",
       "      <td>0.00</td>\n",
       "      <td>5</td>\n",
       "      <td>0</td>\n",
       "      <td>0.0</td>\n",
       "    </tr>\n",
       "    <tr>\n",
       "      <th>2</th>\n",
       "      <td>2019-10-16</td>\n",
       "      <td>Product 1</td>\n",
       "      <td>Performance</td>\n",
       "      <td>Google Ads</td>\n",
       "      <td>Search</td>\n",
       "      <td>Search Keywords</td>\n",
       "      <td>Brand</td>\n",
       "      <td>Audience 4</td>\n",
       "      <td>Unique</td>\n",
       "      <td>other</td>\n",
       "      <td>Desktop</td>\n",
       "      <td>35-44</td>\n",
       "      <td>0.00</td>\n",
       "      <td>1</td>\n",
       "      <td>0</td>\n",
       "      <td>0.0</td>\n",
       "    </tr>\n",
       "    <tr>\n",
       "      <th>3</th>\n",
       "      <td>2019-10-16</td>\n",
       "      <td>Product 1</td>\n",
       "      <td>Performance</td>\n",
       "      <td>Google Ads</td>\n",
       "      <td>Search</td>\n",
       "      <td>Search Keywords</td>\n",
       "      <td>Brand</td>\n",
       "      <td>Audience 4</td>\n",
       "      <td>Unique</td>\n",
       "      <td>other</td>\n",
       "      <td>Desktop</td>\n",
       "      <td>Undetermined</td>\n",
       "      <td>14.63</td>\n",
       "      <td>5</td>\n",
       "      <td>3</td>\n",
       "      <td>0.0</td>\n",
       "    </tr>\n",
       "    <tr>\n",
       "      <th>4</th>\n",
       "      <td>2019-10-18</td>\n",
       "      <td>Product 1</td>\n",
       "      <td>Performance</td>\n",
       "      <td>Google Ads</td>\n",
       "      <td>Search</td>\n",
       "      <td>Search Keywords</td>\n",
       "      <td>Brand</td>\n",
       "      <td>Audience 4</td>\n",
       "      <td>Unique</td>\n",
       "      <td>other</td>\n",
       "      <td>Desktop</td>\n",
       "      <td>18-24</td>\n",
       "      <td>53.31</td>\n",
       "      <td>10</td>\n",
       "      <td>2</td>\n",
       "      <td>0.0</td>\n",
       "    </tr>\n",
       "  </tbody>\n",
       "</table>\n",
       "</div>"
      ],
      "text/plain": [
       "         Date    product        phase campaign_platform campaign_type  \\\n",
       "0  2019-10-16  Product 1  Performance        Google Ads        Search   \n",
       "1  2019-10-16  Product 1  Performance        Google Ads        Search   \n",
       "2  2019-10-16  Product 1  Performance        Google Ads        Search   \n",
       "3  2019-10-16  Product 1  Performance        Google Ads        Search   \n",
       "4  2019-10-18  Product 1  Performance        Google Ads        Search   \n",
       "\n",
       "  communication_medium subchannel audience_type creative_type creative_name  \\\n",
       "0      Search Keywords      Brand    Audience 4        Unique         other   \n",
       "1      Search Keywords      Brand    Audience 4        Unique         other   \n",
       "2      Search Keywords      Brand    Audience 4        Unique         other   \n",
       "3      Search Keywords      Brand    Audience 4        Unique         other   \n",
       "4      Search Keywords      Brand    Audience 4        Unique         other   \n",
       "\n",
       "    device           age  spends  impressions  clicks  link_clicks  \n",
       "0  Desktop         18-24    0.00            2       0          0.0  \n",
       "1  Desktop         25-34    0.00            5       0          0.0  \n",
       "2  Desktop         35-44    0.00            1       0          0.0  \n",
       "3  Desktop  Undetermined   14.63            5       3          0.0  \n",
       "4  Desktop         18-24   53.31           10       2          0.0  "
      ]
     },
     "execution_count": 36,
     "metadata": {},
     "output_type": "execute_result"
    }
   ],
   "source": [
    "df2.head()"
   ]
  },
  {
   "cell_type": "code",
   "execution_count": 37,
   "id": "e55cea98-4b20-4d7a-a75c-b56b1c8797cd",
   "metadata": {},
   "outputs": [
    {
     "data": {
      "text/plain": [
       "Date                    0\n",
       "product                 0\n",
       "phase                   0\n",
       "campaign_platform       0\n",
       "campaign_type           0\n",
       "communication_medium    0\n",
       "subchannel              0\n",
       "audience_type           0\n",
       "creative_type           0\n",
       "creative_name           0\n",
       "device                  0\n",
       "age                     0\n",
       "spends                  0\n",
       "impressions             0\n",
       "clicks                  0\n",
       "link_clicks             0\n",
       "dtype: int64"
      ]
     },
     "execution_count": 37,
     "metadata": {},
     "output_type": "execute_result"
    }
   ],
   "source": [
    "df2.isnull().sum()"
   ]
  },
  {
   "cell_type": "code",
   "execution_count": 38,
   "id": "eca7cfe5-36ee-4736-839e-1296d52a498e",
   "metadata": {},
   "outputs": [],
   "source": [
    "import numpy as np\n",
    "import matplotlib.pyplot as plt\n",
    "import seaborn as sns"
   ]
  },
  {
   "cell_type": "code",
   "execution_count": 39,
   "id": "154e2e0e-fcb0-4dfc-a815-16bec4246e48",
   "metadata": {},
   "outputs": [],
   "source": [
    "#DROPING negligible columns(date and products)"
   ]
  },
  {
   "cell_type": "code",
   "execution_count": 40,
   "id": "8fdb472f-19de-4275-9cc8-070a37e605b8",
   "metadata": {},
   "outputs": [],
   "source": [
    "df3=df2.drop([\"Date\",\"product\"], axis=\"columns\")"
   ]
  },
  {
   "cell_type": "code",
   "execution_count": 41,
   "id": "30bfef1f-a41e-45a0-b1e0-b5e85005ceb5",
   "metadata": {},
   "outputs": [
    {
     "data": {
      "text/plain": [
       "(16288, 14)"
      ]
     },
     "execution_count": 41,
     "metadata": {},
     "output_type": "execute_result"
    }
   ],
   "source": [
    "df3.shape"
   ]
  },
  {
   "cell_type": "code",
   "execution_count": 42,
   "id": "5ef559ec-803e-40db-a12f-fc3eb6d80b32",
   "metadata": {},
   "outputs": [
    {
     "data": {
      "text/plain": [
       "array(['Brand', 'Competitor', 'Generic', 'Facebook Ads'], dtype=object)"
      ]
     },
     "execution_count": 42,
     "metadata": {},
     "output_type": "execute_result"
    }
   ],
   "source": [
    "df3.subchannel.unique()"
   ]
  },
  {
   "cell_type": "code",
   "execution_count": 43,
   "id": "2677db39-d803-4a0f-8530-98ff9ee04782",
   "metadata": {},
   "outputs": [
    {
     "data": {
      "text/plain": [
       "Index(['phase', 'campaign_platform', 'campaign_type', 'communication_medium',\n",
       "       'subchannel', 'audience_type', 'creative_type', 'creative_name',\n",
       "       'device', 'age', 'spends', 'impressions', 'clicks', 'link_clicks'],\n",
       "      dtype='object')"
      ]
     },
     "execution_count": 43,
     "metadata": {},
     "output_type": "execute_result"
    }
   ],
   "source": [
    "df3.columns"
   ]
  },
  {
   "cell_type": "code",
   "execution_count": 44,
   "id": "19ff9458-b2b9-4286-84f1-297616973854",
   "metadata": {},
   "outputs": [],
   "source": [
    "#DATA TRANSFORMATION FUNCTIONS\n",
    "def func_phase(x):\n",
    "    return 1\n",
    "\n",
    "def func_platform(x):\n",
    "    if x=='Google Ads':\n",
    "        return 0\n",
    "    elif x== 'Facebook Ads':\n",
    "        return 1\n",
    "    return x\n",
    "        \n",
    "def func_type(x):\n",
    "    if x=='Search':\n",
    "        return 0\n",
    "    elif x== 'Conversions':\n",
    "        return 1\n",
    "    return x\n",
    "\n",
    "def func_medium(x):\n",
    "    if x=='Search Keywords':\n",
    "        return 0\n",
    "    elif x== 'Creative':\n",
    "        return 1\n",
    "    return x\n",
    "\n",
    "\n",
    "def func_sub(x):\n",
    "     if x=='Brand':\n",
    "         return 0\n",
    "     elif x== 'Competitor':\n",
    "         return 1\n",
    "     elif x== 'Generic':\n",
    "         return 2\n",
    "     elif x== 'Facebook Ads':\n",
    "         return 3\n",
    "     return x\n",
    "                \n",
    "\n"
   ]
  },
  {
   "cell_type": "code",
   "execution_count": 45,
   "id": "0b2f636d-ba6a-46bf-9d88-d73deda5f1df",
   "metadata": {},
   "outputs": [],
   "source": [
    "#df3.link_clicks.unique()"
   ]
  },
  {
   "cell_type": "code",
   "execution_count": 46,
   "id": "8bfee95f-4c41-4455-8fb6-eb3ad74bdf5c",
   "metadata": {},
   "outputs": [],
   "source": [
    "def func_audience(x):\n",
    "     if x=='Audience 1':\n",
    "         return 0\n",
    "     elif x== 'Audience 2':\n",
    "         return 1\n",
    "     elif x== 'Audience 3':\n",
    "         return 2\n",
    "     elif x== 'Audience 4':\n",
    "         return 3\n",
    "     return x\n",
    "\n",
    "def func_creative(x):\n",
    "    if x=='Unique':\n",
    "        return 0\n",
    "    elif x=='Carousal':\n",
    "        return 1\n",
    "    elif x== 'Image':\n",
    "        return 2\n",
    "    return x\n",
    "\n",
    "def func_name(x):\n",
    "    if x=='other':\n",
    "        return 0\n",
    "    elif x=='Carousal':\n",
    "        return 1\n",
    "    elif x=='Click':\n",
    "        return 2\n",
    "    elif x=='Girl':\n",
    "        return 3\n",
    "    return x\n",
    "\n",
    "def func_device(x):\n",
    "    if x=='Desktop':\n",
    "        return 0\n",
    "    elif x=='Mobile':\n",
    "        return 1\n",
    "    elif x=='Tablet':\n",
    "        return 2\n",
    "    elif x=='device':\n",
    "        return 3\n",
    "    return x\n",
    "#func_creative('Unique')\n",
    "\"\"\"\n",
    "['18-24', '25-34', '35-44', 'Undetermined', '45-54', '55-64',\n",
    "       '65 or more'], dtype=object)\n",
    "\"\"\"\n",
    "\n",
    "def func_age(x):\n",
    "    if x=='18-24':\n",
    "        return 0\n",
    "    elif x=='25-34':\n",
    "        return 1\n",
    "    elif x=='35-44':\n",
    "        return 2\n",
    "    elif x=='Undetermined':\n",
    "        return 3\n",
    "    elif x=='45-54':\n",
    "        return 4\n",
    "    elif x=='55-64':\n",
    "        return 5\n",
    "    elif x=='65 or more':\n",
    "        return 6\n",
    "    return x\n",
    "\n",
    "#func_age('65 or more')"
   ]
  },
  {
   "cell_type": "code",
   "execution_count": 47,
   "id": "0da6c9e3-4e1d-483c-82d6-efec6fbd2b14",
   "metadata": {},
   "outputs": [
    {
     "data": {
      "text/plain": [
       "Index(['phase', 'campaign_platform', 'campaign_type', 'communication_medium',\n",
       "       'subchannel', 'audience_type', 'creative_type', 'creative_name',\n",
       "       'device', 'age', 'spends', 'impressions', 'clicks', 'link_clicks'],\n",
       "      dtype='object')"
      ]
     },
     "execution_count": 47,
     "metadata": {},
     "output_type": "execute_result"
    }
   ],
   "source": [
    "df3.columns"
   ]
  },
  {
   "cell_type": "code",
   "execution_count": 48,
   "id": "b1a9108f-36ee-42bb-9632-380247fa22b2",
   "metadata": {},
   "outputs": [],
   "source": [
    "df3.phase=df.phase.apply(func_phase)\n",
    "df3.campaign_platform=df3.campaign_platform.apply(func_platform)\n",
    "df3.campaign_type=df3.campaign_type.apply(func_type)\n",
    "df3.communication_medium=df3.communication_medium.apply(func_medium)\n",
    "df3.subchannel=df3.subchannel.apply(func_sub)"
   ]
  },
  {
   "cell_type": "code",
   "execution_count": 49,
   "id": "556ecfa8-0501-4aaf-ab5a-cbe974ffba03",
   "metadata": {},
   "outputs": [],
   "source": [
    "df3.audience_type=df3.audience_type.apply(func_audience)\n",
    "df3.creative_type=df3.creative_type.apply(func_creative)\n",
    "df3.creative_name=df3.creative_name.apply(func_name)\n",
    "df3.device=df3.device.apply(func_device)\n",
    "df3.age=df3.age.apply(func_age)\n"
   ]
  },
  {
   "cell_type": "code",
   "execution_count": 50,
   "id": "128c6060-04cf-4488-8fe4-75552c897809",
   "metadata": {},
   "outputs": [
    {
     "data": {
      "text/html": [
       "<div>\n",
       "<style scoped>\n",
       "    .dataframe tbody tr th:only-of-type {\n",
       "        vertical-align: middle;\n",
       "    }\n",
       "\n",
       "    .dataframe tbody tr th {\n",
       "        vertical-align: top;\n",
       "    }\n",
       "\n",
       "    .dataframe thead th {\n",
       "        text-align: right;\n",
       "    }\n",
       "</style>\n",
       "<table border=\"1\" class=\"dataframe\">\n",
       "  <thead>\n",
       "    <tr style=\"text-align: right;\">\n",
       "      <th></th>\n",
       "      <th>phase</th>\n",
       "      <th>campaign_platform</th>\n",
       "      <th>campaign_type</th>\n",
       "      <th>communication_medium</th>\n",
       "      <th>subchannel</th>\n",
       "      <th>audience_type</th>\n",
       "      <th>creative_type</th>\n",
       "      <th>creative_name</th>\n",
       "      <th>device</th>\n",
       "      <th>age</th>\n",
       "      <th>spends</th>\n",
       "      <th>impressions</th>\n",
       "      <th>clicks</th>\n",
       "      <th>link_clicks</th>\n",
       "    </tr>\n",
       "  </thead>\n",
       "  <tbody>\n",
       "    <tr>\n",
       "      <th>0</th>\n",
       "      <td>1</td>\n",
       "      <td>0</td>\n",
       "      <td>0</td>\n",
       "      <td>0</td>\n",
       "      <td>0</td>\n",
       "      <td>3</td>\n",
       "      <td>0</td>\n",
       "      <td>0</td>\n",
       "      <td>0</td>\n",
       "      <td>0</td>\n",
       "      <td>0.00</td>\n",
       "      <td>2</td>\n",
       "      <td>0</td>\n",
       "      <td>0.0</td>\n",
       "    </tr>\n",
       "    <tr>\n",
       "      <th>1</th>\n",
       "      <td>1</td>\n",
       "      <td>0</td>\n",
       "      <td>0</td>\n",
       "      <td>0</td>\n",
       "      <td>0</td>\n",
       "      <td>3</td>\n",
       "      <td>0</td>\n",
       "      <td>0</td>\n",
       "      <td>0</td>\n",
       "      <td>1</td>\n",
       "      <td>0.00</td>\n",
       "      <td>5</td>\n",
       "      <td>0</td>\n",
       "      <td>0.0</td>\n",
       "    </tr>\n",
       "    <tr>\n",
       "      <th>2</th>\n",
       "      <td>1</td>\n",
       "      <td>0</td>\n",
       "      <td>0</td>\n",
       "      <td>0</td>\n",
       "      <td>0</td>\n",
       "      <td>3</td>\n",
       "      <td>0</td>\n",
       "      <td>0</td>\n",
       "      <td>0</td>\n",
       "      <td>2</td>\n",
       "      <td>0.00</td>\n",
       "      <td>1</td>\n",
       "      <td>0</td>\n",
       "      <td>0.0</td>\n",
       "    </tr>\n",
       "    <tr>\n",
       "      <th>3</th>\n",
       "      <td>1</td>\n",
       "      <td>0</td>\n",
       "      <td>0</td>\n",
       "      <td>0</td>\n",
       "      <td>0</td>\n",
       "      <td>3</td>\n",
       "      <td>0</td>\n",
       "      <td>0</td>\n",
       "      <td>0</td>\n",
       "      <td>3</td>\n",
       "      <td>14.63</td>\n",
       "      <td>5</td>\n",
       "      <td>3</td>\n",
       "      <td>0.0</td>\n",
       "    </tr>\n",
       "    <tr>\n",
       "      <th>4</th>\n",
       "      <td>1</td>\n",
       "      <td>0</td>\n",
       "      <td>0</td>\n",
       "      <td>0</td>\n",
       "      <td>0</td>\n",
       "      <td>3</td>\n",
       "      <td>0</td>\n",
       "      <td>0</td>\n",
       "      <td>0</td>\n",
       "      <td>0</td>\n",
       "      <td>53.31</td>\n",
       "      <td>10</td>\n",
       "      <td>2</td>\n",
       "      <td>0.0</td>\n",
       "    </tr>\n",
       "  </tbody>\n",
       "</table>\n",
       "</div>"
      ],
      "text/plain": [
       "   phase  campaign_platform  campaign_type  communication_medium  subchannel  \\\n",
       "0      1                  0              0                     0           0   \n",
       "1      1                  0              0                     0           0   \n",
       "2      1                  0              0                     0           0   \n",
       "3      1                  0              0                     0           0   \n",
       "4      1                  0              0                     0           0   \n",
       "\n",
       "   audience_type  creative_type  creative_name  device  age  spends  \\\n",
       "0              3              0              0       0    0    0.00   \n",
       "1              3              0              0       0    1    0.00   \n",
       "2              3              0              0       0    2    0.00   \n",
       "3              3              0              0       0    3   14.63   \n",
       "4              3              0              0       0    0   53.31   \n",
       "\n",
       "   impressions  clicks  link_clicks  \n",
       "0            2       0          0.0  \n",
       "1            5       0          0.0  \n",
       "2            1       0          0.0  \n",
       "3            5       3          0.0  \n",
       "4           10       2          0.0  "
      ]
     },
     "execution_count": 50,
     "metadata": {},
     "output_type": "execute_result"
    }
   ],
   "source": [
    "df3.head()"
   ]
  },
  {
   "cell_type": "code",
   "execution_count": 51,
   "id": "c3ba9cc0-4524-4419-b01f-15b6a4bd4883",
   "metadata": {},
   "outputs": [
    {
     "data": {
      "text/plain": [
       "0"
      ]
     },
     "execution_count": 51,
     "metadata": {},
     "output_type": "execute_result"
    }
   ],
   "source": [
    "func_audience('Audience 1')"
   ]
  },
  {
   "cell_type": "code",
   "execution_count": 52,
   "id": "df932619-b3bf-4153-bd93-ccb2775af587",
   "metadata": {},
   "outputs": [],
   "source": [
    "df4=df3.drop(\"phase\", axis=\"columns\")"
   ]
  },
  {
   "cell_type": "code",
   "execution_count": 53,
   "id": "911d81f0-45cd-431a-bda2-6a3b7c4a5bfa",
   "metadata": {},
   "outputs": [
    {
     "data": {
      "text/html": [
       "<div>\n",
       "<style scoped>\n",
       "    .dataframe tbody tr th:only-of-type {\n",
       "        vertical-align: middle;\n",
       "    }\n",
       "\n",
       "    .dataframe tbody tr th {\n",
       "        vertical-align: top;\n",
       "    }\n",
       "\n",
       "    .dataframe thead th {\n",
       "        text-align: right;\n",
       "    }\n",
       "</style>\n",
       "<table border=\"1\" class=\"dataframe\">\n",
       "  <thead>\n",
       "    <tr style=\"text-align: right;\">\n",
       "      <th></th>\n",
       "      <th>campaign_platform</th>\n",
       "      <th>campaign_type</th>\n",
       "      <th>communication_medium</th>\n",
       "      <th>subchannel</th>\n",
       "      <th>audience_type</th>\n",
       "      <th>creative_type</th>\n",
       "      <th>creative_name</th>\n",
       "      <th>device</th>\n",
       "      <th>age</th>\n",
       "      <th>spends</th>\n",
       "      <th>impressions</th>\n",
       "      <th>clicks</th>\n",
       "      <th>link_clicks</th>\n",
       "    </tr>\n",
       "  </thead>\n",
       "  <tbody>\n",
       "    <tr>\n",
       "      <th>0</th>\n",
       "      <td>0</td>\n",
       "      <td>0</td>\n",
       "      <td>0</td>\n",
       "      <td>0</td>\n",
       "      <td>3</td>\n",
       "      <td>0</td>\n",
       "      <td>0</td>\n",
       "      <td>0</td>\n",
       "      <td>0</td>\n",
       "      <td>0.00</td>\n",
       "      <td>2</td>\n",
       "      <td>0</td>\n",
       "      <td>0.0</td>\n",
       "    </tr>\n",
       "    <tr>\n",
       "      <th>1</th>\n",
       "      <td>0</td>\n",
       "      <td>0</td>\n",
       "      <td>0</td>\n",
       "      <td>0</td>\n",
       "      <td>3</td>\n",
       "      <td>0</td>\n",
       "      <td>0</td>\n",
       "      <td>0</td>\n",
       "      <td>1</td>\n",
       "      <td>0.00</td>\n",
       "      <td>5</td>\n",
       "      <td>0</td>\n",
       "      <td>0.0</td>\n",
       "    </tr>\n",
       "    <tr>\n",
       "      <th>2</th>\n",
       "      <td>0</td>\n",
       "      <td>0</td>\n",
       "      <td>0</td>\n",
       "      <td>0</td>\n",
       "      <td>3</td>\n",
       "      <td>0</td>\n",
       "      <td>0</td>\n",
       "      <td>0</td>\n",
       "      <td>2</td>\n",
       "      <td>0.00</td>\n",
       "      <td>1</td>\n",
       "      <td>0</td>\n",
       "      <td>0.0</td>\n",
       "    </tr>\n",
       "    <tr>\n",
       "      <th>3</th>\n",
       "      <td>0</td>\n",
       "      <td>0</td>\n",
       "      <td>0</td>\n",
       "      <td>0</td>\n",
       "      <td>3</td>\n",
       "      <td>0</td>\n",
       "      <td>0</td>\n",
       "      <td>0</td>\n",
       "      <td>3</td>\n",
       "      <td>14.63</td>\n",
       "      <td>5</td>\n",
       "      <td>3</td>\n",
       "      <td>0.0</td>\n",
       "    </tr>\n",
       "    <tr>\n",
       "      <th>4</th>\n",
       "      <td>0</td>\n",
       "      <td>0</td>\n",
       "      <td>0</td>\n",
       "      <td>0</td>\n",
       "      <td>3</td>\n",
       "      <td>0</td>\n",
       "      <td>0</td>\n",
       "      <td>0</td>\n",
       "      <td>0</td>\n",
       "      <td>53.31</td>\n",
       "      <td>10</td>\n",
       "      <td>2</td>\n",
       "      <td>0.0</td>\n",
       "    </tr>\n",
       "  </tbody>\n",
       "</table>\n",
       "</div>"
      ],
      "text/plain": [
       "   campaign_platform  campaign_type  communication_medium  subchannel  \\\n",
       "0                  0              0                     0           0   \n",
       "1                  0              0                     0           0   \n",
       "2                  0              0                     0           0   \n",
       "3                  0              0                     0           0   \n",
       "4                  0              0                     0           0   \n",
       "\n",
       "   audience_type  creative_type  creative_name  device  age  spends  \\\n",
       "0              3              0              0       0    0    0.00   \n",
       "1              3              0              0       0    1    0.00   \n",
       "2              3              0              0       0    2    0.00   \n",
       "3              3              0              0       0    3   14.63   \n",
       "4              3              0              0       0    0   53.31   \n",
       "\n",
       "   impressions  clicks  link_clicks  \n",
       "0            2       0          0.0  \n",
       "1            5       0          0.0  \n",
       "2            1       0          0.0  \n",
       "3            5       3          0.0  \n",
       "4           10       2          0.0  "
      ]
     },
     "execution_count": 53,
     "metadata": {},
     "output_type": "execute_result"
    }
   ],
   "source": [
    "df4.head()"
   ]
  },
  {
   "cell_type": "code",
   "execution_count": 54,
   "id": "3e54c158-3b00-4739-9c94-8d9de7df04c5",
   "metadata": {},
   "outputs": [
    {
     "data": {
      "text/html": [
       "<div>\n",
       "<style scoped>\n",
       "    .dataframe tbody tr th:only-of-type {\n",
       "        vertical-align: middle;\n",
       "    }\n",
       "\n",
       "    .dataframe tbody tr th {\n",
       "        vertical-align: top;\n",
       "    }\n",
       "\n",
       "    .dataframe thead th {\n",
       "        text-align: right;\n",
       "    }\n",
       "</style>\n",
       "<table border=\"1\" class=\"dataframe\">\n",
       "  <thead>\n",
       "    <tr style=\"text-align: right;\">\n",
       "      <th></th>\n",
       "      <th>campaign_platform</th>\n",
       "      <th>campaign_type</th>\n",
       "      <th>communication_medium</th>\n",
       "      <th>subchannel</th>\n",
       "      <th>audience_type</th>\n",
       "      <th>creative_type</th>\n",
       "      <th>creative_name</th>\n",
       "      <th>device</th>\n",
       "      <th>age</th>\n",
       "      <th>spends</th>\n",
       "      <th>impressions</th>\n",
       "      <th>clicks</th>\n",
       "      <th>link_clicks</th>\n",
       "    </tr>\n",
       "  </thead>\n",
       "  <tbody>\n",
       "    <tr>\n",
       "      <th>count</th>\n",
       "      <td>16288.000000</td>\n",
       "      <td>16288.000000</td>\n",
       "      <td>16288.000000</td>\n",
       "      <td>16288.000000</td>\n",
       "      <td>16288.000000</td>\n",
       "      <td>16288.000000</td>\n",
       "      <td>16288.000000</td>\n",
       "      <td>16288.000000</td>\n",
       "      <td>16288.000000</td>\n",
       "      <td>16288.000000</td>\n",
       "      <td>16288.000000</td>\n",
       "      <td>16288.000000</td>\n",
       "      <td>16288.000000</td>\n",
       "    </tr>\n",
       "    <tr>\n",
       "      <th>mean</th>\n",
       "      <td>0.072876</td>\n",
       "      <td>0.072876</td>\n",
       "      <td>0.072876</td>\n",
       "      <td>0.942596</td>\n",
       "      <td>2.822753</td>\n",
       "      <td>0.123772</td>\n",
       "      <td>0.143050</td>\n",
       "      <td>0.845408</td>\n",
       "      <td>2.614072</td>\n",
       "      <td>153.565088</td>\n",
       "      <td>296.516147</td>\n",
       "      <td>12.369781</td>\n",
       "      <td>2.170371</td>\n",
       "    </tr>\n",
       "    <tr>\n",
       "      <th>std</th>\n",
       "      <td>0.259940</td>\n",
       "      <td>0.259940</td>\n",
       "      <td>0.259940</td>\n",
       "      <td>1.024395</td>\n",
       "      <td>0.654989</td>\n",
       "      <td>0.458539</td>\n",
       "      <td>0.549099</td>\n",
       "      <td>0.862028</td>\n",
       "      <td>1.875345</td>\n",
       "      <td>491.194006</td>\n",
       "      <td>2484.608093</td>\n",
       "      <td>45.489434</td>\n",
       "      <td>18.659132</td>\n",
       "    </tr>\n",
       "    <tr>\n",
       "      <th>min</th>\n",
       "      <td>0.000000</td>\n",
       "      <td>0.000000</td>\n",
       "      <td>0.000000</td>\n",
       "      <td>0.000000</td>\n",
       "      <td>0.000000</td>\n",
       "      <td>0.000000</td>\n",
       "      <td>0.000000</td>\n",
       "      <td>0.000000</td>\n",
       "      <td>0.000000</td>\n",
       "      <td>0.000000</td>\n",
       "      <td>0.000000</td>\n",
       "      <td>0.000000</td>\n",
       "      <td>0.000000</td>\n",
       "    </tr>\n",
       "    <tr>\n",
       "      <th>25%</th>\n",
       "      <td>0.000000</td>\n",
       "      <td>0.000000</td>\n",
       "      <td>0.000000</td>\n",
       "      <td>0.000000</td>\n",
       "      <td>3.000000</td>\n",
       "      <td>0.000000</td>\n",
       "      <td>0.000000</td>\n",
       "      <td>0.000000</td>\n",
       "      <td>1.000000</td>\n",
       "      <td>0.000000</td>\n",
       "      <td>3.000000</td>\n",
       "      <td>0.000000</td>\n",
       "      <td>0.000000</td>\n",
       "    </tr>\n",
       "    <tr>\n",
       "      <th>50%</th>\n",
       "      <td>0.000000</td>\n",
       "      <td>0.000000</td>\n",
       "      <td>0.000000</td>\n",
       "      <td>1.000000</td>\n",
       "      <td>3.000000</td>\n",
       "      <td>0.000000</td>\n",
       "      <td>0.000000</td>\n",
       "      <td>1.000000</td>\n",
       "      <td>2.000000</td>\n",
       "      <td>25.435000</td>\n",
       "      <td>13.000000</td>\n",
       "      <td>2.000000</td>\n",
       "      <td>0.000000</td>\n",
       "    </tr>\n",
       "    <tr>\n",
       "      <th>75%</th>\n",
       "      <td>0.000000</td>\n",
       "      <td>0.000000</td>\n",
       "      <td>0.000000</td>\n",
       "      <td>2.000000</td>\n",
       "      <td>3.000000</td>\n",
       "      <td>0.000000</td>\n",
       "      <td>0.000000</td>\n",
       "      <td>1.000000</td>\n",
       "      <td>4.000000</td>\n",
       "      <td>116.210000</td>\n",
       "      <td>66.000000</td>\n",
       "      <td>9.000000</td>\n",
       "      <td>0.000000</td>\n",
       "    </tr>\n",
       "    <tr>\n",
       "      <th>max</th>\n",
       "      <td>1.000000</td>\n",
       "      <td>1.000000</td>\n",
       "      <td>1.000000</td>\n",
       "      <td>3.000000</td>\n",
       "      <td>3.000000</td>\n",
       "      <td>2.000000</td>\n",
       "      <td>3.000000</td>\n",
       "      <td>3.000000</td>\n",
       "      <td>6.000000</td>\n",
       "      <td>9221.960000</td>\n",
       "      <td>67454.000000</td>\n",
       "      <td>1075.000000</td>\n",
       "      <td>450.000000</td>\n",
       "    </tr>\n",
       "  </tbody>\n",
       "</table>\n",
       "</div>"
      ],
      "text/plain": [
       "       campaign_platform  campaign_type  communication_medium    subchannel  \\\n",
       "count       16288.000000   16288.000000          16288.000000  16288.000000   \n",
       "mean            0.072876       0.072876              0.072876      0.942596   \n",
       "std             0.259940       0.259940              0.259940      1.024395   \n",
       "min             0.000000       0.000000              0.000000      0.000000   \n",
       "25%             0.000000       0.000000              0.000000      0.000000   \n",
       "50%             0.000000       0.000000              0.000000      1.000000   \n",
       "75%             0.000000       0.000000              0.000000      2.000000   \n",
       "max             1.000000       1.000000              1.000000      3.000000   \n",
       "\n",
       "       audience_type  creative_type  creative_name        device  \\\n",
       "count   16288.000000   16288.000000   16288.000000  16288.000000   \n",
       "mean        2.822753       0.123772       0.143050      0.845408   \n",
       "std         0.654989       0.458539       0.549099      0.862028   \n",
       "min         0.000000       0.000000       0.000000      0.000000   \n",
       "25%         3.000000       0.000000       0.000000      0.000000   \n",
       "50%         3.000000       0.000000       0.000000      1.000000   \n",
       "75%         3.000000       0.000000       0.000000      1.000000   \n",
       "max         3.000000       2.000000       3.000000      3.000000   \n",
       "\n",
       "                age        spends   impressions        clicks   link_clicks  \n",
       "count  16288.000000  16288.000000  16288.000000  16288.000000  16288.000000  \n",
       "mean       2.614072    153.565088    296.516147     12.369781      2.170371  \n",
       "std        1.875345    491.194006   2484.608093     45.489434     18.659132  \n",
       "min        0.000000      0.000000      0.000000      0.000000      0.000000  \n",
       "25%        1.000000      0.000000      3.000000      0.000000      0.000000  \n",
       "50%        2.000000     25.435000     13.000000      2.000000      0.000000  \n",
       "75%        4.000000    116.210000     66.000000      9.000000      0.000000  \n",
       "max        6.000000   9221.960000  67454.000000   1075.000000    450.000000  "
      ]
     },
     "execution_count": 54,
     "metadata": {},
     "output_type": "execute_result"
    }
   ],
   "source": [
    "\n",
    "df4.describe()"
   ]
  },
  {
   "cell_type": "code",
   "execution_count": 55,
   "id": "4d5fbd10-fe9b-4314-8ca5-4cc8b8df79db",
   "metadata": {},
   "outputs": [
    {
     "name": "stdout",
     "output_type": "stream",
     "text": [
      "                      campaign_platform  campaign_type  communication_medium  \\\n",
      "campaign_platform              1.000000       1.000000              1.000000   \n",
      "campaign_type                  1.000000       1.000000              1.000000   \n",
      "communication_medium           1.000000       1.000000              1.000000   \n",
      "subchannel                     0.563103       0.563103              0.563103   \n",
      "audience_type                 -0.965242      -0.965242             -0.965242   \n",
      "creative_type                  0.962802       0.962802              0.962802   \n",
      "creative_name                  0.929241       0.929241              0.929241   \n",
      "device                         0.700777       0.700777              0.700777   \n",
      "age                           -0.057674      -0.057674             -0.057674   \n",
      "spends                         0.182724       0.182724              0.182724   \n",
      "impressions                    0.351822       0.351822              0.351822   \n",
      "clicks                         0.325730       0.325730              0.325730   \n",
      "link_clicks                    0.414890       0.414890              0.414890   \n",
      "\n",
      "                      subchannel  audience_type  creative_type  creative_name  \\\n",
      "campaign_platform       0.563103      -0.965242       0.962802       0.929241   \n",
      "campaign_type           0.563103      -0.965242       0.962802       0.929241   \n",
      "communication_medium    0.563103      -0.965242       0.962802       0.929241   \n",
      "subchannel              1.000000      -0.543531       0.542157       0.523258   \n",
      "audience_type          -0.543531       1.000000      -0.928871      -0.898481   \n",
      "creative_type           0.542157      -0.928871       1.000000       0.978739   \n",
      "creative_name           0.523258      -0.898481       0.978739       1.000000   \n",
      "device                  0.395795      -0.676419       0.674709       0.651190   \n",
      "age                     0.008347       0.049027      -0.048693      -0.048462   \n",
      "spends                  0.196668      -0.221183       0.208426       0.175334   \n",
      "impressions             0.204326      -0.398968       0.382905       0.338553   \n",
      "clicks                  0.184771      -0.369513       0.366215       0.321536   \n",
      "link_clicks             0.233626      -0.458766       0.448570       0.396957   \n",
      "\n",
      "                        device       age    spends  impressions    clicks  \\\n",
      "campaign_platform     0.700777 -0.057674  0.182724     0.351822  0.325730   \n",
      "campaign_type         0.700777 -0.057674  0.182724     0.351822  0.325730   \n",
      "communication_medium  0.700777 -0.057674  0.182724     0.351822  0.325730   \n",
      "subchannel            0.395795  0.008347  0.196668     0.204326  0.184771   \n",
      "audience_type        -0.676419  0.049027 -0.221183    -0.398968 -0.369513   \n",
      "creative_type         0.674709 -0.048693  0.208426     0.382905  0.366215   \n",
      "creative_name         0.651190 -0.048462  0.175334     0.338553  0.321536   \n",
      "device                1.000000 -0.058025  0.134972     0.249250  0.246045   \n",
      "age                  -0.058025  1.000000 -0.187525    -0.076633 -0.162527   \n",
      "spends                0.134972 -0.187525  1.000000     0.744762  0.837970   \n",
      "impressions           0.249250 -0.076633  0.744762     1.000000  0.917821   \n",
      "clicks                0.246045 -0.162527  0.837970     0.917821  1.000000   \n",
      "link_clicks           0.290746 -0.077834  0.697201     0.963108  0.925588   \n",
      "\n",
      "                      link_clicks  \n",
      "campaign_platform        0.414890  \n",
      "campaign_type            0.414890  \n",
      "communication_medium     0.414890  \n",
      "subchannel               0.233626  \n",
      "audience_type           -0.458766  \n",
      "creative_type            0.448570  \n",
      "creative_name            0.396957  \n",
      "device                   0.290746  \n",
      "age                     -0.077834  \n",
      "spends                   0.697201  \n",
      "impressions              0.963108  \n",
      "clicks                   0.925588  \n",
      "link_clicks              1.000000  \n"
     ]
    }
   ],
   "source": [
    "correl=df4.corr()\n",
    "print(correl)"
   ]
  },
  {
   "cell_type": "code",
   "execution_count": 56,
   "id": "0a69066a-aa5c-4446-9700-9aeb482a0c29",
   "metadata": {},
   "outputs": [],
   "source": [
    "import matplotlib.pyplot as plt"
   ]
  },
  {
   "cell_type": "code",
   "execution_count": 57,
   "id": "71385b64-c422-4f99-9d78-99bbdea9f0ab",
   "metadata": {},
   "outputs": [
    {
     "data": {
      "image/png": "[encoded data removed]",
      "text/plain": [
       "<Figure size 640x480 with 1 Axes>"
      ]
     },
     "metadata": {},
     "output_type": "display_data"
    }
   ],
   "source": [
    "plt.bar(df2.campaign_platform, df2.clicks)\n",
    "plt.grid()\n",
    "plt.show()"
   ]
  },
  {
   "cell_type": "code",
   "execution_count": 58,
   "id": "8232fb70-712d-4894-aba8-6a11e24ebf77",
   "metadata": {},
   "outputs": [
    {
     "data": {
      "text/plain": [
       "Index(['campaign_platform', 'campaign_type', 'communication_medium',\n",
       "       'subchannel', 'audience_type', 'creative_type', 'creative_name',\n",
       "       'device', 'age', 'spends', 'impressions', 'clicks', 'link_clicks'],\n",
       "      dtype='object')"
      ]
     },
     "execution_count": 58,
     "metadata": {},
     "output_type": "execute_result"
    }
   ],
   "source": [
    "df4.columns"
   ]
  },
  {
   "cell_type": "code",
   "execution_count": 59,
   "id": "b916bc81-0d9b-49f4-9bc2-57ee08f323ba",
   "metadata": {},
   "outputs": [
    {
     "data": {
      "image/png": "[encoded data removed]",
      "text/plain": [
       "<Figure size 640x480 with 1 Axes>"
      ]
     },
     "metadata": {},
     "output_type": "display_data"
    }
   ],
   "source": [
    "plt.bar(df2.campaign_type, df2.clicks)\n",
    "plt.grid()\n",
    "plt.show()"
   ]
  },
  {
   "cell_type": "code",
   "execution_count": 60,
   "id": "23b44ef0-e570-4e8d-99bc-2f48e96268d8",
   "metadata": {},
   "outputs": [
    {
     "data": {
      "image/png": "[encoded data removed]",
      "text/plain": [
       "<Figure size 640x480 with 1 Axes>"
      ]
     },
     "metadata": {},
     "output_type": "display_data"
    }
   ],
   "source": [
    "\n",
    "plt.scatter(df4.spends, df4.clicks)\n",
    "plt.xlabel(\"Spends\")\n",
    "plt.ylabel(\"clicks\")\n",
    "plt.grid()\n",
    "plt.show()"
   ]
  },
  {
   "cell_type": "code",
   "execution_count": 61,
   "id": "019966ea-366f-49a2-97fc-e4970d877bda",
   "metadata": {},
   "outputs": [
    {
     "data": {
      "text/plain": [
       "Text(0, 0.5, 'clicks')"
      ]
     },
     "execution_count": 61,
     "metadata": {},
     "output_type": "execute_result"
    },
    {
     "data": {
      "image/png": "[encoded data removed]",
      "text/plain": [
       "<Figure size 640x480 with 1 Axes>"
      ]
     },
     "metadata": {},
     "output_type": "display_data"
    }
   ],
   "source": [
    "plt.scatter(df4.impressions, df4.clicks)\n",
    "plt.xlabel(\"impression\")\n",
    "plt.grid()\n",
    "plt.ylabel(\"clicks\")"
   ]
  },
  {
   "cell_type": "code",
   "execution_count": 62,
   "id": "8e73cbe4-d3b8-48c1-8d67-a0eca2b2ec53",
   "metadata": {},
   "outputs": [
    {
     "data": {
      "text/plain": [
       "Text(0, 0.5, 'clicks')"
      ]
     },
     "execution_count": 62,
     "metadata": {},
     "output_type": "execute_result"
    },
    {
     "data": {
      "image/png": "[encoded data removed]",
      "text/plain": [
       "<Figure size 640x480 with 1 Axes>"
      ]
     },
     "metadata": {},
     "output_type": "display_data"
    }
   ],
   "source": [
    "plt.scatter(df4.link_clicks, df4.clicks)\n",
    "plt.xlabel(\"link_clicks\")\n",
    "plt.grid()\n",
    "plt.ylabel(\"clicks\")"
   ]
  },
  {
   "cell_type": "code",
   "execution_count": 63,
   "id": "00a3914f-6618-4421-8d43-94ea0df6a8be",
   "metadata": {},
   "outputs": [
    {
     "data": {
      "image/png": "[encoded data removed]",
      "text/plain": [
       "<Figure size 640x480 with 1 Axes>"
      ]
     },
     "metadata": {},
     "output_type": "display_data"
    }
   ],
   "source": [
    "plt.bar(df4.creative_type, df4.clicks)\n",
    "plt.xlabel(\"creative_type\")\n",
    "plt.ylabel(\"clicks\")\n",
    "plt.grid()\n",
    "plt.show()"
   ]
  },
  {
   "cell_type": "code",
   "execution_count": 64,
   "id": "718f1fde-5820-41f0-9c40-db4cfc221471",
   "metadata": {},
   "outputs": [
    {
     "data": {
      "image/png": "[encoded data removed]",
      "text/plain": [
       "<Figure size 640x480 with 1 Axes>"
      ]
     },
     "metadata": {},
     "output_type": "display_data"
    }
   ],
   "source": [
    "plt.bar(df4.creative_name, df4.clicks)\n",
    "plt.xlabel(\"creative_name\")\n",
    "plt.ylabel(\"clicks\")\n",
    "plt.grid()\n",
    "plt.show()"
   ]
  },
  {
   "cell_type": "code",
   "execution_count": 65,
   "id": "237c256b-315d-4731-942a-b349c0430012",
   "metadata": {},
   "outputs": [
    {
     "data": {
      "image/png": "[encoded data removed]",
      "text/plain": [
       "<Figure size 640x480 with 1 Axes>"
      ]
     },
     "metadata": {},
     "output_type": "display_data"
    }
   ],
   "source": [
    "plt.bar(df4.audience_type, df4.clicks)\n",
    "plt.xlabel(\"audience_type\")\n",
    "plt.ylabel(\"clicks\")\n",
    "plt.grid()\n",
    "plt.show()"
   ]
  },
  {
   "cell_type": "code",
   "execution_count": 66,
   "id": "d27e53af-2946-4146-8257-5201074af2f6",
   "metadata": {},
   "outputs": [
    {
     "data": {
      "image/png": "[encoded data removed]",
      "text/plain": [
       "<Figure size 640x480 with 1 Axes>"
      ]
     },
     "metadata": {},
     "output_type": "display_data"
    }
   ],
   "source": [
    "plt.bar(df4.device, df4.clicks)\n",
    "plt.xlabel(\"device\")\n",
    "plt.ylabel(\"clicks\")\n",
    "plt.grid()\n",
    "plt.show()"
   ]
  },
  {
   "cell_type": "code",
   "execution_count": 67,
   "id": "4d45be42-034d-48d0-976c-9bc8b23d645c",
   "metadata": {},
   "outputs": [
    {
     "data": {
      "image/png": "[encoded data removed]",
      "text/plain": [
       "<Figure size 640x480 with 1 Axes>"
      ]
     },
     "metadata": {},
     "output_type": "display_data"
    }
   ],
   "source": [
    "plt.bar(df4.subchannel, df4.clicks)\n",
    "plt.xlabel(\"subchannel\")\n",
    "plt.ylabel(\"clicks\")\n",
    "plt.grid()\n",
    "plt.show()"
   ]
  },
  {
   "cell_type": "code",
   "execution_count": 68,
   "id": "671b7e0e-c5bb-47e2-8c2f-b0b351edc583",
   "metadata": {},
   "outputs": [
    {
     "data": {
      "text/plain": [
       "<Axes: >"
      ]
     },
     "execution_count": 68,
     "metadata": {},
     "output_type": "execute_result"
    },
    {
     "data": {
      "image/png": "[encoded data removed]",
      "text/plain": [
       "<Figure size 640x480 with 2 Axes>"
      ]
     },
     "metadata": {},
     "output_type": "display_data"
    }
   ],
   "source": [
    "sns.heatmap(correl)"
   ]
  },
  {
   "cell_type": "code",
   "execution_count": 69,
   "id": "01c75634-3273-4507-a8ab-d607c905ab46",
   "metadata": {},
   "outputs": [],
   "source": [
    "X=df4.drop([\"clicks\", \"link_clicks\"], axis=\"columns\")\n",
    "Y=df4[\"clicks\"]"
   ]
  },
  {
   "cell_type": "code",
   "execution_count": 70,
   "id": "4042a7cb-9728-4649-a6c3-df3e51c4902e",
   "metadata": {},
   "outputs": [],
   "source": [
    "#MODEL SELECTION\n",
    "from sklearn.model_selection import train_test_split\n",
    "from sklearn.linear_model import LinearRegression\n",
    "from sklearn.metrics import r2_score"
   ]
  },
  {
   "cell_type": "markdown",
   "id": "97f0f178-38fc-4982-abba-f7a170246b08",
   "metadata": {},
   "source": [
    "#Creating dependent and independent variable Y, X"
   ]
  },
  {
   "cell_type": "code",
   "execution_count": 71,
   "id": "34b2e665-b584-4237-b8c4-00bd79f4982a",
   "metadata": {},
   "outputs": [],
   "source": [
    "df5=df4.drop([\"device\", \"age\", \"subchannel\",\"audience_type\"], axis=\"columns\")"
   ]
  },
  {
   "cell_type": "code",
   "execution_count": 72,
   "id": "0915b081-82d9-42b6-826f-44d91f77ea3f",
   "metadata": {},
   "outputs": [],
   "source": [
    "X=df5.drop([\"clicks\"], axis=\"columns\")\n",
    "Y=df5[\"clicks\"]\n"
   ]
  },
  {
   "cell_type": "code",
   "execution_count": 73,
   "id": "3624760d-74ff-43fb-ba4d-c644c0326ea9",
   "metadata": {},
   "outputs": [],
   "source": [
    "x_train, x_test,y_train,y_test=train_test_split(X,Y,test_size=0.25)"
   ]
  },
  {
   "cell_type": "code",
   "execution_count": 74,
   "id": "8880a409-064f-43f8-b0c4-49fbb97f21a2",
   "metadata": {},
   "outputs": [
    {
     "data": {
      "text/html": [
       "<style>#sk-container-id-1 {color: black;}#sk-container-id-1 pre{padding: 0;}#sk-container-id-1 div.sk-toggleable {background-color: white;}#sk-container-id-1 label.sk-toggleable__label {cursor: pointer;display: block;width: 100%;margin-bottom: 0;padding: 0.3em;box-sizing: border-box;text-align: center;}#sk-container-id-1 label.sk-toggleable__label-arrow:before {content: \"▸\";float: left;margin-right: 0.25em;color: #696969;}#sk-container-id-1 label.sk-toggleable__label-arrow:hover:before {color: black;}#sk-container-id-1 div.sk-estimator:hover label.sk-toggleable__label-arrow:before {color: black;}#sk-container-id-1 div.sk-toggleable__content {max-height: 0;max-width: 0;overflow: hidden;text-align: left;background-color: #f0f8ff;}#sk-container-id-1 div.sk-toggleable__content pre {margin: 0.2em;color: black;border-radius: 0.25em;background-color: #f0f8ff;}#sk-container-id-1 input.sk-toggleable__control:checked~div.sk-toggleable__content {max-height: 200px;max-width: 100%;overflow: auto;}#sk-container-id-1 input.sk-toggleable__control:checked~label.sk-toggleable__label-arrow:before {content: \"▾\";}#sk-container-id-1 div.sk-estimator input.sk-toggleable__control:checked~label.sk-toggleable__label {background-color: #d4ebff;}#sk-container-id-1 div.sk-label input.sk-toggleable__control:checked~label.sk-toggleable__label {background-color: #d4ebff;}#sk-container-id-1 input.sk-hidden--visually {border: 0;clip: rect(1px 1px 1px 1px);clip: rect(1px, 1px, 1px, 1px);height: 1px;margin: -1px;overflow: hidden;padding: 0;position: absolute;width: 1px;}#sk-container-id-1 div.sk-estimator {font-family: monospace;background-color: #f0f8ff;border: 1px dotted black;border-radius: 0.25em;box-sizing: border-box;margin-bottom: 0.5em;}#sk-container-id-1 div.sk-estimator:hover {background-color: #d4ebff;}#sk-container-id-1 div.sk-parallel-item::after {content: \"\";width: 100%;border-bottom: 1px solid gray;flex-grow: 1;}#sk-container-id-1 div.sk-label:hover label.sk-toggleable__label {background-color: #d4ebff;}#sk-container-id-1 div.sk-serial::before {content: \"\";position: absolute;border-left: 1px solid gray;box-sizing: border-box;top: 0;bottom: 0;left: 50%;z-index: 0;}#sk-container-id-1 div.sk-serial {display: flex;flex-direction: column;align-items: center;background-color: white;padding-right: 0.2em;padding-left: 0.2em;position: relative;}#sk-container-id-1 div.sk-item {position: relative;z-index: 1;}#sk-container-id-1 div.sk-parallel {display: flex;align-items: stretch;justify-content: center;background-color: white;position: relative;}#sk-container-id-1 div.sk-item::before, #sk-container-id-1 div.sk-parallel-item::before {content: \"\";position: absolute;border-left: 1px solid gray;box-sizing: border-box;top: 0;bottom: 0;left: 50%;z-index: -1;}#sk-container-id-1 div.sk-parallel-item {display: flex;flex-direction: column;z-index: 1;position: relative;background-color: white;}#sk-container-id-1 div.sk-parallel-item:first-child::after {align-self: flex-end;width: 50%;}#sk-container-id-1 div.sk-parallel-item:last-child::after {align-self: flex-start;width: 50%;}#sk-container-id-1 div.sk-parallel-item:only-child::after {width: 0;}#sk-container-id-1 div.sk-dashed-wrapped {border: 1px dashed gray;margin: 0 0.4em 0.5em 0.4em;box-sizing: border-box;padding-bottom: 0.4em;background-color: white;}#sk-container-id-1 div.sk-label label {font-family: monospace;font-weight: bold;display: inline-block;line-height: 1.2em;}#sk-container-id-1 div.sk-label-container {text-align: center;}#sk-container-id-1 div.sk-container {/* jupyter's `normalize.less` sets `[hidden] { display: none; }` but bootstrap.min.css set `[hidden] { display: none !important; }` so we also need the `!important` here to be able to override the default hidden behavior on the sphinx rendered scikit-learn.org. See: https://github.com/scikit-learn/scikit-learn/issues/21755 */display: inline-block !important;position: relative;}#sk-container-id-1 div.sk-text-repr-fallback {display: none;}</style><div id=\"sk-container-id-1\" class=\"sk-top-container\"><div class=\"sk-text-repr-fallback\"><pre>LinearRegression()</pre><b>In a Jupyter environment, please rerun this cell to show the HTML representation or trust the notebook. <br />On GitHub, the HTML representation is unable to render, please try loading this page with nbviewer.org.</b></div><div class=\"sk-container\" hidden><div class=\"sk-item\"><div class=\"sk-estimator sk-toggleable\"><input class=\"sk-toggleable__control sk-hidden--visually\" id=\"sk-estimator-id-1\" type=\"checkbox\" checked><label for=\"sk-estimator-id-1\" class=\"sk-toggleable__label sk-toggleable__label-arrow\">LinearRegression</label><div class=\"sk-toggleable__content\"><pre>LinearRegression()</pre></div></div></div></div></div>"
      ],
      "text/plain": [
       "LinearRegression()"
      ]
     },
     "execution_count": 74,
     "metadata": {},
     "output_type": "execute_result"
    }
   ],
   "source": [
    "model=LinearRegression()\n",
    "model.fit(x_train,y_train)"
   ]
  },
  {
   "cell_type": "code",
   "execution_count": 75,
   "id": "07fbe967-d54b-434a-b5f9-f710edbf5a75",
   "metadata": {},
   "outputs": [
    {
     "data": {
      "text/plain": [
       "0.9316765012075395"
      ]
     },
     "execution_count": 75,
     "metadata": {},
     "output_type": "execute_result"
    }
   ],
   "source": [
    "model.score(x_test,y_test)"
   ]
  },
  {
   "cell_type": "code",
   "execution_count": 76,
   "id": "138ebd01-4eca-4875-bb4e-b935629746ec",
   "metadata": {},
   "outputs": [],
   "source": [
    "y_predict=model.predict(x_test)\n",
    "from sklearn.metrics import r2_score\n",
    "acurracy = r2_score(y_test,y_predict)"
   ]
  },
  {
   "cell_type": "code",
   "execution_count": 77,
   "id": "15b33e31-97de-4dd2-a998-e5313ae368d9",
   "metadata": {},
   "outputs": [
    {
     "data": {
      "text/plain": [
       "0.9316765012075395"
      ]
     },
     "execution_count": 77,
     "metadata": {},
     "output_type": "execute_result"
    }
   ],
   "source": [
    "acurracy"
   ]
  },
  {
   "cell_type": "code",
   "execution_count": 78,
   "id": "64e7c10a-25ec-4417-91a9-0d8bb1fe8669",
   "metadata": {},
   "outputs": [
    {
     "name": "stderr",
     "output_type": "stream",
     "text": [
      "C:\\Users\\SALAMI\\AppData\\Local\\Programs\\Python\\Python312\\Lib\\site-packages\\sklearn\\model_selection\\_split.py:737: UserWarning: The least populated class in y has only 1 members, which is less than n_splits=5.\n",
      "  warnings.warn(\n"
     ]
    },
    {
     "data": {
      "text/plain": [
       "array([0.93029598, 0.9165033 , 0.92682993, 0.93492851, 0.93287585])"
      ]
     },
     "execution_count": 78,
     "metadata": {},
     "output_type": "execute_result"
    }
   ],
   "source": [
    "#CROSS VALIDATION TECHNIQUE FOR MODEL SCORE\n",
    "\n",
    "from sklearn.model_selection import StratifiedKFold\n",
    "from sklearn.model_selection import cross_val_score\n",
    "\n",
    "cv = StratifiedKFold(n_splits=5)\n",
    "cross_val_score(LinearRegression (),X,Y, cv = cv)"
   ]
  },
  {
   "cell_type": "markdown",
   "id": "78f7d699-451e-4708-8957-9a954f0e8a23",
   "metadata": {},
   "source": [
    "#COMPARATIVE ANALYSIS"
   ]
  },
  {
   "cell_type": "code",
   "execution_count": null,
   "id": "a2e68a1a-372e-474a-b905-f78992b5af57",
   "metadata": {},
   "outputs": [],
   "source": []
  },
  {
   "cell_type": "code",
   "execution_count": 79,
   "id": "5a7f52a8-49bf-45b3-bd6d-43cae284499c",
   "metadata": {},
   "outputs": [],
   "source": [
    "#INTRODUCING LASSO AND DECISION TREE REGRESSOR\n",
    "from sklearn.linear_model import Lasso\n",
    "from sklearn.tree import DecisionTreeRegressor\n"
   ]
  },
  {
   "cell_type": "code",
   "execution_count": 80,
   "id": "a314f755-075f-445d-bbcc-9f9ecd1a270e",
   "metadata": {},
   "outputs": [],
   "source": [
    "#find_model(X,Y)"
   ]
  },
  {
   "cell_type": "code",
   "execution_count": 81,
   "id": "8cabe714-934d-4b25-a037-a995b704a0b1",
   "metadata": {},
   "outputs": [
    {
     "name": "stderr",
     "output_type": "stream",
     "text": [
      "C:\\Users\\SALAMI\\AppData\\Local\\Programs\\Python\\Python312\\Lib\\site-packages\\sklearn\\model_selection\\_split.py:737: UserWarning: The least populated class in y has only 1 members, which is less than n_splits=5.\n",
      "  warnings.warn(\n"
     ]
    }
   ],
   "source": [
    "lasso_score=cross_val_score(Lasso(),X,Y, cv = cv)"
   ]
  },
  {
   "cell_type": "code",
   "execution_count": 82,
   "id": "ec5a1e78-95ad-4f31-9c4f-61550580f64e",
   "metadata": {},
   "outputs": [
    {
     "name": "stderr",
     "output_type": "stream",
     "text": [
      "C:\\Users\\SALAMI\\AppData\\Local\\Programs\\Python\\Python312\\Lib\\site-packages\\sklearn\\model_selection\\_split.py:737: UserWarning: The least populated class in y has only 1 members, which is less than n_splits=5.\n",
      "  warnings.warn(\n"
     ]
    }
   ],
   "source": [
    "decision_tree_score=cross_val_score(DecisionTreeRegressor(),X,Y, cv = cv)"
   ]
  },
  {
   "cell_type": "code",
   "execution_count": 83,
   "id": "3459d94a-5023-4312-b686-ce0f24d89a86",
   "metadata": {},
   "outputs": [
    {
     "name": "stderr",
     "output_type": "stream",
     "text": [
      "C:\\Users\\SALAMI\\AppData\\Local\\Programs\\Python\\Python312\\Lib\\site-packages\\sklearn\\model_selection\\_split.py:737: UserWarning: The least populated class in y has only 1 members, which is less than n_splits=5.\n",
      "  warnings.warn(\n"
     ]
    }
   ],
   "source": [
    "linear_score=cross_val_score(LinearRegression (),X,Y, cv = cv)"
   ]
  },
  {
   "cell_type": "code",
   "execution_count": 84,
   "id": "19dd8814-5832-48d9-bed6-16e91a287d56",
   "metadata": {},
   "outputs": [],
   "source": [
    "#FINDING AVERAGE SCORE FOR EACH MODEL"
   ]
  },
  {
   "cell_type": "code",
   "execution_count": 85,
   "id": "b13e4a14-611e-47d4-9333-71133a27ba7c",
   "metadata": {},
   "outputs": [],
   "source": [
    "lasso=np.average(lasso_score)"
   ]
  },
  {
   "cell_type": "code",
   "execution_count": 86,
   "id": "6f8be2b4-b27a-4ae6-bf84-25ee93ce90c7",
   "metadata": {},
   "outputs": [],
   "source": [
    "decision_tree=np.average(decision_tree_score)"
   ]
  },
  {
   "cell_type": "code",
   "execution_count": 87,
   "id": "e5f7ef9e-db92-4844-a29a-1c923d6c6078",
   "metadata": {},
   "outputs": [],
   "source": [
    "linear=np.average(linear_score)"
   ]
  },
  {
   "cell_type": "code",
   "execution_count": 88,
   "id": "6d89860b-e7fa-401c-9252-031c64eda6e8",
   "metadata": {},
   "outputs": [
    {
     "data": {
      "text/plain": [
       "0.9297204002809039"
      ]
     },
     "execution_count": 88,
     "metadata": {},
     "output_type": "execute_result"
    }
   ],
   "source": [
    "\n",
    "lasso_score[0]"
   ]
  },
  {
   "cell_type": "code",
   "execution_count": 89,
   "id": "ce869492-ac07-48ef-bdd0-9512d14e4f1a",
   "metadata": {},
   "outputs": [],
   "source": [
    "final_model={\n",
    "    \"Model_name\": [\"Linear Regression\", \"Lasso Regression\", \"Decision Tree Regressor\"],\n",
    "    \"Score 1\":[linear_score[0],lasso_score[0],decision_tree_score[0]],\n",
    "    \"Score 2\":[linear_score[1],lasso_score[1],decision_tree_score[1]],\n",
    "    \"Score 3\":[linear_score[2],lasso_score[2],decision_tree_score[2]],\n",
    "    \"Score 4\":[linear_score[3],lasso_score[3],decision_tree_score[3]],\n",
    "    \"Score 5\":[linear_score[4],lasso_score[4],decision_tree_score[4]],\n",
    "    \"Average Score\":[linear, lasso,decision_tree],\n",
    "    \"Percentage Score\":[linear*100, lasso*100,decision_tree*100]\n",
    "\n",
    "    \n",
    "}"
   ]
  },
  {
   "cell_type": "code",
   "execution_count": 90,
   "id": "c22c8b6c-7bcb-4c2e-83ef-7022f59776bf",
   "metadata": {},
   "outputs": [],
   "source": [
    "df_model_score=pd.DataFrame(final_model)"
   ]
  },
  {
   "cell_type": "code",
   "execution_count": 91,
   "id": "35047fff-4d92-4c3d-aadf-8baf99ffc985",
   "metadata": {},
   "outputs": [
    {
     "data": {
      "text/html": [
       "<div>\n",
       "<style scoped>\n",
       "    .dataframe tbody tr th:only-of-type {\n",
       "        vertical-align: middle;\n",
       "    }\n",
       "\n",
       "    .dataframe tbody tr th {\n",
       "        vertical-align: top;\n",
       "    }\n",
       "\n",
       "    .dataframe thead th {\n",
       "        text-align: right;\n",
       "    }\n",
       "</style>\n",
       "<table border=\"1\" class=\"dataframe\">\n",
       "  <thead>\n",
       "    <tr style=\"text-align: right;\">\n",
       "      <th></th>\n",
       "      <th>Model_name</th>\n",
       "      <th>Score 1</th>\n",
       "      <th>Score 2</th>\n",
       "      <th>Score 3</th>\n",
       "      <th>Score 4</th>\n",
       "      <th>Score 5</th>\n",
       "      <th>Average Score</th>\n",
       "      <th>Percentage Score</th>\n",
       "    </tr>\n",
       "  </thead>\n",
       "  <tbody>\n",
       "    <tr>\n",
       "      <th>0</th>\n",
       "      <td>Linear Regression</td>\n",
       "      <td>0.930296</td>\n",
       "      <td>0.916503</td>\n",
       "      <td>0.926830</td>\n",
       "      <td>0.934929</td>\n",
       "      <td>0.932876</td>\n",
       "      <td>0.928287</td>\n",
       "      <td>92.828671</td>\n",
       "    </tr>\n",
       "    <tr>\n",
       "      <th>1</th>\n",
       "      <td>Lasso Regression</td>\n",
       "      <td>0.929720</td>\n",
       "      <td>0.915698</td>\n",
       "      <td>0.926108</td>\n",
       "      <td>0.932969</td>\n",
       "      <td>0.931259</td>\n",
       "      <td>0.927151</td>\n",
       "      <td>92.715095</td>\n",
       "    </tr>\n",
       "    <tr>\n",
       "      <th>2</th>\n",
       "      <td>Decision Tree Regressor</td>\n",
       "      <td>0.924597</td>\n",
       "      <td>0.939051</td>\n",
       "      <td>0.939935</td>\n",
       "      <td>0.948436</td>\n",
       "      <td>0.948318</td>\n",
       "      <td>0.940068</td>\n",
       "      <td>94.006765</td>\n",
       "    </tr>\n",
       "  </tbody>\n",
       "</table>\n",
       "</div>"
      ],
      "text/plain": [
       "                Model_name   Score 1   Score 2   Score 3   Score 4   Score 5  \\\n",
       "0        Linear Regression  0.930296  0.916503  0.926830  0.934929  0.932876   \n",
       "1         Lasso Regression  0.929720  0.915698  0.926108  0.932969  0.931259   \n",
       "2  Decision Tree Regressor  0.924597  0.939051  0.939935  0.948436  0.948318   \n",
       "\n",
       "   Average Score  Percentage Score  \n",
       "0       0.928287         92.828671  \n",
       "1       0.927151         92.715095  \n",
       "2       0.940068         94.006765  "
      ]
     },
     "execution_count": 91,
     "metadata": {},
     "output_type": "execute_result"
    }
   ],
   "source": [
    "df_model_score"
   ]
  },
  {
   "cell_type": "code",
   "execution_count": 92,
   "id": "721c43cd-2f51-4572-881f-213ad62c969f",
   "metadata": {},
   "outputs": [],
   "source": [
    "# 2ND MODEL\n",
    "model2=DecisionTreeRegressor()"
   ]
  },
  {
   "cell_type": "code",
   "execution_count": 93,
   "id": "697e87d0-4acb-480c-97e6-2208b364668d",
   "metadata": {},
   "outputs": [
    {
     "data": {
      "text/html": [
       "<style>#sk-container-id-2 {color: black;}#sk-container-id-2 pre{padding: 0;}#sk-container-id-2 div.sk-toggleable {background-color: white;}#sk-container-id-2 label.sk-toggleable__label {cursor: pointer;display: block;width: 100%;margin-bottom: 0;padding: 0.3em;box-sizing: border-box;text-align: center;}#sk-container-id-2 label.sk-toggleable__label-arrow:before {content: \"▸\";float: left;margin-right: 0.25em;color: #696969;}#sk-container-id-2 label.sk-toggleable__label-arrow:hover:before {color: black;}#sk-container-id-2 div.sk-estimator:hover label.sk-toggleable__label-arrow:before {color: black;}#sk-container-id-2 div.sk-toggleable__content {max-height: 0;max-width: 0;overflow: hidden;text-align: left;background-color: #f0f8ff;}#sk-container-id-2 div.sk-toggleable__content pre {margin: 0.2em;color: black;border-radius: 0.25em;background-color: #f0f8ff;}#sk-container-id-2 input.sk-toggleable__control:checked~div.sk-toggleable__content {max-height: 200px;max-width: 100%;overflow: auto;}#sk-container-id-2 input.sk-toggleable__control:checked~label.sk-toggleable__label-arrow:before {content: \"▾\";}#sk-container-id-2 div.sk-estimator input.sk-toggleable__control:checked~label.sk-toggleable__label {background-color: #d4ebff;}#sk-container-id-2 div.sk-label input.sk-toggleable__control:checked~label.sk-toggleable__label {background-color: #d4ebff;}#sk-container-id-2 input.sk-hidden--visually {border: 0;clip: rect(1px 1px 1px 1px);clip: rect(1px, 1px, 1px, 1px);height: 1px;margin: -1px;overflow: hidden;padding: 0;position: absolute;width: 1px;}#sk-container-id-2 div.sk-estimator {font-family: monospace;background-color: #f0f8ff;border: 1px dotted black;border-radius: 0.25em;box-sizing: border-box;margin-bottom: 0.5em;}#sk-container-id-2 div.sk-estimator:hover {background-color: #d4ebff;}#sk-container-id-2 div.sk-parallel-item::after {content: \"\";width: 100%;border-bottom: 1px solid gray;flex-grow: 1;}#sk-container-id-2 div.sk-label:hover label.sk-toggleable__label {background-color: #d4ebff;}#sk-container-id-2 div.sk-serial::before {content: \"\";position: absolute;border-left: 1px solid gray;box-sizing: border-box;top: 0;bottom: 0;left: 50%;z-index: 0;}#sk-container-id-2 div.sk-serial {display: flex;flex-direction: column;align-items: center;background-color: white;padding-right: 0.2em;padding-left: 0.2em;position: relative;}#sk-container-id-2 div.sk-item {position: relative;z-index: 1;}#sk-container-id-2 div.sk-parallel {display: flex;align-items: stretch;justify-content: center;background-color: white;position: relative;}#sk-container-id-2 div.sk-item::before, #sk-container-id-2 div.sk-parallel-item::before {content: \"\";position: absolute;border-left: 1px solid gray;box-sizing: border-box;top: 0;bottom: 0;left: 50%;z-index: -1;}#sk-container-id-2 div.sk-parallel-item {display: flex;flex-direction: column;z-index: 1;position: relative;background-color: white;}#sk-container-id-2 div.sk-parallel-item:first-child::after {align-self: flex-end;width: 50%;}#sk-container-id-2 div.sk-parallel-item:last-child::after {align-self: flex-start;width: 50%;}#sk-container-id-2 div.sk-parallel-item:only-child::after {width: 0;}#sk-container-id-2 div.sk-dashed-wrapped {border: 1px dashed gray;margin: 0 0.4em 0.5em 0.4em;box-sizing: border-box;padding-bottom: 0.4em;background-color: white;}#sk-container-id-2 div.sk-label label {font-family: monospace;font-weight: bold;display: inline-block;line-height: 1.2em;}#sk-container-id-2 div.sk-label-container {text-align: center;}#sk-container-id-2 div.sk-container {/* jupyter's `normalize.less` sets `[hidden] { display: none; }` but bootstrap.min.css set `[hidden] { display: none !important; }` so we also need the `!important` here to be able to override the default hidden behavior on the sphinx rendered scikit-learn.org. See: https://github.com/scikit-learn/scikit-learn/issues/21755 */display: inline-block !important;position: relative;}#sk-container-id-2 div.sk-text-repr-fallback {display: none;}</style><div id=\"sk-container-id-2\" class=\"sk-top-container\"><div class=\"sk-text-repr-fallback\"><pre>DecisionTreeRegressor()</pre><b>In a Jupyter environment, please rerun this cell to show the HTML representation or trust the notebook. <br />On GitHub, the HTML representation is unable to render, please try loading this page with nbviewer.org.</b></div><div class=\"sk-container\" hidden><div class=\"sk-item\"><div class=\"sk-estimator sk-toggleable\"><input class=\"sk-toggleable__control sk-hidden--visually\" id=\"sk-estimator-id-2\" type=\"checkbox\" checked><label for=\"sk-estimator-id-2\" class=\"sk-toggleable__label sk-toggleable__label-arrow\">DecisionTreeRegressor</label><div class=\"sk-toggleable__content\"><pre>DecisionTreeRegressor()</pre></div></div></div></div></div>"
      ],
      "text/plain": [
       "DecisionTreeRegressor()"
      ]
     },
     "execution_count": 93,
     "metadata": {},
     "output_type": "execute_result"
    }
   ],
   "source": [
    "model2.fit(x_train,y_train)"
   ]
  },
  {
   "cell_type": "code",
   "execution_count": 94,
   "id": "8be2da30-5f5a-4cbe-9d8c-1cafabf4b46c",
   "metadata": {},
   "outputs": [
    {
     "data": {
      "text/plain": [
       "0.9523167412639914"
      ]
     },
     "execution_count": 94,
     "metadata": {},
     "output_type": "execute_result"
    }
   ],
   "source": [
    "model2.score(x_test,y_test)"
   ]
  },
  {
   "cell_type": "code",
   "execution_count": 95,
   "id": "6fa7a645-2ce3-4834-9a89-6d5c87acef82",
   "metadata": {},
   "outputs": [],
   "source": [
    "y2_predict=model2.predict(x_test)\n",
    "\n",
    "acurracy2 = r2_score(y_test,y2_predict)"
   ]
  },
  {
   "cell_type": "code",
   "execution_count": 96,
   "id": "204f32f4-c06a-4221-89a6-d5653798687f",
   "metadata": {},
   "outputs": [
    {
     "data": {
      "text/plain": [
       "array([ 3.79001589,  4.12848066, 10.03422504, ...,  3.78840346,\n",
       "       13.19161248,  4.29149386])"
      ]
     },
     "execution_count": 96,
     "metadata": {},
     "output_type": "execute_result"
    }
   ],
   "source": [
    "y_predict"
   ]
  },
  {
   "cell_type": "code",
   "execution_count": 97,
   "id": "c7638be4-bd75-4e41-b99c-96e96a14926a",
   "metadata": {},
   "outputs": [
    {
     "data": {
      "text/plain": [
       "0.9523167412639914"
      ]
     },
     "execution_count": 97,
     "metadata": {},
     "output_type": "execute_result"
    }
   ],
   "source": [
    "acurracy2"
   ]
  },
  {
   "cell_type": "code",
   "execution_count": 98,
   "id": "47ff3b46-a914-4720-92c8-8e2c74b7c47a",
   "metadata": {},
   "outputs": [],
   "source": [
    "#MODEL 3\n",
    "model3=Lasso()"
   ]
  },
  {
   "cell_type": "code",
   "execution_count": 99,
   "id": "e1481277-c05f-4eb7-aa3f-594c25532249",
   "metadata": {},
   "outputs": [
    {
     "data": {
      "text/html": [
       "<style>#sk-container-id-3 {color: black;}#sk-container-id-3 pre{padding: 0;}#sk-container-id-3 div.sk-toggleable {background-color: white;}#sk-container-id-3 label.sk-toggleable__label {cursor: pointer;display: block;width: 100%;margin-bottom: 0;padding: 0.3em;box-sizing: border-box;text-align: center;}#sk-container-id-3 label.sk-toggleable__label-arrow:before {content: \"▸\";float: left;margin-right: 0.25em;color: #696969;}#sk-container-id-3 label.sk-toggleable__label-arrow:hover:before {color: black;}#sk-container-id-3 div.sk-estimator:hover label.sk-toggleable__label-arrow:before {color: black;}#sk-container-id-3 div.sk-toggleable__content {max-height: 0;max-width: 0;overflow: hidden;text-align: left;background-color: #f0f8ff;}#sk-container-id-3 div.sk-toggleable__content pre {margin: 0.2em;color: black;border-radius: 0.25em;background-color: #f0f8ff;}#sk-container-id-3 input.sk-toggleable__control:checked~div.sk-toggleable__content {max-height: 200px;max-width: 100%;overflow: auto;}#sk-container-id-3 input.sk-toggleable__control:checked~label.sk-toggleable__label-arrow:before {content: \"▾\";}#sk-container-id-3 div.sk-estimator input.sk-toggleable__control:checked~label.sk-toggleable__label {background-color: #d4ebff;}#sk-container-id-3 div.sk-label input.sk-toggleable__control:checked~label.sk-toggleable__label {background-color: #d4ebff;}#sk-container-id-3 input.sk-hidden--visually {border: 0;clip: rect(1px 1px 1px 1px);clip: rect(1px, 1px, 1px, 1px);height: 1px;margin: -1px;overflow: hidden;padding: 0;position: absolute;width: 1px;}#sk-container-id-3 div.sk-estimator {font-family: monospace;background-color: #f0f8ff;border: 1px dotted black;border-radius: 0.25em;box-sizing: border-box;margin-bottom: 0.5em;}#sk-container-id-3 div.sk-estimator:hover {background-color: #d4ebff;}#sk-container-id-3 div.sk-parallel-item::after {content: \"\";width: 100%;border-bottom: 1px solid gray;flex-grow: 1;}#sk-container-id-3 div.sk-label:hover label.sk-toggleable__label {background-color: #d4ebff;}#sk-container-id-3 div.sk-serial::before {content: \"\";position: absolute;border-left: 1px solid gray;box-sizing: border-box;top: 0;bottom: 0;left: 50%;z-index: 0;}#sk-container-id-3 div.sk-serial {display: flex;flex-direction: column;align-items: center;background-color: white;padding-right: 0.2em;padding-left: 0.2em;position: relative;}#sk-container-id-3 div.sk-item {position: relative;z-index: 1;}#sk-container-id-3 div.sk-parallel {display: flex;align-items: stretch;justify-content: center;background-color: white;position: relative;}#sk-container-id-3 div.sk-item::before, #sk-container-id-3 div.sk-parallel-item::before {content: \"\";position: absolute;border-left: 1px solid gray;box-sizing: border-box;top: 0;bottom: 0;left: 50%;z-index: -1;}#sk-container-id-3 div.sk-parallel-item {display: flex;flex-direction: column;z-index: 1;position: relative;background-color: white;}#sk-container-id-3 div.sk-parallel-item:first-child::after {align-self: flex-end;width: 50%;}#sk-container-id-3 div.sk-parallel-item:last-child::after {align-self: flex-start;width: 50%;}#sk-container-id-3 div.sk-parallel-item:only-child::after {width: 0;}#sk-container-id-3 div.sk-dashed-wrapped {border: 1px dashed gray;margin: 0 0.4em 0.5em 0.4em;box-sizing: border-box;padding-bottom: 0.4em;background-color: white;}#sk-container-id-3 div.sk-label label {font-family: monospace;font-weight: bold;display: inline-block;line-height: 1.2em;}#sk-container-id-3 div.sk-label-container {text-align: center;}#sk-container-id-3 div.sk-container {/* jupyter's `normalize.less` sets `[hidden] { display: none; }` but bootstrap.min.css set `[hidden] { display: none !important; }` so we also need the `!important` here to be able to override the default hidden behavior on the sphinx rendered scikit-learn.org. See: https://github.com/scikit-learn/scikit-learn/issues/21755 */display: inline-block !important;position: relative;}#sk-container-id-3 div.sk-text-repr-fallback {display: none;}</style><div id=\"sk-container-id-3\" class=\"sk-top-container\"><div class=\"sk-text-repr-fallback\"><pre>Lasso()</pre><b>In a Jupyter environment, please rerun this cell to show the HTML representation or trust the notebook. <br />On GitHub, the HTML representation is unable to render, please try loading this page with nbviewer.org.</b></div><div class=\"sk-container\" hidden><div class=\"sk-item\"><div class=\"sk-estimator sk-toggleable\"><input class=\"sk-toggleable__control sk-hidden--visually\" id=\"sk-estimator-id-3\" type=\"checkbox\" checked><label for=\"sk-estimator-id-3\" class=\"sk-toggleable__label sk-toggleable__label-arrow\">Lasso</label><div class=\"sk-toggleable__content\"><pre>Lasso()</pre></div></div></div></div></div>"
      ],
      "text/plain": [
       "Lasso()"
      ]
     },
     "execution_count": 99,
     "metadata": {},
     "output_type": "execute_result"
    }
   ],
   "source": [
    "model3.fit(x_train,y_train)"
   ]
  },
  {
   "cell_type": "code",
   "execution_count": 100,
   "id": "ea5119ac-71cb-4fd3-9c1e-49b30bf9dbe2",
   "metadata": {},
   "outputs": [
    {
     "data": {
      "text/plain": [
       "0.930973654056436"
      ]
     },
     "execution_count": 100,
     "metadata": {},
     "output_type": "execute_result"
    }
   ],
   "source": [
    "model3.score(x_test,y_test)"
   ]
  },
  {
   "cell_type": "code",
   "execution_count": 101,
   "id": "1b238c18-3da3-4593-8df1-53c774f16257",
   "metadata": {},
   "outputs": [],
   "source": [
    "y3_predict=model3.predict(x_test)\n",
    "\n",
    "acurracy3 = r2_score(y_test,y3_predict)"
   ]
  },
  {
   "cell_type": "code",
   "execution_count": 102,
   "id": "093f8224-9ac4-4c50-8012-f640b666d849",
   "metadata": {},
   "outputs": [
    {
     "data": {
      "text/plain": [
       "array([ 3.49495217,  3.83432804,  9.81125502, ...,  3.49036035,\n",
       "       12.98307364,  3.99669632])"
      ]
     },
     "execution_count": 102,
     "metadata": {},
     "output_type": "execute_result"
    }
   ],
   "source": [
    "y3_predict"
   ]
  },
  {
   "cell_type": "code",
   "execution_count": 103,
   "id": "902d8929-3d25-4542-998c-c5f408e46731",
   "metadata": {},
   "outputs": [
    {
     "data": {
      "text/plain": [
       "0.930973654056436"
      ]
     },
     "execution_count": 103,
     "metadata": {},
     "output_type": "execute_result"
    }
   ],
   "source": [
    "acurracy3"
   ]
  },
  {
   "cell_type": "code",
   "execution_count": 104,
   "id": "3c2c112b-593b-4a95-8aa2-5d697b0a60e0",
   "metadata": {},
   "outputs": [],
   "source": [
    "#EVALUATION BY METRICS"
   ]
  },
  {
   "cell_type": "code",
   "execution_count": 105,
   "id": "4b5598ac-f1f4-464a-b677-ba824ef6b743",
   "metadata": {},
   "outputs": [],
   "source": [
    "from sklearn import metrics"
   ]
  },
  {
   "cell_type": "code",
   "execution_count": 106,
   "id": "c7a743e9-1f0a-43ef-9228-4ee9b0b9b0f3",
   "metadata": {
    "scrolled": true
   },
   "outputs": [],
   "source": [
    "#dir(metrics)"
   ]
  },
  {
   "cell_type": "code",
   "execution_count": 107,
   "id": "a46951de-012d-479c-82f1-a3b058ef9f8a",
   "metadata": {},
   "outputs": [],
   "source": [
    "from sklearn.metrics import r2_score,mean_absolute_error,mean_squared_error"
   ]
  },
  {
   "cell_type": "code",
   "execution_count": 108,
   "id": "267104e9-b0ca-44d3-b8a1-aa64449c2a88",
   "metadata": {},
   "outputs": [],
   "source": [
    "def measure(met, y_test, y_pred):\n",
    "    score=met(y_test,y_pred)\n",
    "    return score\n",
    "    "
   ]
  },
  {
   "cell_type": "code",
   "execution_count": 109,
   "id": "943405a7-e842-40f6-b669-5bf70f699408",
   "metadata": {},
   "outputs": [
    {
     "data": {
      "text/plain": [
       "99.24300098231826"
      ]
     },
     "execution_count": 109,
     "metadata": {},
     "output_type": "execute_result"
    }
   ],
   "source": [
    "measure(mean_squared_error,y_test, y2_predict)"
   ]
  },
  {
   "cell_type": "code",
   "execution_count": 110,
   "id": "99be7ca6-ee71-42ef-9be4-4ea710185af7",
   "metadata": {},
   "outputs": [],
   "source": [
    "#p_metrics"
   ]
  },
  {
   "cell_type": "code",
   "execution_count": null,
   "id": "e8269b93-bf85-4fac-83a5-70ac03f44b06",
   "metadata": {},
   "outputs": [],
   "source": []
  },
  {
   "cell_type": "code",
   "execution_count": 111,
   "id": "2355e525-b60f-4ed5-a475-ee43c20c8b04",
   "metadata": {},
   "outputs": [],
   "source": [
    "#BUILDING A GENERIC FUNCTION FOR CROSS VALIDATION SCORE"
   ]
  },
  {
   "cell_type": "code",
   "execution_count": 112,
   "id": "64f52db2-1e18-4f3e-8686-cd3cf01bc1ef",
   "metadata": {},
   "outputs": [
    {
     "name": "stderr",
     "output_type": "stream",
     "text": [
      "C:\\Users\\SALAMI\\AppData\\Local\\Programs\\Python\\Python312\\Lib\\site-packages\\sklearn\\model_selection\\_split.py:737: UserWarning: The least populated class in y has only 1 members, which is less than n_splits=5.\n",
      "  warnings.warn(\n",
      "C:\\Users\\SALAMI\\AppData\\Local\\Programs\\Python\\Python312\\Lib\\site-packages\\sklearn\\model_selection\\_split.py:737: UserWarning: The least populated class in y has only 1 members, which is less than n_splits=5.\n",
      "  warnings.warn(\n",
      "C:\\Users\\SALAMI\\AppData\\Local\\Programs\\Python\\Python312\\Lib\\site-packages\\sklearn\\model_selection\\_split.py:737: UserWarning: The least populated class in y has only 1 members, which is less than n_splits=5.\n",
      "  warnings.warn(\n"
     ]
    }
   ],
   "source": [
    "confirm={\n",
    "    \"linear\":None,\n",
    "    \"lasso\":None,\n",
    "    \"tree\":None\n",
    "    \n",
    "}\n",
    "model_score=[]\n",
    "models=[LinearRegression (), Lasso(), DecisionTreeRegressor()]\n",
    "def make_score(model,x,y,split):\n",
    "    score= cross_val_score(model,x,y, cv = split)\n",
    "    average_score=np.average(score)\n",
    "    return average_score\n",
    "\n",
    "for i in models:\n",
    "    a= make_score(i,X,Y,cv)\n",
    "    model_score.append(a)\n",
    "confirm[\"linear\"]=model_score[0]\n",
    "confirm[\"lasso\"]=model_score[1]\n",
    "confirm[\"tree\"]=model_score[2]"
   ]
  },
  {
   "cell_type": "code",
   "execution_count": 113,
   "id": "350f0359-fa97-450a-a955-66b0bf7da7b5",
   "metadata": {},
   "outputs": [
    {
     "data": {
      "text/plain": [
       "{'linear': 0.9282867142763394,\n",
       " 'lasso': 0.927150947368582,\n",
       " 'tree': 0.9406671775910554}"
      ]
     },
     "execution_count": 113,
     "metadata": {},
     "output_type": "execute_result"
    }
   ],
   "source": [
    "confirm"
   ]
  },
  {
   "cell_type": "markdown",
   "id": "f11335af-67f2-4340-ab0b-df72cb481667",
   "metadata": {},
   "source": [
    "#BUILDING A GENERIC FUNCTION TO EVALUATE THE 3 MODELS ON MSE, MAE, R_squared"
   ]
  },
  {
   "cell_type": "code",
   "execution_count": 114,
   "id": "9506eb8c-c7c0-4a1f-88fe-6eb2c1fe6231",
   "metadata": {},
   "outputs": [],
   "source": [
    "def get_prerformance(m,X,x,Y,y,mse,mae,r2):\n",
    "    m.fit(X,Y)\n",
    "    pred=m.predict(x)\n",
    "    MSE=mse(pred,y)\n",
    "    MAE=mae(pred,y)\n",
    "    R2=r2(pred,y)\n",
    "    return [MSE,MAE,R2]\n",
    "\n",
    "performance={\n",
    "    \"linear\":None,\n",
    "    \"lasso\":None,\n",
    "    \"tree\":None\n",
    "    \n",
    "}\n",
    "\n",
    "p_metrics={\n",
    "    \"MSE\":[],\n",
    "    \"MAE\":[],\n",
    "    \"R2\":[]\n",
    "}\n",
    "for m in models:\n",
    "    \n",
    "    performance[\"linear\"]=(get_prerformance(m,x_train,x_test,y_train,y_test,mean_absolute_error,mean_squared_error,r2_score))\n",
    "    performance[\"lasso\"]=(get_prerformance(m,x_train,x_test,y_train,y_test,mean_absolute_error,mean_squared_error,r2_score))\n",
    "    performance[\"tree\"]=(get_prerformance(m,x_train,x_test,y_train,y_test,mean_absolute_error,mean_squared_error,r2_score))\n",
    "\n",
    "for k,v in performance.items():\n",
    "    p_metrics[\"MAE\"].append(v[0])\n",
    "    p_metrics[\"MSE\"].append(v[1])\n",
    "    p_metrics[\"R2\"].append(v[2])"
   ]
  },
  {
   "cell_type": "code",
   "execution_count": 115,
   "id": "a5149b76-ce6a-4ac6-8326-52dde81320ba",
   "metadata": {},
   "outputs": [
    {
     "data": {
      "text/plain": [
       "{'linear': [4.175712180746562, 100.18989440078586, 0.9513518849428652],\n",
       " 'lasso': [4.244106090373281, 108.50331532416503, 0.9506401411937997],\n",
       " 'tree': [4.198673870333988, 105.67251964636542, 0.9511309614657693]}"
      ]
     },
     "execution_count": 115,
     "metadata": {},
     "output_type": "execute_result"
    }
   ],
   "source": [
    "performance"
   ]
  },
  {
   "cell_type": "code",
   "execution_count": 116,
   "id": "7d8969f9-79cd-4750-ad86-1cb5726c574a",
   "metadata": {},
   "outputs": [
    {
     "data": {
      "text/plain": [
       "{'MSE': [100.18989440078586, 108.50331532416503, 105.67251964636542],\n",
       " 'MAE': [4.175712180746562, 4.244106090373281, 4.198673870333988],\n",
       " 'R2': [0.9513518849428652, 0.9506401411937997, 0.9511309614657693]}"
      ]
     },
     "execution_count": 116,
     "metadata": {},
     "output_type": "execute_result"
    }
   ],
   "source": [
    "p_metrics"
   ]
  },
  {
   "cell_type": "code",
   "execution_count": 117,
   "id": "3ca5498c-08d5-4749-9f7c-da18469a29cd",
   "metadata": {},
   "outputs": [
    {
     "data": {
      "text/html": [
       "<div>\n",
       "<style scoped>\n",
       "    .dataframe tbody tr th:only-of-type {\n",
       "        vertical-align: middle;\n",
       "    }\n",
       "\n",
       "    .dataframe tbody tr th {\n",
       "        vertical-align: top;\n",
       "    }\n",
       "\n",
       "    .dataframe thead th {\n",
       "        text-align: right;\n",
       "    }\n",
       "</style>\n",
       "<table border=\"1\" class=\"dataframe\">\n",
       "  <thead>\n",
       "    <tr style=\"text-align: right;\">\n",
       "      <th></th>\n",
       "      <th>Model_name</th>\n",
       "      <th>Score 1</th>\n",
       "      <th>Score 2</th>\n",
       "      <th>Score 3</th>\n",
       "      <th>Score 4</th>\n",
       "      <th>Score 5</th>\n",
       "      <th>Average Score</th>\n",
       "      <th>Percentage Score</th>\n",
       "      <th>MSE</th>\n",
       "      <th>MAE</th>\n",
       "      <th>R2</th>\n",
       "    </tr>\n",
       "  </thead>\n",
       "  <tbody>\n",
       "    <tr>\n",
       "      <th>0</th>\n",
       "      <td>Linear Regression</td>\n",
       "      <td>0.930296</td>\n",
       "      <td>0.916503</td>\n",
       "      <td>0.926830</td>\n",
       "      <td>0.934929</td>\n",
       "      <td>0.932876</td>\n",
       "      <td>0.928287</td>\n",
       "      <td>92.828671</td>\n",
       "      <td>100.189894</td>\n",
       "      <td>4.175712</td>\n",
       "      <td>0.951352</td>\n",
       "    </tr>\n",
       "    <tr>\n",
       "      <th>1</th>\n",
       "      <td>Lasso Regression</td>\n",
       "      <td>0.929720</td>\n",
       "      <td>0.915698</td>\n",
       "      <td>0.926108</td>\n",
       "      <td>0.932969</td>\n",
       "      <td>0.931259</td>\n",
       "      <td>0.927151</td>\n",
       "      <td>92.715095</td>\n",
       "      <td>108.503315</td>\n",
       "      <td>4.244106</td>\n",
       "      <td>0.950640</td>\n",
       "    </tr>\n",
       "    <tr>\n",
       "      <th>2</th>\n",
       "      <td>Decision Tree Regressor</td>\n",
       "      <td>0.924597</td>\n",
       "      <td>0.939051</td>\n",
       "      <td>0.939935</td>\n",
       "      <td>0.948436</td>\n",
       "      <td>0.948318</td>\n",
       "      <td>0.940068</td>\n",
       "      <td>94.006765</td>\n",
       "      <td>105.672520</td>\n",
       "      <td>4.198674</td>\n",
       "      <td>0.951131</td>\n",
       "    </tr>\n",
       "  </tbody>\n",
       "</table>\n",
       "</div>"
      ],
      "text/plain": [
       "                Model_name   Score 1   Score 2   Score 3   Score 4   Score 5  \\\n",
       "0        Linear Regression  0.930296  0.916503  0.926830  0.934929  0.932876   \n",
       "1         Lasso Regression  0.929720  0.915698  0.926108  0.932969  0.931259   \n",
       "2  Decision Tree Regressor  0.924597  0.939051  0.939935  0.948436  0.948318   \n",
       "\n",
       "   Average Score  Percentage Score         MSE       MAE        R2  \n",
       "0       0.928287         92.828671  100.189894  4.175712  0.951352  \n",
       "1       0.927151         92.715095  108.503315  4.244106  0.950640  \n",
       "2       0.940068         94.006765  105.672520  4.198674  0.951131  "
      ]
     },
     "execution_count": 117,
     "metadata": {},
     "output_type": "execute_result"
    }
   ],
   "source": [
    "pd.concat([df_model_score,pd.DataFrame(p_metrics)], axis=\"columns\")"
   ]
  },
  {
   "cell_type": "code",
   "execution_count": 118,
   "id": "8026e88e-d11e-4e18-93c0-bc73705f1911",
   "metadata": {},
   "outputs": [],
   "source": [
    "#print(dir(model2))\n"
   ]
  },
  {
   "cell_type": "code",
   "execution_count": 119,
   "id": "1c72bffd-5e2d-4693-8a86-061438b9f873",
   "metadata": {},
   "outputs": [],
   "source": [
    "#model.intercept_"
   ]
  },
  {
   "cell_type": "code",
   "execution_count": 120,
   "id": "f10153b4-324b-495d-b8a8-7c223604bca9",
   "metadata": {},
   "outputs": [],
   "source": [
    "#new_data=X.iloc[100:103]"
   ]
  },
  {
   "cell_type": "code",
   "execution_count": 121,
   "id": "93b5f463-b5e2-46e3-bbb9-7b5a4819ad65",
   "metadata": {},
   "outputs": [],
   "source": [
    "#Y.iloc[100:103]"
   ]
  },
  {
   "cell_type": "code",
   "execution_count": 122,
   "id": "36b44eac-e245-4272-ac08-aebc2e2bec90",
   "metadata": {},
   "outputs": [],
   "source": [
    "#model.predict(new_data)"
   ]
  },
  {
   "cell_type": "code",
   "execution_count": 123,
   "id": "6fc725a6-ec02-4702-b54e-232c30996611",
   "metadata": {},
   "outputs": [],
   "source": [
    "#df5[\"clicks\"][100:103]"
   ]
  },
  {
   "cell_type": "code",
   "execution_count": 124,
   "id": "c093f7dd-803a-46c9-b012-e112344ed320",
   "metadata": {},
   "outputs": [
    {
     "data": {
      "text/html": [
       "<div>\n",
       "<style scoped>\n",
       "    .dataframe tbody tr th:only-of-type {\n",
       "        vertical-align: middle;\n",
       "    }\n",
       "\n",
       "    .dataframe tbody tr th {\n",
       "        vertical-align: top;\n",
       "    }\n",
       "\n",
       "    .dataframe thead th {\n",
       "        text-align: right;\n",
       "    }\n",
       "</style>\n",
       "<table border=\"1\" class=\"dataframe\">\n",
       "  <thead>\n",
       "    <tr style=\"text-align: right;\">\n",
       "      <th></th>\n",
       "      <th>campaign_platform</th>\n",
       "      <th>campaign_type</th>\n",
       "      <th>communication_medium</th>\n",
       "      <th>creative_type</th>\n",
       "      <th>creative_name</th>\n",
       "      <th>spends</th>\n",
       "      <th>impressions</th>\n",
       "      <th>link_clicks</th>\n",
       "      <th>clicks</th>\n",
       "    </tr>\n",
       "  </thead>\n",
       "  <tbody>\n",
       "    <tr>\n",
       "      <th>16409</th>\n",
       "      <td>0</td>\n",
       "      <td>0</td>\n",
       "      <td>0</td>\n",
       "      <td>0</td>\n",
       "      <td>0</td>\n",
       "      <td>0.31</td>\n",
       "      <td>8</td>\n",
       "      <td>0.0</td>\n",
       "      <td>1</td>\n",
       "    </tr>\n",
       "    <tr>\n",
       "      <th>11389</th>\n",
       "      <td>0</td>\n",
       "      <td>0</td>\n",
       "      <td>0</td>\n",
       "      <td>0</td>\n",
       "      <td>0</td>\n",
       "      <td>9.75</td>\n",
       "      <td>5</td>\n",
       "      <td>0.0</td>\n",
       "      <td>2</td>\n",
       "    </tr>\n",
       "    <tr>\n",
       "      <th>4195</th>\n",
       "      <td>0</td>\n",
       "      <td>0</td>\n",
       "      <td>0</td>\n",
       "      <td>0</td>\n",
       "      <td>0</td>\n",
       "      <td>179.39</td>\n",
       "      <td>83</td>\n",
       "      <td>0.0</td>\n",
       "      <td>7</td>\n",
       "    </tr>\n",
       "    <tr>\n",
       "      <th>15705</th>\n",
       "      <td>0</td>\n",
       "      <td>0</td>\n",
       "      <td>0</td>\n",
       "      <td>0</td>\n",
       "      <td>0</td>\n",
       "      <td>0.46</td>\n",
       "      <td>1</td>\n",
       "      <td>0.0</td>\n",
       "      <td>1</td>\n",
       "    </tr>\n",
       "    <tr>\n",
       "      <th>7584</th>\n",
       "      <td>0</td>\n",
       "      <td>0</td>\n",
       "      <td>0</td>\n",
       "      <td>0</td>\n",
       "      <td>0</td>\n",
       "      <td>47.88</td>\n",
       "      <td>109</td>\n",
       "      <td>0.0</td>\n",
       "      <td>4</td>\n",
       "    </tr>\n",
       "    <tr>\n",
       "      <th>12846</th>\n",
       "      <td>0</td>\n",
       "      <td>0</td>\n",
       "      <td>0</td>\n",
       "      <td>0</td>\n",
       "      <td>0</td>\n",
       "      <td>89.03</td>\n",
       "      <td>14</td>\n",
       "      <td>0.0</td>\n",
       "      <td>5</td>\n",
       "    </tr>\n",
       "    <tr>\n",
       "      <th>15410</th>\n",
       "      <td>0</td>\n",
       "      <td>0</td>\n",
       "      <td>0</td>\n",
       "      <td>0</td>\n",
       "      <td>0</td>\n",
       "      <td>12.26</td>\n",
       "      <td>14</td>\n",
       "      <td>0.0</td>\n",
       "      <td>5</td>\n",
       "    </tr>\n",
       "    <tr>\n",
       "      <th>5317</th>\n",
       "      <td>0</td>\n",
       "      <td>0</td>\n",
       "      <td>0</td>\n",
       "      <td>0</td>\n",
       "      <td>0</td>\n",
       "      <td>36.95</td>\n",
       "      <td>11</td>\n",
       "      <td>0.0</td>\n",
       "      <td>2</td>\n",
       "    </tr>\n",
       "    <tr>\n",
       "      <th>12336</th>\n",
       "      <td>0</td>\n",
       "      <td>0</td>\n",
       "      <td>0</td>\n",
       "      <td>0</td>\n",
       "      <td>0</td>\n",
       "      <td>0.21</td>\n",
       "      <td>5</td>\n",
       "      <td>0.0</td>\n",
       "      <td>1</td>\n",
       "    </tr>\n",
       "    <tr>\n",
       "      <th>7438</th>\n",
       "      <td>0</td>\n",
       "      <td>0</td>\n",
       "      <td>0</td>\n",
       "      <td>0</td>\n",
       "      <td>0</td>\n",
       "      <td>63.92</td>\n",
       "      <td>23</td>\n",
       "      <td>0.0</td>\n",
       "      <td>3</td>\n",
       "    </tr>\n",
       "  </tbody>\n",
       "</table>\n",
       "</div>"
      ],
      "text/plain": [
       "       campaign_platform  campaign_type  communication_medium  creative_type  \\\n",
       "16409                  0              0                     0              0   \n",
       "11389                  0              0                     0              0   \n",
       "4195                   0              0                     0              0   \n",
       "15705                  0              0                     0              0   \n",
       "7584                   0              0                     0              0   \n",
       "12846                  0              0                     0              0   \n",
       "15410                  0              0                     0              0   \n",
       "5317                   0              0                     0              0   \n",
       "12336                  0              0                     0              0   \n",
       "7438                   0              0                     0              0   \n",
       "\n",
       "       creative_name  spends  impressions  link_clicks  clicks  \n",
       "16409              0    0.31            8          0.0       1  \n",
       "11389              0    9.75            5          0.0       2  \n",
       "4195               0  179.39           83          0.0       7  \n",
       "15705              0    0.46            1          0.0       1  \n",
       "7584               0   47.88          109          0.0       4  \n",
       "12846              0   89.03           14          0.0       5  \n",
       "15410              0   12.26           14          0.0       5  \n",
       "5317               0   36.95           11          0.0       2  \n",
       "12336              0    0.21            5          0.0       1  \n",
       "7438               0   63.92           23          0.0       3  "
      ]
     },
     "execution_count": 124,
     "metadata": {},
     "output_type": "execute_result"
    }
   ],
   "source": [
    "pd.concat([x_test,y_test], axis=\"columns\")[0:10]"
   ]
  },
  {
   "cell_type": "code",
   "execution_count": 125,
   "id": "675c8d6f-ceb4-4c97-aafa-bbcbcd15e47b",
   "metadata": {},
   "outputs": [],
   "source": [
    "m=model2.predict(x_test.iloc[0:10])\n",
    "m2=model2.predict(x_test.iloc[0:10])\n",
    "m3=model3.predict(x_test.iloc[0:10])"
   ]
  },
  {
   "cell_type": "code",
   "execution_count": 126,
   "id": "ee886ee1-aff3-495b-869a-0f9d7bc662ba",
   "metadata": {},
   "outputs": [],
   "source": [
    "\n",
    "#x_test.iloc[0]"
   ]
  },
  {
   "cell_type": "code",
   "execution_count": 127,
   "id": "0a82242e-a300-4fd4-889d-0b8c29b2ae1b",
   "metadata": {},
   "outputs": [
    {
     "data": {
      "text/plain": [
       "array([1., 1., 6., 1., 3., 1., 2., 3., 1., 4.])"
      ]
     },
     "execution_count": 127,
     "metadata": {},
     "output_type": "execute_result"
    }
   ],
   "source": [
    "m\n"
   ]
  },
  {
   "cell_type": "code",
   "execution_count": 128,
   "id": "8c1c32c3-0a36-47f9-ad82-aa9e5f63f7db",
   "metadata": {},
   "outputs": [
    {
     "data": {
      "text/plain": [
       "16409    1\n",
       "11389    2\n",
       "4195     7\n",
       "15705    1\n",
       "7584     4\n",
       "12846    5\n",
       "15410    5\n",
       "5317     2\n",
       "12336    1\n",
       "7438     3\n",
       "Name: clicks, dtype: int64"
      ]
     },
     "execution_count": 128,
     "metadata": {},
     "output_type": "execute_result"
    }
   ],
   "source": [
    "y_test.iloc[0:10]"
   ]
  },
  {
   "cell_type": "code",
   "execution_count": 129,
   "id": "8babcf2d-3754-4ab4-905c-e3c1c19af884",
   "metadata": {},
   "outputs": [],
   "source": [
    "proof={\n",
    "    \"actual clicks\":y_test.iloc[0:10],\n",
    "    \"linear_predict\":m,\n",
    "    \"decision_predict\":m2,\n",
    "    \"lasso_predict\":m3\n",
    "    \n",
    "}"
   ]
  },
  {
   "cell_type": "code",
   "execution_count": 130,
   "id": "a14c8098-79e3-451e-ae39-916804fd4260",
   "metadata": {},
   "outputs": [],
   "source": [
    "reproof=pd.DataFrame(proof)"
   ]
  },
  {
   "cell_type": "code",
   "execution_count": 131,
   "id": "3c2fb7cd-ada6-4253-9563-dc86260fc122",
   "metadata": {},
   "outputs": [
    {
     "data": {
      "text/html": [
       "<div>\n",
       "<style scoped>\n",
       "    .dataframe tbody tr th:only-of-type {\n",
       "        vertical-align: middle;\n",
       "    }\n",
       "\n",
       "    .dataframe tbody tr th {\n",
       "        vertical-align: top;\n",
       "    }\n",
       "\n",
       "    .dataframe thead th {\n",
       "        text-align: right;\n",
       "    }\n",
       "</style>\n",
       "<table border=\"1\" class=\"dataframe\">\n",
       "  <thead>\n",
       "    <tr style=\"text-align: right;\">\n",
       "      <th></th>\n",
       "      <th>actual clicks</th>\n",
       "      <th>linear_predict</th>\n",
       "      <th>decision_predict</th>\n",
       "      <th>lasso_predict</th>\n",
       "    </tr>\n",
       "  </thead>\n",
       "  <tbody>\n",
       "    <tr>\n",
       "      <th>16409</th>\n",
       "      <td>1</td>\n",
       "      <td>1.0</td>\n",
       "      <td>1.0</td>\n",
       "      <td>3.494952</td>\n",
       "    </tr>\n",
       "    <tr>\n",
       "      <th>11389</th>\n",
       "      <td>2</td>\n",
       "      <td>1.0</td>\n",
       "      <td>1.0</td>\n",
       "      <td>3.834328</td>\n",
       "    </tr>\n",
       "    <tr>\n",
       "      <th>4195</th>\n",
       "      <td>7</td>\n",
       "      <td>6.0</td>\n",
       "      <td>6.0</td>\n",
       "      <td>9.811255</td>\n",
       "    </tr>\n",
       "    <tr>\n",
       "      <th>15705</th>\n",
       "      <td>1</td>\n",
       "      <td>1.0</td>\n",
       "      <td>1.0</td>\n",
       "      <td>3.506763</td>\n",
       "    </tr>\n",
       "    <tr>\n",
       "      <th>7584</th>\n",
       "      <td>4</td>\n",
       "      <td>3.0</td>\n",
       "      <td>3.0</td>\n",
       "      <td>5.097940</td>\n",
       "    </tr>\n",
       "    <tr>\n",
       "      <th>12846</th>\n",
       "      <td>5</td>\n",
       "      <td>1.0</td>\n",
       "      <td>1.0</td>\n",
       "      <td>6.652943</td>\n",
       "    </tr>\n",
       "    <tr>\n",
       "      <th>15410</th>\n",
       "      <td>5</td>\n",
       "      <td>2.0</td>\n",
       "      <td>2.0</td>\n",
       "      <td>3.915520</td>\n",
       "    </tr>\n",
       "    <tr>\n",
       "      <th>5317</th>\n",
       "      <td>2</td>\n",
       "      <td>3.0</td>\n",
       "      <td>3.0</td>\n",
       "      <td>4.798672</td>\n",
       "    </tr>\n",
       "    <tr>\n",
       "      <th>12336</th>\n",
       "      <td>1</td>\n",
       "      <td>1.0</td>\n",
       "      <td>1.0</td>\n",
       "      <td>3.494156</td>\n",
       "    </tr>\n",
       "    <tr>\n",
       "      <th>7438</th>\n",
       "      <td>3</td>\n",
       "      <td>4.0</td>\n",
       "      <td>4.0</td>\n",
       "      <td>5.749276</td>\n",
       "    </tr>\n",
       "  </tbody>\n",
       "</table>\n",
       "</div>"
      ],
      "text/plain": [
       "       actual clicks  linear_predict  decision_predict  lasso_predict\n",
       "16409              1             1.0               1.0       3.494952\n",
       "11389              2             1.0               1.0       3.834328\n",
       "4195               7             6.0               6.0       9.811255\n",
       "15705              1             1.0               1.0       3.506763\n",
       "7584               4             3.0               3.0       5.097940\n",
       "12846              5             1.0               1.0       6.652943\n",
       "15410              5             2.0               2.0       3.915520\n",
       "5317               2             3.0               3.0       4.798672\n",
       "12336              1             1.0               1.0       3.494156\n",
       "7438               3             4.0               4.0       5.749276"
      ]
     },
     "execution_count": 131,
     "metadata": {},
     "output_type": "execute_result"
    }
   ],
   "source": [
    "reproof"
   ]
  },
  {
   "cell_type": "code",
   "execution_count": 132,
   "id": "7b67bbc6-a682-493d-8004-5180fac3e7d2",
   "metadata": {},
   "outputs": [],
   "source": [
    "coss_tab=pd.concat([x_test[0:10], reproof], axis=\"columns\", )"
   ]
  },
  {
   "cell_type": "code",
   "execution_count": 133,
   "id": "648e3384-7138-48b8-8a52-d9f9fe6de5ce",
   "metadata": {},
   "outputs": [
    {
     "data": {
      "text/html": [
       "<div>\n",
       "<style scoped>\n",
       "    .dataframe tbody tr th:only-of-type {\n",
       "        vertical-align: middle;\n",
       "    }\n",
       "\n",
       "    .dataframe tbody tr th {\n",
       "        vertical-align: top;\n",
       "    }\n",
       "\n",
       "    .dataframe thead th {\n",
       "        text-align: right;\n",
       "    }\n",
       "</style>\n",
       "<table border=\"1\" class=\"dataframe\">\n",
       "  <thead>\n",
       "    <tr style=\"text-align: right;\">\n",
       "      <th></th>\n",
       "      <th>campaign_platform</th>\n",
       "      <th>campaign_type</th>\n",
       "      <th>communication_medium</th>\n",
       "      <th>creative_type</th>\n",
       "      <th>creative_name</th>\n",
       "      <th>spends</th>\n",
       "      <th>impressions</th>\n",
       "      <th>link_clicks</th>\n",
       "      <th>actual clicks</th>\n",
       "      <th>linear_predict</th>\n",
       "      <th>decision_predict</th>\n",
       "      <th>lasso_predict</th>\n",
       "    </tr>\n",
       "  </thead>\n",
       "  <tbody>\n",
       "    <tr>\n",
       "      <th>16409</th>\n",
       "      <td>0</td>\n",
       "      <td>0</td>\n",
       "      <td>0</td>\n",
       "      <td>0</td>\n",
       "      <td>0</td>\n",
       "      <td>0.31</td>\n",
       "      <td>8</td>\n",
       "      <td>0.0</td>\n",
       "      <td>1</td>\n",
       "      <td>1.0</td>\n",
       "      <td>1.0</td>\n",
       "      <td>3.494952</td>\n",
       "    </tr>\n",
       "    <tr>\n",
       "      <th>11389</th>\n",
       "      <td>0</td>\n",
       "      <td>0</td>\n",
       "      <td>0</td>\n",
       "      <td>0</td>\n",
       "      <td>0</td>\n",
       "      <td>9.75</td>\n",
       "      <td>5</td>\n",
       "      <td>0.0</td>\n",
       "      <td>2</td>\n",
       "      <td>1.0</td>\n",
       "      <td>1.0</td>\n",
       "      <td>3.834328</td>\n",
       "    </tr>\n",
       "    <tr>\n",
       "      <th>4195</th>\n",
       "      <td>0</td>\n",
       "      <td>0</td>\n",
       "      <td>0</td>\n",
       "      <td>0</td>\n",
       "      <td>0</td>\n",
       "      <td>179.39</td>\n",
       "      <td>83</td>\n",
       "      <td>0.0</td>\n",
       "      <td>7</td>\n",
       "      <td>6.0</td>\n",
       "      <td>6.0</td>\n",
       "      <td>9.811255</td>\n",
       "    </tr>\n",
       "    <tr>\n",
       "      <th>15705</th>\n",
       "      <td>0</td>\n",
       "      <td>0</td>\n",
       "      <td>0</td>\n",
       "      <td>0</td>\n",
       "      <td>0</td>\n",
       "      <td>0.46</td>\n",
       "      <td>1</td>\n",
       "      <td>0.0</td>\n",
       "      <td>1</td>\n",
       "      <td>1.0</td>\n",
       "      <td>1.0</td>\n",
       "      <td>3.506763</td>\n",
       "    </tr>\n",
       "    <tr>\n",
       "      <th>7584</th>\n",
       "      <td>0</td>\n",
       "      <td>0</td>\n",
       "      <td>0</td>\n",
       "      <td>0</td>\n",
       "      <td>0</td>\n",
       "      <td>47.88</td>\n",
       "      <td>109</td>\n",
       "      <td>0.0</td>\n",
       "      <td>4</td>\n",
       "      <td>3.0</td>\n",
       "      <td>3.0</td>\n",
       "      <td>5.097940</td>\n",
       "    </tr>\n",
       "    <tr>\n",
       "      <th>12846</th>\n",
       "      <td>0</td>\n",
       "      <td>0</td>\n",
       "      <td>0</td>\n",
       "      <td>0</td>\n",
       "      <td>0</td>\n",
       "      <td>89.03</td>\n",
       "      <td>14</td>\n",
       "      <td>0.0</td>\n",
       "      <td>5</td>\n",
       "      <td>1.0</td>\n",
       "      <td>1.0</td>\n",
       "      <td>6.652943</td>\n",
       "    </tr>\n",
       "    <tr>\n",
       "      <th>15410</th>\n",
       "      <td>0</td>\n",
       "      <td>0</td>\n",
       "      <td>0</td>\n",
       "      <td>0</td>\n",
       "      <td>0</td>\n",
       "      <td>12.26</td>\n",
       "      <td>14</td>\n",
       "      <td>0.0</td>\n",
       "      <td>5</td>\n",
       "      <td>2.0</td>\n",
       "      <td>2.0</td>\n",
       "      <td>3.915520</td>\n",
       "    </tr>\n",
       "    <tr>\n",
       "      <th>5317</th>\n",
       "      <td>0</td>\n",
       "      <td>0</td>\n",
       "      <td>0</td>\n",
       "      <td>0</td>\n",
       "      <td>0</td>\n",
       "      <td>36.95</td>\n",
       "      <td>11</td>\n",
       "      <td>0.0</td>\n",
       "      <td>2</td>\n",
       "      <td>3.0</td>\n",
       "      <td>3.0</td>\n",
       "      <td>4.798672</td>\n",
       "    </tr>\n",
       "    <tr>\n",
       "      <th>12336</th>\n",
       "      <td>0</td>\n",
       "      <td>0</td>\n",
       "      <td>0</td>\n",
       "      <td>0</td>\n",
       "      <td>0</td>\n",
       "      <td>0.21</td>\n",
       "      <td>5</td>\n",
       "      <td>0.0</td>\n",
       "      <td>1</td>\n",
       "      <td>1.0</td>\n",
       "      <td>1.0</td>\n",
       "      <td>3.494156</td>\n",
       "    </tr>\n",
       "    <tr>\n",
       "      <th>7438</th>\n",
       "      <td>0</td>\n",
       "      <td>0</td>\n",
       "      <td>0</td>\n",
       "      <td>0</td>\n",
       "      <td>0</td>\n",
       "      <td>63.92</td>\n",
       "      <td>23</td>\n",
       "      <td>0.0</td>\n",
       "      <td>3</td>\n",
       "      <td>4.0</td>\n",
       "      <td>4.0</td>\n",
       "      <td>5.749276</td>\n",
       "    </tr>\n",
       "  </tbody>\n",
       "</table>\n",
       "</div>"
      ],
      "text/plain": [
       "       campaign_platform  campaign_type  communication_medium  creative_type  \\\n",
       "16409                  0              0                     0              0   \n",
       "11389                  0              0                     0              0   \n",
       "4195                   0              0                     0              0   \n",
       "15705                  0              0                     0              0   \n",
       "7584                   0              0                     0              0   \n",
       "12846                  0              0                     0              0   \n",
       "15410                  0              0                     0              0   \n",
       "5317                   0              0                     0              0   \n",
       "12336                  0              0                     0              0   \n",
       "7438                   0              0                     0              0   \n",
       "\n",
       "       creative_name  spends  impressions  link_clicks  actual clicks  \\\n",
       "16409              0    0.31            8          0.0              1   \n",
       "11389              0    9.75            5          0.0              2   \n",
       "4195               0  179.39           83          0.0              7   \n",
       "15705              0    0.46            1          0.0              1   \n",
       "7584               0   47.88          109          0.0              4   \n",
       "12846              0   89.03           14          0.0              5   \n",
       "15410              0   12.26           14          0.0              5   \n",
       "5317               0   36.95           11          0.0              2   \n",
       "12336              0    0.21            5          0.0              1   \n",
       "7438               0   63.92           23          0.0              3   \n",
       "\n",
       "       linear_predict  decision_predict  lasso_predict  \n",
       "16409             1.0               1.0       3.494952  \n",
       "11389             1.0               1.0       3.834328  \n",
       "4195              6.0               6.0       9.811255  \n",
       "15705             1.0               1.0       3.506763  \n",
       "7584              3.0               3.0       5.097940  \n",
       "12846             1.0               1.0       6.652943  \n",
       "15410             2.0               2.0       3.915520  \n",
       "5317              3.0               3.0       4.798672  \n",
       "12336             1.0               1.0       3.494156  \n",
       "7438              4.0               4.0       5.749276  "
      ]
     },
     "execution_count": 133,
     "metadata": {},
     "output_type": "execute_result"
    }
   ],
   "source": [
    "coss_tab"
   ]
  },
  {
   "cell_type": "code",
   "execution_count": 134,
   "id": "d2a2f010-4f1b-4842-b1f7-08ae5dae25b3",
   "metadata": {},
   "outputs": [],
   "source": [
    "test=np.array([0,0,1,0,0,10,10,4])"
   ]
  },
  {
   "cell_type": "code",
   "execution_count": 135,
   "id": "c6047528-0c2a-486b-a33d-b8ff0e423479",
   "metadata": {},
   "outputs": [
    {
     "name": "stderr",
     "output_type": "stream",
     "text": [
      "C:\\Users\\SALAMI\\AppData\\Local\\Programs\\Python\\Python312\\Lib\\site-packages\\sklearn\\base.py:465: UserWarning: X does not have valid feature names, but DecisionTreeRegressor was fitted with feature names\n",
      "  warnings.warn(\n"
     ]
    },
    {
     "data": {
      "text/plain": [
       "array([3.])"
      ]
     },
     "execution_count": 135,
     "metadata": {},
     "output_type": "execute_result"
    }
   ],
   "source": [
    "model2.predict([test])"
   ]
  },
  {
   "cell_type": "code",
   "execution_count": 136,
   "id": "fbe17938-d266-46d4-8f61-11feb9193db4",
   "metadata": {},
   "outputs": [
    {
     "data": {
      "image/png": "[encoded data removed]",
      "text/plain": [
       "<Figure size 640x480 with 1 Axes>"
      ]
     },
     "metadata": {},
     "output_type": "display_data"
    }
   ],
   "source": [
    "plt.scatter(reproof[\"actual clicks\"],reproof[\"linear_predict\"])\n",
    "plt.xlabel('Actual clicks')\n",
    "plt.ylabel('Predicted clicks')\n",
    "plt.title('Linear prediciton')\n",
    "plt.show()"
   ]
  },
  {
   "cell_type": "code",
   "execution_count": 137,
   "id": "0dadb887-46f1-4ec7-a7f8-2584ad170f56",
   "metadata": {},
   "outputs": [
    {
     "data": {
      "image/png": "[encoded data removed]",
      "text/plain": [
       "<Figure size 640x480 with 1 Axes>"
      ]
     },
     "metadata": {},
     "output_type": "display_data"
    }
   ],
   "source": [
    "plt.scatter(reproof[\"actual clicks\"],reproof[\"decision_predict\"])\n",
    "plt.xlabel('Actual clicks')\n",
    "plt.ylabel('Predicted clicks')\n",
    "plt.title('Decision prediciton')\n",
    "plt.show()"
   ]
  },
  {
   "cell_type": "code",
   "execution_count": 138,
   "id": "99ffe19e-8406-4b8b-98cb-47674cbbff07",
   "metadata": {},
   "outputs": [
    {
     "data": {
      "image/png": "[encoded data removed]",
      "text/plain": [
       "<Figure size 640x480 with 1 Axes>"
      ]
     },
     "metadata": {},
     "output_type": "display_data"
    }
   ],
   "source": [
    "plt.scatter(reproof[\"actual clicks\"],reproof[\"lasso_predict\"])\n",
    "plt.xlabel('Actual clicks')\n",
    "plt.ylabel('Predicted clicks')\n",
    "plt.title('Lasso prediciton')\n",
    "plt.show()"
   ]
  },
  {
   "cell_type": "code",
   "execution_count": 139,
   "id": "07651d0d-5b69-46bd-9196-24ce6992cce4",
   "metadata": {},
   "outputs": [],
   "source": [
    "import statsmodels.api as sm "
   ]
  },
  {
   "cell_type": "code",
   "execution_count": 140,
   "id": "19f67cc8-32f1-475b-9f19-354d822f0139",
   "metadata": {},
   "outputs": [],
   "source": [
    "#X2=X[[\"spends\",\"impressions\",\"link_clicks\"]]"
   ]
  },
  {
   "cell_type": "code",
   "execution_count": 141,
   "id": "e1fedcee-aba2-46e4-b0d9-2955e3d2bf69",
   "metadata": {},
   "outputs": [],
   "source": [
    "X = sm.add_constant(X)"
   ]
  },
  {
   "cell_type": "code",
   "execution_count": 142,
   "id": "b3249af5-84b3-4ea1-9707-c90a9a43feb8",
   "metadata": {},
   "outputs": [],
   "source": [
    "results = sm.OLS(Y, X).fit()"
   ]
  },
  {
   "cell_type": "code",
   "execution_count": 143,
   "id": "0a2dc18a-1170-4808-8310-ae1ea418c0ed",
   "metadata": {},
   "outputs": [],
   "source": [
    "\n",
    "#dir(results)"
   ]
  },
  {
   "cell_type": "code",
   "execution_count": 144,
   "id": "28808940-c961-4431-bb1a-ca9656e2a3cd",
   "metadata": {},
   "outputs": [
    {
     "data": {
      "text/plain": [
       "const                   3.787754\n",
       "campaign_platform      -6.882900\n",
       "campaign_type          -6.882900\n",
       "communication_medium   -6.882900\n",
       "creative_type           8.696962\n",
       "creative_name           1.082688\n",
       "spends                  0.034668\n",
       "impressions            -0.000458\n",
       "link_clicks             1.689767\n",
       "dtype: float64"
      ]
     },
     "execution_count": 144,
     "metadata": {},
     "output_type": "execute_result"
    }
   ],
   "source": [
    "#X[\"const\"]=c\n",
    "results.params"
   ]
  },
  {
   "cell_type": "code",
   "execution_count": 145,
   "id": "ce87fadc-ff50-48d2-acb2-8b5e4f9e5392",
   "metadata": {},
   "outputs": [],
   "source": [
    "A = np.identity(len(results.params))"
   ]
  },
  {
   "cell_type": "code",
   "execution_count": 146,
   "id": "ae8b4c47-eb8b-4aaa-bc76-6f21a0692434",
   "metadata": {},
   "outputs": [
    {
     "data": {
      "text/plain": [
       "array([[1., 0., 0., 0., 0., 0., 0., 0., 0.],\n",
       "       [0., 1., 0., 0., 0., 0., 0., 0., 0.],\n",
       "       [0., 0., 1., 0., 0., 0., 0., 0., 0.],\n",
       "       [0., 0., 0., 1., 0., 0., 0., 0., 0.],\n",
       "       [0., 0., 0., 0., 1., 0., 0., 0., 0.],\n",
       "       [0., 0., 0., 0., 0., 1., 0., 0., 0.],\n",
       "       [0., 0., 0., 0., 0., 0., 1., 0., 0.],\n",
       "       [0., 0., 0., 0., 0., 0., 0., 1., 0.],\n",
       "       [0., 0., 0., 0., 0., 0., 0., 0., 1.]])"
      ]
     },
     "execution_count": 146,
     "metadata": {},
     "output_type": "execute_result"
    }
   ],
   "source": [
    "A"
   ]
  },
  {
   "cell_type": "code",
   "execution_count": 147,
   "id": "2504c3a0-abdf-42d7-ac87-aa058e0eb62d",
   "metadata": {},
   "outputs": [],
   "source": [
    "B = A[1:,:]"
   ]
  },
  {
   "cell_type": "code",
   "execution_count": 148,
   "id": "b79a3eb2-4769-4c2c-aaf5-d0a0fdbee62a",
   "metadata": {},
   "outputs": [
    {
     "data": {
      "text/plain": [
       "array([[0., 1., 0., 0., 0., 0., 0., 0., 0.],\n",
       "       [0., 0., 1., 0., 0., 0., 0., 0., 0.],\n",
       "       [0., 0., 0., 1., 0., 0., 0., 0., 0.],\n",
       "       [0., 0., 0., 0., 1., 0., 0., 0., 0.],\n",
       "       [0., 0., 0., 0., 0., 1., 0., 0., 0.],\n",
       "       [0., 0., 0., 0., 0., 0., 1., 0., 0.],\n",
       "       [0., 0., 0., 0., 0., 0., 0., 1., 0.],\n",
       "       [0., 0., 0., 0., 0., 0., 0., 0., 1.]])"
      ]
     },
     "execution_count": 148,
     "metadata": {},
     "output_type": "execute_result"
    }
   ],
   "source": [
    "B"
   ]
  },
  {
   "cell_type": "code",
   "execution_count": 149,
   "id": "f3018785-32cc-46d0-af75-29dad5f0c389",
   "metadata": {},
   "outputs": [
    {
     "name": "stderr",
     "output_type": "stream",
     "text": [
      "C:\\Users\\SALAMI\\AppData\\Local\\Programs\\Python\\Python312\\Lib\\site-packages\\statsmodels\\base\\model.py:1896: ValueWarning: covariance of constraints does not have full rank. The number of constraints is 8, but rank is 6\n",
      "  warnings.warn('covariance of constraints does not have full '\n"
     ]
    },
    {
     "data": {
      "text/plain": [
       "<class 'statsmodels.stats.contrast.ContrastResults'>\n",
       "<F test: F=36137.242608678636, p=0.0, df_denom=1.63e+04, df_num=6>"
      ]
     },
     "execution_count": 149,
     "metadata": {},
     "output_type": "execute_result"
    }
   ],
   "source": [
    "results.f_test(B)\n"
   ]
  },
  {
   "cell_type": "code",
   "execution_count": 150,
   "id": "aca16360-f62f-47da-bf85-2afe28e7a482",
   "metadata": {},
   "outputs": [
    {
     "data": {
      "text/html": [
       "<table class=\"simpletable\">\n",
       "<caption>OLS Regression Results</caption>\n",
       "<tr>\n",
       "  <th>Dep. Variable:</th>         <td>clicks</td>      <th>  R-squared:         </th> <td>   0.930</td> \n",
       "</tr>\n",
       "<tr>\n",
       "  <th>Model:</th>                   <td>OLS</td>       <th>  Adj. R-squared:    </th> <td>   0.930</td> \n",
       "</tr>\n",
       "<tr>\n",
       "  <th>Method:</th>             <td>Least Squares</td>  <th>  F-statistic:       </th> <td>3.614e+04</td>\n",
       "</tr>\n",
       "<tr>\n",
       "  <th>Date:</th>             <td>Thu, 04 Apr 2024</td> <th>  Prob (F-statistic):</th>  <td>  0.00</td>  \n",
       "</tr>\n",
       "<tr>\n",
       "  <th>Time:</th>                 <td>01:23:44</td>     <th>  Log-Likelihood:    </th> <td> -63615.</td> \n",
       "</tr>\n",
       "<tr>\n",
       "  <th>No. Observations:</th>      <td> 16288</td>      <th>  AIC:               </th> <td>1.272e+05</td>\n",
       "</tr>\n",
       "<tr>\n",
       "  <th>Df Residuals:</th>          <td> 16281</td>      <th>  BIC:               </th> <td>1.273e+05</td>\n",
       "</tr>\n",
       "<tr>\n",
       "  <th>Df Model:</th>              <td>     6</td>      <th>                     </th>     <td> </td>    \n",
       "</tr>\n",
       "<tr>\n",
       "  <th>Covariance Type:</th>      <td>nonrobust</td>    <th>                     </th>     <td> </td>    \n",
       "</tr>\n",
       "</table>\n",
       "<table class=\"simpletable\">\n",
       "<tr>\n",
       "            <td></td>              <th>coef</th>     <th>std err</th>      <th>t</th>      <th>P>|t|</th>  <th>[0.025</th>    <th>0.975]</th>  \n",
       "</tr>\n",
       "<tr>\n",
       "  <th>const</th>                <td>    3.7878</td> <td>    0.104</td> <td>   36.418</td> <td> 0.000</td> <td>    3.584</td> <td>    3.992</td>\n",
       "</tr>\n",
       "<tr>\n",
       "  <th>campaign_platform</th>    <td>   -6.8829</td> <td>    0.465</td> <td>  -14.813</td> <td> 0.000</td> <td>   -7.794</td> <td>   -5.972</td>\n",
       "</tr>\n",
       "<tr>\n",
       "  <th>campaign_type</th>        <td>   -6.8829</td> <td>    0.465</td> <td>  -14.813</td> <td> 0.000</td> <td>   -7.794</td> <td>   -5.972</td>\n",
       "</tr>\n",
       "<tr>\n",
       "  <th>communication_medium</th> <td>   -6.8829</td> <td>    0.465</td> <td>  -14.813</td> <td> 0.000</td> <td>   -7.794</td> <td>   -5.972</td>\n",
       "</tr>\n",
       "<tr>\n",
       "  <th>creative_type</th>        <td>    8.6970</td> <td>    1.498</td> <td>    5.804</td> <td> 0.000</td> <td>    5.760</td> <td>   11.634</td>\n",
       "</tr>\n",
       "<tr>\n",
       "  <th>creative_name</th>        <td>    1.0827</td> <td>    0.896</td> <td>    1.209</td> <td> 0.227</td> <td>   -0.673</td> <td>    2.838</td>\n",
       "</tr>\n",
       "<tr>\n",
       "  <th>spends</th>               <td>    0.0347</td> <td>    0.000</td> <td>  119.238</td> <td> 0.000</td> <td>    0.034</td> <td>    0.035</td>\n",
       "</tr>\n",
       "<tr>\n",
       "  <th>impressions</th>          <td>   -0.0005</td> <td>    0.000</td> <td>   -2.951</td> <td> 0.003</td> <td>   -0.001</td> <td>   -0.000</td>\n",
       "</tr>\n",
       "<tr>\n",
       "  <th>link_clicks</th>          <td>    1.6898</td> <td>    0.020</td> <td>   83.667</td> <td> 0.000</td> <td>    1.650</td> <td>    1.729</td>\n",
       "</tr>\n",
       "</table>\n",
       "<table class=\"simpletable\">\n",
       "<tr>\n",
       "  <th>Omnibus:</th>       <td>12577.677</td> <th>  Durbin-Watson:     </th>  <td>   0.988</td> \n",
       "</tr>\n",
       "<tr>\n",
       "  <th>Prob(Omnibus):</th>  <td> 0.000</td>   <th>  Jarque-Bera (JB):  </th> <td>604344.915</td>\n",
       "</tr>\n",
       "<tr>\n",
       "  <th>Skew:</th>           <td> 3.288</td>   <th>  Prob(JB):          </th>  <td>    0.00</td> \n",
       "</tr>\n",
       "<tr>\n",
       "  <th>Kurtosis:</th>       <td>32.107</td>   <th>  Cond. No.          </th>  <td>1.58e+19</td> \n",
       "</tr>\n",
       "</table><br/><br/>Notes:<br/>[1] Standard Errors assume that the covariance matrix of the errors is correctly specified.<br/>[2] The smallest eigenvalue is 4.17e-28. This might indicate that there are<br/>strong multicollinearity problems or that the design matrix is singular."
      ],
      "text/latex": [
       "\\begin{center}\n",
       "\\begin{tabular}{lclc}\n",
       "\\toprule\n",
       "\\textbf{Dep. Variable:}        &      clicks      & \\textbf{  R-squared:         } &     0.930   \\\\\n",
       "\\textbf{Model:}                &       OLS        & \\textbf{  Adj. R-squared:    } &     0.930   \\\\\n",
       "\\textbf{Method:}               &  Least Squares   & \\textbf{  F-statistic:       } & 3.614e+04   \\\\\n",
       "\\textbf{Date:}                 & Thu, 04 Apr 2024 & \\textbf{  Prob (F-statistic):} &     0.00    \\\\\n",
       "\\textbf{Time:}                 &     01:23:44     & \\textbf{  Log-Likelihood:    } &   -63615.   \\\\\n",
       "\\textbf{No. Observations:}     &       16288      & \\textbf{  AIC:               } & 1.272e+05   \\\\\n",
       "\\textbf{Df Residuals:}         &       16281      & \\textbf{  BIC:               } & 1.273e+05   \\\\\n",
       "\\textbf{Df Model:}             &           6      & \\textbf{                     } &             \\\\\n",
       "\\textbf{Covariance Type:}      &    nonrobust     & \\textbf{                     } &             \\\\\n",
       "\\bottomrule\n",
       "\\end{tabular}\n",
       "\\begin{tabular}{lcccccc}\n",
       "                               & \\textbf{coef} & \\textbf{std err} & \\textbf{t} & \\textbf{P$> |$t$|$} & \\textbf{[0.025} & \\textbf{0.975]}  \\\\\n",
       "\\midrule\n",
       "\\textbf{const}                 &       3.7878  &        0.104     &    36.418  &         0.000        &        3.584    &        3.992     \\\\\n",
       "\\textbf{campaign\\_platform}    &      -6.8829  &        0.465     &   -14.813  &         0.000        &       -7.794    &       -5.972     \\\\\n",
       "\\textbf{campaign\\_type}        &      -6.8829  &        0.465     &   -14.813  &         0.000        &       -7.794    &       -5.972     \\\\\n",
       "\\textbf{communication\\_medium} &      -6.8829  &        0.465     &   -14.813  &         0.000        &       -7.794    &       -5.972     \\\\\n",
       "\\textbf{creative\\_type}        &       8.6970  &        1.498     &     5.804  &         0.000        &        5.760    &       11.634     \\\\\n",
       "\\textbf{creative\\_name}        &       1.0827  &        0.896     &     1.209  &         0.227        &       -0.673    &        2.838     \\\\\n",
       "\\textbf{spends}                &       0.0347  &        0.000     &   119.238  &         0.000        &        0.034    &        0.035     \\\\\n",
       "\\textbf{impressions}           &      -0.0005  &        0.000     &    -2.951  &         0.003        &       -0.001    &       -0.000     \\\\\n",
       "\\textbf{link\\_clicks}          &       1.6898  &        0.020     &    83.667  &         0.000        &        1.650    &        1.729     \\\\\n",
       "\\bottomrule\n",
       "\\end{tabular}\n",
       "\\begin{tabular}{lclc}\n",
       "\\textbf{Omnibus:}       & 12577.677 & \\textbf{  Durbin-Watson:     } &     0.988   \\\\\n",
       "\\textbf{Prob(Omnibus):} &    0.000  & \\textbf{  Jarque-Bera (JB):  } & 604344.915  \\\\\n",
       "\\textbf{Skew:}          &    3.288  & \\textbf{  Prob(JB):          } &      0.00   \\\\\n",
       "\\textbf{Kurtosis:}      &   32.107  & \\textbf{  Cond. No.          } &  1.58e+19   \\\\\n",
       "\\bottomrule\n",
       "\\end{tabular}\n",
       "%\\caption{OLS Regression Results}\n",
       "\\end{center}\n",
       "\n",
       "Notes: \\newline\n",
       " [1] Standard Errors assume that the covariance matrix of the errors is correctly specified. \\newline\n",
       " [2] The smallest eigenvalue is 4.17e-28. This might indicate that there are \\newline\n",
       " strong multicollinearity problems or that the design matrix is singular."
      ],
      "text/plain": [
       "<class 'statsmodels.iolib.summary.Summary'>\n",
       "\"\"\"\n",
       "                            OLS Regression Results                            \n",
       "==============================================================================\n",
       "Dep. Variable:                 clicks   R-squared:                       0.930\n",
       "Model:                            OLS   Adj. R-squared:                  0.930\n",
       "Method:                 Least Squares   F-statistic:                 3.614e+04\n",
       "Date:                Thu, 04 Apr 2024   Prob (F-statistic):               0.00\n",
       "Time:                        01:23:44   Log-Likelihood:                -63615.\n",
       "No. Observations:               16288   AIC:                         1.272e+05\n",
       "Df Residuals:                   16281   BIC:                         1.273e+05\n",
       "Df Model:                           6                                         \n",
       "Covariance Type:            nonrobust                                         \n",
       "========================================================================================\n",
       "                           coef    std err          t      P>|t|      [0.025      0.975]\n",
       "----------------------------------------------------------------------------------------\n",
       "const                    3.7878      0.104     36.418      0.000       3.584       3.992\n",
       "campaign_platform       -6.8829      0.465    -14.813      0.000      -7.794      -5.972\n",
       "campaign_type           -6.8829      0.465    -14.813      0.000      -7.794      -5.972\n",
       "communication_medium    -6.8829      0.465    -14.813      0.000      -7.794      -5.972\n",
       "creative_type            8.6970      1.498      5.804      0.000       5.760      11.634\n",
       "creative_name            1.0827      0.896      1.209      0.227      -0.673       2.838\n",
       "spends                   0.0347      0.000    119.238      0.000       0.034       0.035\n",
       "impressions             -0.0005      0.000     -2.951      0.003      -0.001      -0.000\n",
       "link_clicks              1.6898      0.020     83.667      0.000       1.650       1.729\n",
       "==============================================================================\n",
       "Omnibus:                    12577.677   Durbin-Watson:                   0.988\n",
       "Prob(Omnibus):                  0.000   Jarque-Bera (JB):           604344.915\n",
       "Skew:                           3.288   Prob(JB):                         0.00\n",
       "Kurtosis:                      32.107   Cond. No.                     1.58e+19\n",
       "==============================================================================\n",
       "\n",
       "Notes:\n",
       "[1] Standard Errors assume that the covariance matrix of the errors is correctly specified.\n",
       "[2] The smallest eigenvalue is 4.17e-28. This might indicate that there are\n",
       "strong multicollinearity problems or that the design matrix is singular.\n",
       "\"\"\""
      ]
     },
     "execution_count": 150,
     "metadata": {},
     "output_type": "execute_result"
    }
   ],
   "source": [
    "results.summary()"
   ]
  },
  {
   "cell_type": "code",
   "execution_count": 151,
   "id": "db9b0d0c-1530-46a5-92ae-ade5d373885f",
   "metadata": {},
   "outputs": [],
   "source": [
    "#dir(results)"
   ]
  },
  {
   "cell_type": "code",
   "execution_count": 152,
   "id": "cdcf190e-9ede-4463-9264-ef9eb2d05694",
   "metadata": {},
   "outputs": [],
   "source": [
    "#dir(model)"
   ]
  },
  {
   "cell_type": "code",
   "execution_count": 153,
   "id": "6d8d6dee-24e4-4092-a87b-a036bcc6638d",
   "metadata": {},
   "outputs": [
    {
     "data": {
      "text/html": [
       "<div>\n",
       "<style scoped>\n",
       "    .dataframe tbody tr th:only-of-type {\n",
       "        vertical-align: middle;\n",
       "    }\n",
       "\n",
       "    .dataframe tbody tr th {\n",
       "        vertical-align: top;\n",
       "    }\n",
       "\n",
       "    .dataframe thead th {\n",
       "        text-align: right;\n",
       "    }\n",
       "</style>\n",
       "<table border=\"1\" class=\"dataframe\">\n",
       "  <thead>\n",
       "    <tr style=\"text-align: right;\">\n",
       "      <th></th>\n",
       "      <th>Date</th>\n",
       "      <th>product</th>\n",
       "      <th>phase</th>\n",
       "      <th>campaign_platform</th>\n",
       "      <th>campaign_type</th>\n",
       "      <th>communication_medium</th>\n",
       "      <th>subchannel</th>\n",
       "      <th>audience_type</th>\n",
       "      <th>creative_type</th>\n",
       "      <th>creative_name</th>\n",
       "      <th>device</th>\n",
       "      <th>age</th>\n",
       "      <th>spends</th>\n",
       "      <th>impressions</th>\n",
       "      <th>clicks</th>\n",
       "      <th>link_clicks</th>\n",
       "    </tr>\n",
       "  </thead>\n",
       "  <tbody>\n",
       "    <tr>\n",
       "      <th>0</th>\n",
       "      <td>2019-10-16</td>\n",
       "      <td>Product 1</td>\n",
       "      <td>Performance</td>\n",
       "      <td>Google Ads</td>\n",
       "      <td>Search</td>\n",
       "      <td>Search Keywords</td>\n",
       "      <td>Brand</td>\n",
       "      <td>Audience 4</td>\n",
       "      <td>Unique</td>\n",
       "      <td>other</td>\n",
       "      <td>Desktop</td>\n",
       "      <td>18-24</td>\n",
       "      <td>0.0</td>\n",
       "      <td>2</td>\n",
       "      <td>0</td>\n",
       "      <td>0.0</td>\n",
       "    </tr>\n",
       "    <tr>\n",
       "      <th>1</th>\n",
       "      <td>2019-10-16</td>\n",
       "      <td>Product 1</td>\n",
       "      <td>Performance</td>\n",
       "      <td>Google Ads</td>\n",
       "      <td>Search</td>\n",
       "      <td>Search Keywords</td>\n",
       "      <td>Brand</td>\n",
       "      <td>Audience 4</td>\n",
       "      <td>Unique</td>\n",
       "      <td>other</td>\n",
       "      <td>Desktop</td>\n",
       "      <td>25-34</td>\n",
       "      <td>0.0</td>\n",
       "      <td>5</td>\n",
       "      <td>0</td>\n",
       "      <td>0.0</td>\n",
       "    </tr>\n",
       "  </tbody>\n",
       "</table>\n",
       "</div>"
      ],
      "text/plain": [
       "         Date    product        phase campaign_platform campaign_type  \\\n",
       "0  2019-10-16  Product 1  Performance        Google Ads        Search   \n",
       "1  2019-10-16  Product 1  Performance        Google Ads        Search   \n",
       "\n",
       "  communication_medium subchannel audience_type creative_type creative_name  \\\n",
       "0      Search Keywords      Brand    Audience 4        Unique         other   \n",
       "1      Search Keywords      Brand    Audience 4        Unique         other   \n",
       "\n",
       "    device    age  spends  impressions  clicks  link_clicks  \n",
       "0  Desktop  18-24     0.0            2       0          0.0  \n",
       "1  Desktop  25-34     0.0            5       0          0.0  "
      ]
     },
     "execution_count": 153,
     "metadata": {},
     "output_type": "execute_result"
    }
   ],
   "source": [
    "df2.head(2)"
   ]
  },
  {
   "cell_type": "code",
   "execution_count": 154,
   "id": "6df59ab9-52fb-4bef-afe6-77cca711e607",
   "metadata": {},
   "outputs": [
    {
     "data": {
      "image/png": "[encoded data removed]",
      "text/plain": [
       "<Figure size 640x480 with 1 Axes>"
      ]
     },
     "metadata": {},
     "output_type": "display_data"
    }
   ],
   "source": [
    "x=df2.campaign_platform\n",
    "y=df2.clicks\n",
    "plt.xlabel(\"Campaign Platform\")\n",
    "plt.ylabel(\"Clicks\")\n",
    "plt.bar(x,y)\n",
    "plt.grid()\n",
    "plt.show()"
   ]
  },
  {
   "cell_type": "code",
   "execution_count": 155,
   "id": "f215e037-9e1c-4712-8a44-dca316990b60",
   "metadata": {},
   "outputs": [
    {
     "data": {
      "text/plain": [
       "array(['18-24', '25-34', '35-44', 'Undetermined', '45-54', '55-64',\n",
       "       '65 or more'], dtype=object)"
      ]
     },
     "execution_count": 155,
     "metadata": {},
     "output_type": "execute_result"
    }
   ],
   "source": [
    "df2.age.unique()"
   ]
  },
  {
   "cell_type": "code",
   "execution_count": null,
   "id": "1eae7e9d-a275-4c3c-8094-42dcef868edd",
   "metadata": {},
   "outputs": [],
   "source": [
    "\n"
   ]
  },
  {
   "cell_type": "code",
   "execution_count": 156,
   "id": "b8525715-1fa7-4a93-9406-ed44b914deb5",
   "metadata": {},
   "outputs": [
    {
     "data": {
      "image/png": "[encoded data removed]",
      "text/plain": [
       "<Figure size 640x480 with 1 Axes>"
      ]
     },
     "metadata": {},
     "output_type": "display_data"
    }
   ],
   "source": [
    "x=df2.age\n",
    "y=df2.clicks\n",
    "plt.xlabel(\"Age Group\")\n",
    "plt.ylabel(\"Clicks\")\n",
    "plt.bar(x,y)\n",
    "plt.grid()\n",
    "plt.show()"
   ]
  },
  {
   "cell_type": "code",
   "execution_count": 157,
   "id": "fb4540a0-df01-49f0-823d-e2fa0aa7da5c",
   "metadata": {},
   "outputs": [
    {
     "data": {
      "image/png": "[encoded data removed]",
      "text/plain": [
       "<Figure size 640x480 with 1 Axes>"
      ]
     },
     "metadata": {},
     "output_type": "display_data"
    }
   ],
   "source": [
    "x=df2.campaign_type\n",
    "y=df2.clicks\n",
    "plt.xlabel(\"Campaign Type\")\n",
    "plt.ylabel(\"Clicks\")\n",
    "plt.bar(x,y)\n",
    "plt.grid()\n",
    "plt.show()"
   ]
  },
  {
   "cell_type": "code",
   "execution_count": 158,
   "id": "6ce837dc-0b50-4b85-ae24-3023909760c7",
   "metadata": {},
   "outputs": [
    {
     "data": {
      "image/png": "[encoded data removed]",
      "text/plain": [
       "<Figure size 640x480 with 1 Axes>"
      ]
     },
     "metadata": {},
     "output_type": "display_data"
    }
   ],
   "source": [
    "y=df2.clicks\n",
    "x=df2.communication_medium\n",
    "plt.ylabel(\"clicks\")\n",
    "plt.xlabel(\"communication_medium\")\n",
    "plt.bar(x,y)\n",
    "plt.grid()\n",
    "plt.show()"
   ]
  },
  {
   "cell_type": "code",
   "execution_count": 159,
   "id": "82bdfe85-0e46-42ae-ab6d-5503970bb21d",
   "metadata": {},
   "outputs": [
    {
     "data": {
      "text/plain": [
       "Index(['Date', 'product', 'phase', 'campaign_platform', 'campaign_type',\n",
       "       'communication_medium', 'subchannel', 'audience_type', 'creative_type',\n",
       "       'creative_name', 'device', 'age', 'spends', 'impressions', 'clicks',\n",
       "       'link_clicks'],\n",
       "      dtype='object')"
      ]
     },
     "execution_count": 159,
     "metadata": {},
     "output_type": "execute_result"
    }
   ],
   "source": [
    "df2.columns"
   ]
  },
  {
   "cell_type": "code",
   "execution_count": 160,
   "id": "6247bd21-a502-49f0-88be-6b5bb2b57f7e",
   "metadata": {},
   "outputs": [
    {
     "data": {
      "image/png": "[encoded data removed]",
      "text/plain": [
       "<Figure size 640x480 with 1 Axes>"
      ]
     },
     "metadata": {},
     "output_type": "display_data"
    }
   ],
   "source": [
    "x=df2.creative_name\n",
    "y=df2.clicks\n",
    "plt.xlabel(\"Creative name\")\n",
    "plt.ylabel(\"Clicks\")\n",
    "plt.bar(x,y)\n",
    "plt.grid()\n",
    "plt.show()"
   ]
  },
  {
   "cell_type": "code",
   "execution_count": 161,
   "id": "9e68e2ab-8710-4672-b435-fb0d500abcf1",
   "metadata": {},
   "outputs": [
    {
     "data": {
      "image/png": "[encoded data removed]",
      "text/plain": [
       "<Figure size 640x480 with 1 Axes>"
      ]
     },
     "metadata": {},
     "output_type": "display_data"
    }
   ],
   "source": [
    "x=df2.creative_type\n",
    "y=df2.clicks\n",
    "plt.xlabel(\"Creative Type\")\n",
    "plt.ylabel(\"Clicks\")\n",
    "plt.bar(x,y)\n",
    "plt.grid()\n",
    "plt.show()"
   ]
  },
  {
   "cell_type": "code",
   "execution_count": null,
   "id": "42487ae5-f67d-42ed-a4e4-ee7ab00c1261",
   "metadata": {},
   "outputs": [],
   "source": []
  },
  {
   "cell_type": "code",
   "execution_count": null,
   "id": "08eb5598-9694-47ca-817c-4a089d2c884b",
   "metadata": {},
   "outputs": [],
   "source": []
  },
  {
   "cell_type": "code",
   "execution_count": null,
   "id": "ddf9ec4e-3a9c-481b-8a5b-266fd6665ba8",
   "metadata": {},
   "outputs": [],
   "source": []
  },
  {
   "cell_type": "code",
   "execution_count": null,
   "id": "706815c3-499f-425e-b4b9-8904cdce5658",
   "metadata": {},
   "outputs": [],
   "source": []
  },
  {
   "cell_type": "code",
   "execution_count": null,
   "id": "a6a0a673-ad91-45d5-b691-5c4592f611d6",
   "metadata": {},
   "outputs": [],
   "source": []
  }
 ],
 "metadata": {
  "kernelspec": {
   "display_name": "Python 3 (ipykernel)",
   "language": "python",
   "name": "python3"
  },
  "language_info": {
   "codemirror_mode": {
    "name": "ipython",
    "version": 3
   },
   "file_extension": ".py",
   "mimetype": "text/x-python",
   "name": "python",
   "nbconvert_exporter": "python",
   "pygments_lexer": "ipython3",
   "version": "3.12.1"
  }
 },
 "nbformat": 4,
 "nbformat_minor": 5
}
